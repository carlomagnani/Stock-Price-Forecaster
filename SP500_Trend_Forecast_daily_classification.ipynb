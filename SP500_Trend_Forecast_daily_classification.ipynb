{
  "cells": [
    {
      "cell_type": "markdown",
      "metadata": {
        "id": "view-in-github",
        "colab_type": "text"
      },
      "source": [
        "<a href=\"https://colab.research.google.com/github/carlomagnani/Stock-Price-Forecaster/blob/main/SP500_Trend_Forecast_daily_classification.ipynb\" target=\"_parent\"><img src=\"https://colab.research.google.com/assets/colab-badge.svg\" alt=\"Open In Colab\"/></a>"
      ]
    },
    {
      "cell_type": "code",
      "execution_count": 2,
      "metadata": {
        "colab": {
          "base_uri": "https://localhost:8080/"
        },
        "id": "KXjQW1eQC8go",
        "outputId": "90a71c50-b667-4e20-db2a-9893a707e4da"
      },
      "outputs": [
        {
          "output_type": "stream",
          "name": "stdout",
          "text": [
            "Tensorflow version: 2.8.0\n",
            "Mounted at /GoogleDrive\n"
          ]
        }
      ],
      "source": [
        "import tensorflow as tf\n",
        "from tensorflow import keras\n",
        "import pandas as pd\n",
        "import matplotlib.pyplot as plt\n",
        "import time\n",
        "import numpy as np\n",
        "\n",
        "print(\"Tensorflow version: \"+tf.__version__)\n",
        "\n",
        "#! pip install pmdarima\n",
        "\n",
        "# Google file system\n",
        "from google.colab import drive\n",
        "from sklearn.preprocessing import MinMaxScaler\n",
        "\n",
        "drive.mount('/GoogleDrive', force_remount=True)\n",
        "\n",
        "import math\n",
        "\n",
        "file =   \"/GoogleDrive/My Drive/S&P.xlsx\"\n",
        "dataset = pd.read_excel(file, sheet_name=\"ts\")"
      ]
    },
    {
      "cell_type": "code",
      "execution_count": 3,
      "metadata": {
        "id": "PckS0gmMDI0a"
      },
      "outputs": [],
      "source": [
        "#Date to Datetime for Plotting\n",
        "dataset['date'] = pd.to_datetime(dataset['date'])\n",
        "\n",
        "#Returns\n",
        "dataset['log_value'] = np.log(dataset['time'])\n",
        "dataset['log_ret'] = dataset['log_value'] - dataset['log_value'].shift(+1)\n",
        "dataset['lead_ret'] = dataset['log_ret'].shift(-1)\n",
        "dataset['lead_weekly_ret'] = dataset['log_ret'].rolling(5).sum().shift(-5)\n",
        "dataset['lag_weekly_ret'] = dataset['log_ret'].rolling(5).sum()\n",
        "\n",
        "#Returns Classes\n",
        "dataset['log_ret_class'] = np.where(dataset['log_ret']>0,1,0) #Log Return Class\n",
        "dataset['lag_weekly_ret_class'] = np.where(dataset['lag_weekly_ret']>0,1,0) #T to T-5 Return Class\n",
        "dataset['lead_weekly_ret_class'] = np.where(dataset['lead_weekly_ret']> 0, 1, 0) #Target Class\n",
        "dataset['lead_ret_class'] = np.where(dataset['lead_ret']> 0, 1, 0) #Next Day Return Class\n",
        "\n",
        "#Simple Moving Averages\n",
        "dataset['sma_3'] = dataset['log_value'].rolling(3).mean()\n",
        "dataset['sma_5'] = dataset['log_value'].rolling(5).mean()\n",
        "dataset['sma_10'] = dataset['log_value'].rolling(10).mean()\n",
        "dataset['sma_20'] = dataset['log_value'].rolling(20).mean()\n",
        "dataset['sma_50'] = dataset['log_value'].rolling(50).mean()\n",
        "dataset['sma_100'] = dataset['log_value'].rolling(100).mean()\n",
        "dataset['sma_200'] = dataset['log_value'].rolling(200).mean()\n",
        "\n",
        "#Exponentially Weighted Variance \n",
        "dataset['sq_ret'] = np.power(dataset['log_ret'],2)\n",
        "dataset['ewma_var'] = dataset['sq_ret'].ewm(alpha = 0.96).mean() #Uses the RiskMetrics 0.96 decay factor\n",
        "\n",
        "#Exponentially Weighted Moving Averages\n",
        "dataset['ema_200'] = dataset['log_value'].ewm(alpha = 0.01).mean()\n",
        "dataset['ema_50'] = dataset['log_value'].ewm(alpha = 0.0392).mean()\n",
        "dataset['ema_10'] = dataset['log_value'].ewm(alpha = 0.181).mean()\n",
        "dataset['ema_3'] = dataset['log_value'].ewm(alpha = 0.5).mean()\n",
        "\n",
        "#Drop Time and NAs\n",
        "dataset.pop('time')\n",
        "\n",
        "dataset.dropna(inplace = True)"
      ]
    },
    {
      "cell_type": "code",
      "execution_count": 46,
      "metadata": {
        "colab": {
          "base_uri": "https://localhost:8080/",
          "height": 285
        },
        "id": "lZN5RclCDeMw",
        "outputId": "8dc6c0c5-a5bd-4c51-d443-6cce0852a92a"
      },
      "outputs": [
        {
          "output_type": "execute_result",
          "data": {
            "text/plain": [
              "[<matplotlib.lines.Line2D at 0x7f4e966f5290>]"
            ]
          },
          "metadata": {},
          "execution_count": 46
        },
        {
          "output_type": "display_data",
          "data": {
            "text/plain": [
              "<Figure size 432x288 with 1 Axes>"
            ],
            "image/png": "[encoded data removed]"
          },
          "metadata": {
            "needs_background": "light"
          }
        }
      ],
      "source": [
        "#Some Plotting to check variables\n",
        "#plt.plot(dataset['log_value'])\n",
        "#plt.plot(dataset['ma_3'])\n",
        "#plt.plot(dataset['ma_20'])\n",
        "plt.plot(dataset['log_ret'])\n",
        "plt.plot(dataset['ewma_var'])"
      ]
    },
    {
      "cell_type": "code",
      "execution_count": 4,
      "metadata": {
        "id": "ZTHpCjotRCLV"
      },
      "outputs": [],
      "source": [
        "#Signal Generation\n",
        "\n",
        "#Momentum Rule\n",
        "dataset['momentum_120'] = dataset['log_value'] - dataset['log_value'].shift(+200)\n",
        "dataset['momentum_121'] = dataset['log_value'].shift(+20) - dataset['log_value'].shift(+200)\n",
        "dataset['momentum_61'] = dataset['log_value'].shift(+20) - dataset['log_value'].shift(+100)\n",
        "\n",
        "dataset['mom_120_rule'] = np.where(dataset['momentum_120']> 0, 1, 0)\n",
        "dataset['mom_121_rule'] = np.where(dataset['momentum_121']> 0, 1, 0)\n",
        "dataset['mom_61_rule'] = np.where(dataset['momentum_61']> 0, 1, 0)\n",
        "\n",
        "#MA Change of Direction Rule\n",
        "\n",
        "dataset['ma_200_cd_rule'] = np.where((dataset['sma_200']- dataset['sma_200'].shift(+1))>0,1,0)\n",
        "dataset['ma_20_cd_rule'] = np.where((dataset['sma_20']- dataset['sma_20'].shift(+1))>0,1,0)\n",
        "\n",
        "#PMA Rule\n",
        "\n",
        "dataset['pma_20'] = dataset['log_value'] - dataset['sma_20']      \n",
        "dataset['pma_100'] = dataset['log_value'] - dataset['sma_100']\n",
        "dataset['pma_200'] = dataset['log_value'] - dataset['sma_200']\n",
        "\n",
        "dataset['pma_20_rule'] = np.where(dataset['pma_20']>0, 1, 0)\n",
        "dataset['pma_100_rule'] = np.where(dataset['pma_100']>0, 1, 0)\n",
        "dataset['pma_200_rule'] = np.where(dataset['pma_200']>0, 1, 0)\n",
        "\n",
        "#MA Crossover Rule\n",
        "\n",
        "dataset['mac_3_10'] = dataset['sma_3'] - dataset['sma_10']\n",
        "dataset['mac_50_200'] = dataset['sma_50'] - dataset['sma_200']\n",
        "\n",
        "dataset['mac_3_10_rule'] = np.where(dataset['mac_3_10']>0, 1, 0)\n",
        "dataset['mac_50_200_rule'] = np.where(dataset['mac_50_200']>0, 1, 0)\n",
        "\n",
        "#Ma Convergence/Divergence Rule\n",
        "\n",
        "dataset['mac_ema_50_200'] = dataset['ema_50'] - dataset['ema_200']\n",
        "\n",
        "dataset['ema_mac_50_200'] = dataset['mac_ema_50_200'].ewm(alpha = 0.095).mean()\n",
        "\n",
        "dataset['macd_50_200'] = dataset['mac_ema_50_200'] - dataset['ema_mac_50_200']\n",
        "\n",
        "dataset['macd_50_200_rule'] = np.where(dataset['macd_50_200']>0, 1, 0)"
      ]
    },
    {
      "cell_type": "code",
      "execution_count": 5,
      "metadata": {
        "colab": {
          "base_uri": "https://localhost:8080/",
          "height": 592
        },
        "id": "ez679axgxg8a",
        "outputId": "f94c4b3c-a789-4cdd-a1b8-07b07e3ce94e"
      },
      "outputs": [
        {
          "output_type": "stream",
          "name": "stdout",
          "text": [
            "['lead_ret_class', 'log_ret_class', 'lag_weekly_ret_class', 'ewma_var', 'mom_120_rule', 'mom_121_rule', 'mom_61_rule', 'ma_200_cd_rule', 'ma_20_cd_rule', 'pma_20_rule', 'pma_100_rule', 'pma_200_rule', 'mac_3_10_rule', 'mac_50_200_rule', 'macd_50_200_rule']\n"
          ]
        },
        {
          "output_type": "stream",
          "name": "stderr",
          "text": [
            "/usr/local/lib/python3.7/dist-packages/pandas/util/_decorators.py:311: SettingWithCopyWarning: \n",
            "A value is trying to be set on a copy of a slice from a DataFrame\n",
            "\n",
            "See the caveats in the documentation: https://pandas.pydata.org/pandas-docs/stable/user_guide/indexing.html#returning-a-view-versus-a-copy\n",
            "  return func(*args, **kwargs)\n"
          ]
        },
        {
          "output_type": "execute_result",
          "data": {
            "text/plain": [
              "       lead_ret_class  log_ret_class  lag_weekly_ret_class  ewma_var  \\\n",
              "199                 1              1                     1  0.000012   \n",
              "200                 1              1                     1  0.000010   \n",
              "201                 1              1                     1  0.000005   \n",
              "202                 0              1                     1  0.000029   \n",
              "203                 1              0                     1  0.000046   \n",
              "...               ...            ...                   ...       ...   \n",
              "23652               0              1                     1  0.000479   \n",
              "23653               0              0                     1  0.000025   \n",
              "23654               1              0                     1  0.000234   \n",
              "23655               0              1                     1  0.000337   \n",
              "23656               0              0                     1  0.000040   \n",
              "\n",
              "       mom_120_rule  mom_121_rule  mom_61_rule  ma_200_cd_rule  ma_20_cd_rule  \\\n",
              "199               0             0            0               0              0   \n",
              "200               0             0            0               1              1   \n",
              "201               0             0            0               1              1   \n",
              "202               0             0            0               1              1   \n",
              "203               0             0            0               1              1   \n",
              "...             ...           ...          ...             ...            ...   \n",
              "23652             1             1            1               1              1   \n",
              "23653             1             1            1               1              0   \n",
              "23654             1             1            1               1              0   \n",
              "23655             1             1            1               1              0   \n",
              "23656             1             1            1               1              0   \n",
              "\n",
              "       pma_20_rule  pma_100_rule  pma_200_rule  mac_3_10_rule  \\\n",
              "199              1             1             1              1   \n",
              "200              1             1             1              1   \n",
              "201              1             1             1              1   \n",
              "202              1             1             1              1   \n",
              "203              1             1             1              1   \n",
              "...            ...           ...           ...            ...   \n",
              "23652            0             0             0              0   \n",
              "23653            0             0             0              0   \n",
              "23654            0             0             0              0   \n",
              "23655            0             0             0              1   \n",
              "23656            0             0             0              1   \n",
              "\n",
              "       mac_50_200_rule  macd_50_200_rule  \n",
              "199                  1                 0  \n",
              "200                  1                 1  \n",
              "201                  1                 1  \n",
              "202                  1                 1  \n",
              "203                  1                 1  \n",
              "...                ...               ...  \n",
              "23652                1                 0  \n",
              "23653                1                 0  \n",
              "23654                1                 0  \n",
              "23655                1                 0  \n",
              "23656                1                 0  \n",
              "\n",
              "[23458 rows x 15 columns]"
            ],
            "text/html": [
              "\n",
              "  <div id=\"df-7bd86929-ccbc-4249-9ac2-98fac0251eb3\">\n",
              "    <div class=\"colab-df-container\">\n",
              "      <div>\n",
              "<style scoped>\n",
              "    .dataframe tbody tr th:only-of-type {\n",
              "        vertical-align: middle;\n",
              "    }\n",
              "\n",
              "    .dataframe tbody tr th {\n",
              "        vertical-align: top;\n",
              "    }\n",
              "\n",
              "    .dataframe thead th {\n",
              "        text-align: right;\n",
              "    }\n",
              "</style>\n",
              "<table border=\"1\" class=\"dataframe\">\n",
              "  <thead>\n",
              "    <tr style=\"text-align: right;\">\n",
              "      <th></th>\n",
              "      <th>lead_ret_class</th>\n",
              "      <th>log_ret_class</th>\n",
              "      <th>lag_weekly_ret_class</th>\n",
              "      <th>ewma_var</th>\n",
              "      <th>mom_120_rule</th>\n",
              "      <th>mom_121_rule</th>\n",
              "      <th>mom_61_rule</th>\n",
              "      <th>ma_200_cd_rule</th>\n",
              "      <th>ma_20_cd_rule</th>\n",
              "      <th>pma_20_rule</th>\n",
              "      <th>pma_100_rule</th>\n",
              "      <th>pma_200_rule</th>\n",
              "      <th>mac_3_10_rule</th>\n",
              "      <th>mac_50_200_rule</th>\n",
              "      <th>macd_50_200_rule</th>\n",
              "    </tr>\n",
              "  </thead>\n",
              "  <tbody>\n",
              "    <tr>\n",
              "      <th>199</th>\n",
              "      <td>1</td>\n",
              "      <td>1</td>\n",
              "      <td>1</td>\n",
              "      <td>0.000012</td>\n",
              "      <td>0</td>\n",
              "      <td>0</td>\n",
              "      <td>0</td>\n",
              "      <td>0</td>\n",
              "      <td>0</td>\n",
              "      <td>1</td>\n",
              "      <td>1</td>\n",
              "      <td>1</td>\n",
              "      <td>1</td>\n",
              "      <td>1</td>\n",
              "      <td>0</td>\n",
              "    </tr>\n",
              "    <tr>\n",
              "      <th>200</th>\n",
              "      <td>1</td>\n",
              "      <td>1</td>\n",
              "      <td>1</td>\n",
              "      <td>0.000010</td>\n",
              "      <td>0</td>\n",
              "      <td>0</td>\n",
              "      <td>0</td>\n",
              "      <td>1</td>\n",
              "      <td>1</td>\n",
              "      <td>1</td>\n",
              "      <td>1</td>\n",
              "      <td>1</td>\n",
              "      <td>1</td>\n",
              "      <td>1</td>\n",
              "      <td>1</td>\n",
              "    </tr>\n",
              "    <tr>\n",
              "      <th>201</th>\n",
              "      <td>1</td>\n",
              "      <td>1</td>\n",
              "      <td>1</td>\n",
              "      <td>0.000005</td>\n",
              "      <td>0</td>\n",
              "      <td>0</td>\n",
              "      <td>0</td>\n",
              "      <td>1</td>\n",
              "      <td>1</td>\n",
              "      <td>1</td>\n",
              "      <td>1</td>\n",
              "      <td>1</td>\n",
              "      <td>1</td>\n",
              "      <td>1</td>\n",
              "      <td>1</td>\n",
              "    </tr>\n",
              "    <tr>\n",
              "      <th>202</th>\n",
              "      <td>0</td>\n",
              "      <td>1</td>\n",
              "      <td>1</td>\n",
              "      <td>0.000029</td>\n",
              "      <td>0</td>\n",
              "      <td>0</td>\n",
              "      <td>0</td>\n",
              "      <td>1</td>\n",
              "      <td>1</td>\n",
              "      <td>1</td>\n",
              "      <td>1</td>\n",
              "      <td>1</td>\n",
              "      <td>1</td>\n",
              "      <td>1</td>\n",
              "      <td>1</td>\n",
              "    </tr>\n",
              "    <tr>\n",
              "      <th>203</th>\n",
              "      <td>1</td>\n",
              "      <td>0</td>\n",
              "      <td>1</td>\n",
              "      <td>0.000046</td>\n",
              "      <td>0</td>\n",
              "      <td>0</td>\n",
              "      <td>0</td>\n",
              "      <td>1</td>\n",
              "      <td>1</td>\n",
              "      <td>1</td>\n",
              "      <td>1</td>\n",
              "      <td>1</td>\n",
              "      <td>1</td>\n",
              "      <td>1</td>\n",
              "      <td>1</td>\n",
              "    </tr>\n",
              "    <tr>\n",
              "      <th>...</th>\n",
              "      <td>...</td>\n",
              "      <td>...</td>\n",
              "      <td>...</td>\n",
              "      <td>...</td>\n",
              "      <td>...</td>\n",
              "      <td>...</td>\n",
              "      <td>...</td>\n",
              "      <td>...</td>\n",
              "      <td>...</td>\n",
              "      <td>...</td>\n",
              "      <td>...</td>\n",
              "      <td>...</td>\n",
              "      <td>...</td>\n",
              "      <td>...</td>\n",
              "      <td>...</td>\n",
              "    </tr>\n",
              "    <tr>\n",
              "      <th>23652</th>\n",
              "      <td>0</td>\n",
              "      <td>1</td>\n",
              "      <td>1</td>\n",
              "      <td>0.000479</td>\n",
              "      <td>1</td>\n",
              "      <td>1</td>\n",
              "      <td>1</td>\n",
              "      <td>1</td>\n",
              "      <td>1</td>\n",
              "      <td>0</td>\n",
              "      <td>0</td>\n",
              "      <td>0</td>\n",
              "      <td>0</td>\n",
              "      <td>1</td>\n",
              "      <td>0</td>\n",
              "    </tr>\n",
              "    <tr>\n",
              "      <th>23653</th>\n",
              "      <td>0</td>\n",
              "      <td>0</td>\n",
              "      <td>1</td>\n",
              "      <td>0.000025</td>\n",
              "      <td>1</td>\n",
              "      <td>1</td>\n",
              "      <td>1</td>\n",
              "      <td>1</td>\n",
              "      <td>0</td>\n",
              "      <td>0</td>\n",
              "      <td>0</td>\n",
              "      <td>0</td>\n",
              "      <td>0</td>\n",
              "      <td>1</td>\n",
              "      <td>0</td>\n",
              "    </tr>\n",
              "    <tr>\n",
              "      <th>23654</th>\n",
              "      <td>1</td>\n",
              "      <td>0</td>\n",
              "      <td>1</td>\n",
              "      <td>0.000234</td>\n",
              "      <td>1</td>\n",
              "      <td>1</td>\n",
              "      <td>1</td>\n",
              "      <td>1</td>\n",
              "      <td>0</td>\n",
              "      <td>0</td>\n",
              "      <td>0</td>\n",
              "      <td>0</td>\n",
              "      <td>0</td>\n",
              "      <td>1</td>\n",
              "      <td>0</td>\n",
              "    </tr>\n",
              "    <tr>\n",
              "      <th>23655</th>\n",
              "      <td>0</td>\n",
              "      <td>1</td>\n",
              "      <td>1</td>\n",
              "      <td>0.000337</td>\n",
              "      <td>1</td>\n",
              "      <td>1</td>\n",
              "      <td>1</td>\n",
              "      <td>1</td>\n",
              "      <td>0</td>\n",
              "      <td>0</td>\n",
              "      <td>0</td>\n",
              "      <td>0</td>\n",
              "      <td>1</td>\n",
              "      <td>1</td>\n",
              "      <td>0</td>\n",
              "    </tr>\n",
              "    <tr>\n",
              "      <th>23656</th>\n",
              "      <td>0</td>\n",
              "      <td>0</td>\n",
              "      <td>1</td>\n",
              "      <td>0.000040</td>\n",
              "      <td>1</td>\n",
              "      <td>1</td>\n",
              "      <td>1</td>\n",
              "      <td>1</td>\n",
              "      <td>0</td>\n",
              "      <td>0</td>\n",
              "      <td>0</td>\n",
              "      <td>0</td>\n",
              "      <td>1</td>\n",
              "      <td>1</td>\n",
              "      <td>0</td>\n",
              "    </tr>\n",
              "  </tbody>\n",
              "</table>\n",
              "<p>23458 rows × 15 columns</p>\n",
              "</div>\n",
              "      <button class=\"colab-df-convert\" onclick=\"convertToInteractive('df-7bd86929-ccbc-4249-9ac2-98fac0251eb3')\"\n",
              "              title=\"Convert this dataframe to an interactive table.\"\n",
              "              style=\"display:none;\">\n",
              "        \n",
              "  <svg xmlns=\"http://www.w3.org/2000/svg\" height=\"24px\"viewBox=\"0 0 24 24\"\n",
              "       width=\"24px\">\n",
              "    <path d=\"M0 0h24v24H0V0z\" fill=\"none\"/>\n",
              "    <path d=\"M18.56 5.44l.94 2.06.94-2.06 2.06-.94-2.06-.94-.94-2.06-.94 2.06-2.06.94zm-11 1L8.5 8.5l.94-2.06 2.06-.94-2.06-.94L8.5 2.5l-.94 2.06-2.06.94zm10 10l.94 2.06.94-2.06 2.06-.94-2.06-.94-.94-2.06-.94 2.06-2.06.94z\"/><path d=\"M17.41 7.96l-1.37-1.37c-.4-.4-.92-.59-1.43-.59-.52 0-1.04.2-1.43.59L10.3 9.45l-7.72 7.72c-.78.78-.78 2.05 0 2.83L4 21.41c.39.39.9.59 1.41.59.51 0 1.02-.2 1.41-.59l7.78-7.78 2.81-2.81c.8-.78.8-2.07 0-2.86zM5.41 20L4 18.59l7.72-7.72 1.47 1.35L5.41 20z\"/>\n",
              "  </svg>\n",
              "      </button>\n",
              "      \n",
              "  <style>\n",
              "    .colab-df-container {\n",
              "      display:flex;\n",
              "      flex-wrap:wrap;\n",
              "      gap: 12px;\n",
              "    }\n",
              "\n",
              "    .colab-df-convert {\n",
              "      background-color: #E8F0FE;\n",
              "      border: none;\n",
              "      border-radius: 50%;\n",
              "      cursor: pointer;\n",
              "      display: none;\n",
              "      fill: #1967D2;\n",
              "      height: 32px;\n",
              "      padding: 0 0 0 0;\n",
              "      width: 32px;\n",
              "    }\n",
              "\n",
              "    .colab-df-convert:hover {\n",
              "      background-color: #E2EBFA;\n",
              "      box-shadow: 0px 1px 2px rgba(60, 64, 67, 0.3), 0px 1px 3px 1px rgba(60, 64, 67, 0.15);\n",
              "      fill: #174EA6;\n",
              "    }\n",
              "\n",
              "    [theme=dark] .colab-df-convert {\n",
              "      background-color: #3B4455;\n",
              "      fill: #D2E3FC;\n",
              "    }\n",
              "\n",
              "    [theme=dark] .colab-df-convert:hover {\n",
              "      background-color: #434B5C;\n",
              "      box-shadow: 0px 1px 3px 1px rgba(0, 0, 0, 0.15);\n",
              "      filter: drop-shadow(0px 1px 2px rgba(0, 0, 0, 0.3));\n",
              "      fill: #FFFFFF;\n",
              "    }\n",
              "  </style>\n",
              "\n",
              "      <script>\n",
              "        const buttonEl =\n",
              "          document.querySelector('#df-7bd86929-ccbc-4249-9ac2-98fac0251eb3 button.colab-df-convert');\n",
              "        buttonEl.style.display =\n",
              "          google.colab.kernel.accessAllowed ? 'block' : 'none';\n",
              "\n",
              "        async function convertToInteractive(key) {\n",
              "          const element = document.querySelector('#df-7bd86929-ccbc-4249-9ac2-98fac0251eb3');\n",
              "          const dataTable =\n",
              "            await google.colab.kernel.invokeFunction('convertToInteractive',\n",
              "                                                     [key], {});\n",
              "          if (!dataTable) return;\n",
              "\n",
              "          const docLinkHtml = 'Like what you see? Visit the ' +\n",
              "            '<a target=\"_blank\" href=https://colab.research.google.com/notebooks/data_table.ipynb>data table notebook</a>'\n",
              "            + ' to learn more about interactive tables.';\n",
              "          element.innerHTML = '';\n",
              "          dataTable['output_type'] = 'display_data';\n",
              "          await google.colab.output.renderOutput(dataTable, element);\n",
              "          const docLink = document.createElement('div');\n",
              "          docLink.innerHTML = docLinkHtml;\n",
              "          element.appendChild(docLink);\n",
              "        }\n",
              "      </script>\n",
              "    </div>\n",
              "  </div>\n",
              "  "
            ]
          },
          "metadata": {},
          "execution_count": 5
        }
      ],
      "source": [
        "rule_cols = [col for col in dataset.columns if 'rule' in col]\n",
        "\n",
        "col_names = ['log_ret_class', 'lag_weekly_ret_class', 'ewma_var']\n",
        "\n",
        "var_name = ['lead_ret_class']\n",
        "\n",
        "col_names =  var_name + col_names + rule_cols\n",
        "\n",
        "#var_name = ['lead_weekly_ret_class']\n",
        "\n",
        "print(col_names)\n",
        "\n",
        "model_df = dataset[col_names]\n",
        "\n",
        "model_df.dropna(inplace = True)\n",
        "\n",
        "model_df\n"
      ]
    },
    {
      "cell_type": "code",
      "execution_count": 49,
      "metadata": {
        "colab": {
          "base_uri": "https://localhost:8080/",
          "height": 363
        },
        "id": "C2HH0ddi_Mv4",
        "outputId": "c556a1ad-9997-421f-d294-75fc8d95e9ac"
      },
      "outputs": [
        {
          "output_type": "display_data",
          "data": {
            "text/plain": [
              "<Figure size 432x288 with 2 Axes>"
            ],
            "image/png": "[encoded data removed]"
          },
          "metadata": {
            "needs_background": "light"
          }
        }
      ],
      "source": [
        "#Correlation Matrix\n",
        "\n",
        "import seaborn as sn\n",
        "\n",
        "corr_mat = model_df.corr()\n",
        "sn.heatmap(corr_mat, annot=True, linewidths=.3)\n",
        "plt.show()"
      ]
    },
    {
      "cell_type": "code",
      "execution_count": 8,
      "metadata": {
        "colab": {
          "base_uri": "https://localhost:8080/"
        },
        "id": "HQY4o05CzisW",
        "outputId": "04ca1311-d97d-4981-c764-ca48ad381397"
      },
      "outputs": [
        {
          "output_type": "stream",
          "name": "stdout",
          "text": [
            "(16875, 20, 14) (16875, 1) (4688, 20, 14) (4688, 1) (1875, 20, 14) (1875, 1)\n"
          ]
        }
      ],
      "source": [
        "# Import train_test_split function\n",
        "from sklearn.model_selection import train_test_split\n",
        "\n",
        "#prepare Train-Test-Validate Dataset\n",
        "\n",
        "steps = 20\n",
        "\n",
        "ts = 0.1\n",
        "\n",
        "values = model_df.values\n",
        "\n",
        "# Creating a data structure with i time-steps and 1 output\n",
        "X = []\n",
        "y = []\n",
        "\n",
        "for i in range(steps, len(values)):\n",
        "    X.append(values[i-steps:i, 1:])\n",
        "    y.append(values[i, 0])\n",
        "\n",
        "X, y = np.array(X), np.array(y)\n",
        "\n",
        "X = np.reshape(X, (X.shape[0], X.shape[1], X.shape[2]))\n",
        "\n",
        "y = np.reshape(y, (y.shape[0],1))\n",
        "\n",
        "# Creating a data structure with i time-steps and 1 output\n",
        "train_X = []\n",
        "train_y = []\n",
        "\n",
        "test_X = []\n",
        "test_y = []\n",
        "\n",
        "validation_X = []\n",
        "validation_y = []\n",
        "\n",
        "train_X, test_X, train_y, test_y = train_test_split(X, y, test_size=0.2, random_state=1)\n",
        "\n",
        "train_X, validation_X, train_y, validation_y = train_test_split(train_X, train_y, test_size= ts, random_state=1) # 0.02 x 0.8 = 0.016\n",
        "\n",
        "print(train_X.shape, train_y.shape, test_X.shape, test_y.shape, validation_X.shape, validation_y.shape)"
      ]
    },
    {
      "cell_type": "code",
      "source": [
        "#Other Train Dev Test Set, with week ahead class and using last year as validation to see effects from Overfitting"
      ],
      "metadata": {
        "id": "rSeMfqxmLed7"
      },
      "execution_count": null,
      "outputs": []
    },
    {
      "cell_type": "code",
      "execution_count": null,
      "metadata": {
        "colab": {
          "base_uri": "https://localhost:8080/"
        },
        "id": "IN1JiQODjONU",
        "outputId": "8cf49f70-0248-4154-acb8-b9fd4576b722"
      },
      "outputs": [
        {
          "data": {
            "text/plain": [
              "array([[0.],\n",
              "       [1.],\n",
              "       [1.],\n",
              "       ...,\n",
              "       [0.],\n",
              "       [0.],\n",
              "       [1.]])"
            ]
          },
          "execution_count": 7,
          "metadata": {},
          "output_type": "execute_result"
        }
      ],
      "source": [
        "train_y"
      ]
    },
    {
      "cell_type": "code",
      "execution_count": 11,
      "metadata": {
        "colab": {
          "base_uri": "https://localhost:8080/",
          "height": 577
        },
        "id": "2cxtY9Fqirf0",
        "outputId": "dba5b115-9d4a-47a9-a82e-356a64273136"
      },
      "outputs": [
        {
          "output_type": "stream",
          "name": "stdout",
          "text": [
            "Epoch 1/100\n",
            "528/528 - 8s - loss: 0.6937 - accuracy: 0.5160 - val_loss: 0.6902 - val_accuracy: 0.5350 - 8s/epoch - 15ms/step\n",
            "Epoch 2/100\n",
            "528/528 - 3s - loss: 0.6925 - accuracy: 0.5175 - val_loss: 0.6900 - val_accuracy: 0.5369 - 3s/epoch - 6ms/step\n",
            "Epoch 3/100\n",
            "528/528 - 3s - loss: 0.6923 - accuracy: 0.5245 - val_loss: 0.6900 - val_accuracy: 0.5429 - 3s/epoch - 6ms/step\n",
            "Epoch 4/100\n",
            "528/528 - 3s - loss: 0.6920 - accuracy: 0.5248 - val_loss: 0.6898 - val_accuracy: 0.5339 - 3s/epoch - 6ms/step\n",
            "Epoch 5/100\n",
            "528/528 - 3s - loss: 0.6919 - accuracy: 0.5260 - val_loss: 0.6898 - val_accuracy: 0.5343 - 3s/epoch - 6ms/step\n",
            "Epoch 6/100\n",
            "528/528 - 3s - loss: 0.6917 - accuracy: 0.5258 - val_loss: 0.6899 - val_accuracy: 0.5341 - 3s/epoch - 6ms/step\n",
            "Epoch 7/100\n",
            "528/528 - 3s - loss: 0.6914 - accuracy: 0.5271 - val_loss: 0.6898 - val_accuracy: 0.5356 - 3s/epoch - 6ms/step\n",
            "Epoch 8/100\n",
            "528/528 - 3s - loss: 0.6913 - accuracy: 0.5285 - val_loss: 0.6897 - val_accuracy: 0.5337 - 3s/epoch - 6ms/step\n",
            "Epoch 9/100\n",
            "528/528 - 3s - loss: 0.6908 - accuracy: 0.5332 - val_loss: 0.6902 - val_accuracy: 0.5363 - 3s/epoch - 7ms/step\n"
          ]
        },
        {
          "output_type": "display_data",
          "data": {
            "text/plain": [
              "<Figure size 432x288 with 1 Axes>"
            ],
            "image/png": "[encoded data removed]"
          },
          "metadata": {
            "needs_background": "light"
          }
        }
      ],
      "source": [
        "from keras.models import Sequential\n",
        "from keras.layers import Dense\n",
        "from keras.layers import LSTM\n",
        "from keras.layers import Dropout\n",
        "from keras.callbacks import EarlyStopping\n",
        "\n",
        "\n",
        "early_stopping = EarlyStopping(monitor='val_loss', patience = 8, min_delta=0.001)\n",
        "\n",
        "model = Sequential()\n",
        "\n",
        "model.add(LSTM(100, return_sequences=True, input_shape=(train_X.shape[1], train_X.shape[2])))\n",
        "model.add(Dropout(0.3))\n",
        "\n",
        "#Additional layers we researched and then didn't use due to poor performance\n",
        "model.add(LSTM(100, return_sequences=True))\n",
        "model.add(Dropout(0.3))\n",
        "\n",
        "model.add(LSTM(100, return_sequences=False))\n",
        "model.add(Dropout(0.3))\n",
        "\n",
        "model.add(Dense(units = 1, activation = 'sigmoid'))\n",
        "\n",
        "#model.compile(loss='binary_crossentropy', optimizer='adam', metrics = [tf.keras.metrics.Recall()])\n",
        "model.compile(loss='binary_crossentropy', optimizer='adam', metrics = 'accuracy')\n",
        "# fit network\n",
        "history = model.fit(train_X, train_y, epochs = 100, batch_size=32, validation_data = (test_X, test_y), verbose=2, shuffle=False, callbacks=[early_stopping])\n",
        "\n",
        "# plot history\n",
        "plt.plot(history.history['loss'], label='train')\n",
        "plt.plot(history.history['val_loss'], label='test')\n",
        "plt.legend()\n",
        "plt.show()"
      ]
    },
    {
      "cell_type": "code",
      "execution_count": 23,
      "metadata": {
        "colab": {
          "base_uri": "https://localhost:8080/"
        },
        "id": "j4MwCoEJAUB9",
        "outputId": "915e879e-4c25-4ee0-97d8-a7631295b6fa"
      },
      "outputs": [
        {
          "output_type": "stream",
          "name": "stdout",
          "text": [
            "[[ 155 2029]\n",
            " [ 145 2359]]\n",
            "              precision    recall  f1-score   support\n",
            "\n",
            "         0.0       0.52      0.07      0.12      2184\n",
            "         1.0       0.54      0.94      0.68      2504\n",
            "\n",
            "    accuracy                           0.54      4688\n",
            "   macro avg       0.53      0.51      0.40      4688\n",
            "weighted avg       0.53      0.54      0.42      4688\n",
            "\n"
          ]
        }
      ],
      "source": [
        "from sklearn.metrics import classification_report, confusion_matrix\n",
        "\n",
        "yhat = (model.predict(test_X) > 0.5).astype(\"int32\")\n",
        "\n",
        "yhat = yhat.reshape(yhat.shape[0],yhat.shape[1])\n",
        "\n",
        "test_y = test_y.reshape(test_y.shape[0],1)\n",
        "\n",
        "print(confusion_matrix(pd.DataFrame(test_y).iloc[:,0], pd.DataFrame(yhat).iloc[:,0]))\n",
        "#print('Classification Report')\n",
        "#target_names = ['Cats', 'Dogs', 'Horse']\n",
        "#print(classification_report(pd.DataFrame(test_y).iloc[:,0], pd.DataFrame(yhat).iloc[:,0], target_names = ['1', '0']))\n",
        "print(classification_report(pd.DataFrame(test_y).iloc[:,0], pd.DataFrame(yhat).iloc[:,0]))\n",
        "\n",
        "\n",
        "#print(yhat, validation_y)"
      ]
    },
    {
      "cell_type": "code",
      "execution_count": 13,
      "metadata": {
        "colab": {
          "base_uri": "https://localhost:8080/"
        },
        "id": "Ku7fvIxohop9",
        "outputId": "70d7aa71-e555-43e8-ff3c-f1106b838e84"
      },
      "outputs": [
        {
          "output_type": "stream",
          "name": "stdout",
          "text": [
            "(16875, 13) (16875,) (4688, 13) (4688,)\n",
            "[[ 973 1211]\n",
            " [1088 1416]]\n",
            "              precision    recall  f1-score   support\n",
            "\n",
            "         0.0       0.47      0.45      0.46      2184\n",
            "         1.0       0.54      0.57      0.55      2504\n",
            "\n",
            "    accuracy                           0.51      4688\n",
            "   macro avg       0.51      0.51      0.51      4688\n",
            "weighted avg       0.51      0.51      0.51      4688\n",
            "\n"
          ]
        }
      ],
      "source": [
        "#Import Random Forest and Train_Test Split\n",
        "from sklearn.ensemble import RandomForestClassifier\n",
        "from sklearn.metrics import classification_report, confusion_matrix\n",
        "\n",
        "train_rf_X = train_X[:,0,1:]\n",
        "\n",
        "test_rf_X = test_X[:,0,1:]\n",
        "\n",
        "train_rf_y = train_y[:,0]\n",
        "\n",
        "test_rf_y = test_y[:,0]\n",
        "\n",
        "#validation_rf_X = validation_X[:,0,1:]\n",
        "\n",
        "#validation_rf_y = validation_y[:,0,0]\n",
        "\n",
        "print(train_rf_X.shape, train_rf_y.shape, test_rf_X.shape, test_rf_y.shape)\n",
        "\n",
        "#, test_rf_X, train_rf_y, test_rf_y = \n",
        "\n",
        "#Create a Gaussian Classifier\n",
        "clf = RandomForestClassifier(n_estimators=100)\n",
        "\n",
        "#Train the model using the training sets y_pred=clf.predict(X_test)\n",
        "clf.fit(train_rf_X,train_rf_y)\n",
        "\n",
        "y_pred = clf.predict(test_rf_X)\n",
        "\n",
        "#y_val = clf.predict(validation_rf_X)\n",
        "\n",
        "from sklearn import metrics\n",
        "\n",
        "#test metrics\n",
        "\n",
        "print(confusion_matrix(pd.DataFrame(test_rf_y).iloc[:,0], pd.DataFrame(y_pred).iloc[:,0]))\n",
        "\n",
        "print(classification_report(pd.DataFrame(test_rf_y).iloc[:,0], pd.DataFrame(y_pred).iloc[:,0]))\n",
        "\n",
        "#validation metrics\n",
        "#print(confusion_matrix(pd.DataFrame(validation_rf_y).iloc[:,0], pd.DataFrame(y_val).iloc[:,0]))\n",
        "\n",
        "#print(classification_report(pd.DataFrame(validation_rf_y).iloc[:,0], pd.DataFrame(y_val).iloc[:,0], target_names = ['0', '1']))\n"
      ]
    },
    {
      "cell_type": "code",
      "execution_count": 14,
      "metadata": {
        "colab": {
          "base_uri": "https://localhost:8080/"
        },
        "id": "b-dh-aklF7uU",
        "outputId": "b52a6d8d-40e8-4fa7-d67d-a39284a79a60"
      },
      "outputs": [
        {
          "output_type": "stream",
          "name": "stdout",
          "text": [
            "[[ 386 1798]\n",
            " [ 378 2126]]\n",
            "              precision    recall  f1-score   support\n",
            "\n",
            "         0.0       0.51      0.18      0.26      2184\n",
            "         1.0       0.54      0.85      0.66      2504\n",
            "\n",
            "    accuracy                           0.54      4688\n",
            "   macro avg       0.52      0.51      0.46      4688\n",
            "weighted avg       0.52      0.54      0.48      4688\n",
            "\n"
          ]
        }
      ],
      "source": [
        "from sklearn.ensemble import GradientBoostingClassifier\n",
        "\n",
        "clf_gb = GradientBoostingClassifier(n_estimators=100, learning_rate=1.0,max_depth=1, random_state=0)\n",
        "\n",
        "clf_gb.fit(train_rf_X,train_rf_y)\n",
        "\n",
        "y_gb_pred = clf_gb.predict(test_rf_X)\n",
        "\n",
        "#y_val = clf_gb.predict(validation_rf_X)\n",
        "\n",
        "#test metrics\n",
        "\n",
        "print(confusion_matrix(pd.DataFrame(test_rf_y).iloc[:,0], pd.DataFrame(y_gb_pred).iloc[:,0]))\n",
        "\n",
        "print(classification_report(pd.DataFrame(test_rf_y).iloc[:,0], pd.DataFrame(y_gb_pred).iloc[:,0]))\n",
        "\n",
        "#validation metrics\n",
        "\n",
        "#print(confusion_matrix(pd.DataFrame(validation_rf_y).iloc[:,0], pd.DataFrame(y_val).iloc[:,0]))\n",
        "\n",
        "#print(classification_report(pd.DataFrame(validation_rf_y).iloc[:,0], pd.DataFrame(y_val).iloc[:,0], target_names = ['0', '1']))\n",
        "\n",
        "\n"
      ]
    },
    {
      "cell_type": "code",
      "execution_count": 15,
      "metadata": {
        "colab": {
          "base_uri": "https://localhost:8080/"
        },
        "id": "vs0B-2uTGwE2",
        "outputId": "70963a3a-075e-43c7-feac-7f9766f9f473"
      },
      "outputs": [
        {
          "output_type": "stream",
          "name": "stdout",
          "text": [
            "[[1211  973]\n",
            " [1424 1080]]\n",
            "              precision    recall  f1-score   support\n",
            "\n",
            "         0.0       0.46      0.55      0.50      2184\n",
            "         1.0       0.53      0.43      0.47      2504\n",
            "\n",
            "    accuracy                           0.49      4688\n",
            "   macro avg       0.49      0.49      0.49      4688\n",
            "weighted avg       0.50      0.49      0.49      4688\n",
            "\n"
          ]
        }
      ],
      "source": [
        "from sklearn import svm\n",
        "\n",
        "clf_svm = svm.NuSVC(gamma=\"auto\")\n",
        "\n",
        "clf_svm.fit(train_rf_X,train_rf_y)\n",
        "\n",
        "y_svm_pred = clf_svm.predict(test_rf_X)\n",
        "\n",
        "print(confusion_matrix(pd.DataFrame(test_rf_y).iloc[:,0], pd.DataFrame(y_svm_pred).iloc[:,0]))\n",
        "\n",
        "print(classification_report(pd.DataFrame(test_rf_y).iloc[:,0], pd.DataFrame(y_svm_pred).iloc[:,0]))\n"
      ]
    },
    {
      "cell_type": "code",
      "execution_count": 16,
      "metadata": {
        "colab": {
          "base_uri": "https://localhost:8080/"
        },
        "id": "Pl4J3W337upN",
        "outputId": "a4d98508-235d-4fa3-91ca-58c629c58173"
      },
      "outputs": [
        {
          "output_type": "stream",
          "name": "stdout",
          "text": [
            "[[ 466 1718]\n",
            " [ 481 2023]]\n",
            "              precision    recall  f1-score   support\n",
            "\n",
            "         0.0       0.49      0.21      0.30      2184\n",
            "         1.0       0.54      0.81      0.65      2504\n",
            "\n",
            "    accuracy                           0.53      4688\n",
            "   macro avg       0.52      0.51      0.47      4688\n",
            "weighted avg       0.52      0.53      0.48      4688\n",
            "\n"
          ]
        }
      ],
      "source": [
        "from sklearn.linear_model import LogisticRegression\n",
        "\n",
        "clf_lr = LogisticRegression(random_state = 1, penalty = 'l2')\n",
        "\n",
        "clf_lr.fit(train_rf_X,train_rf_y)\n",
        "\n",
        "y_lr_pred = clf_lr.predict(test_rf_X)\n",
        "\n",
        "print(confusion_matrix(pd.DataFrame(test_rf_y).iloc[:,0], pd.DataFrame(y_lr_pred).iloc[:,0]))\n",
        "\n",
        "print(classification_report(pd.DataFrame(test_rf_y).iloc[:,0], pd.DataFrame(y_lr_pred).iloc[:,0]))"
      ]
    },
    {
      "cell_type": "code",
      "execution_count": 17,
      "metadata": {
        "colab": {
          "base_uri": "https://localhost:8080/",
          "height": 580
        },
        "id": "BNDI4Kx1ZfOu",
        "outputId": "f89652a3-0aa6-4c85-fc3c-d194f0bb3d35"
      },
      "outputs": [
        {
          "output_type": "stream",
          "name": "stdout",
          "text": [
            "Epoch 1/100\n",
            "528/528 - 2s - loss: 0.6958 - accuracy: 0.5058 - val_loss: 0.6904 - val_accuracy: 0.5333 - 2s/epoch - 4ms/step\n",
            "Epoch 2/100\n",
            "528/528 - 1s - loss: 0.6925 - accuracy: 0.5161 - val_loss: 0.6902 - val_accuracy: 0.5354 - 1s/epoch - 2ms/step\n",
            "Epoch 3/100\n",
            "528/528 - 1s - loss: 0.6924 - accuracy: 0.5211 - val_loss: 0.6906 - val_accuracy: 0.5318 - 1s/epoch - 2ms/step\n",
            "Epoch 4/100\n",
            "528/528 - 1s - loss: 0.6921 - accuracy: 0.5215 - val_loss: 0.6910 - val_accuracy: 0.5297 - 1s/epoch - 2ms/step\n",
            "Epoch 5/100\n",
            "528/528 - 1s - loss: 0.6922 - accuracy: 0.5220 - val_loss: 0.6902 - val_accuracy: 0.5314 - 1s/epoch - 2ms/step\n",
            "Epoch 6/100\n",
            "528/528 - 1s - loss: 0.6920 - accuracy: 0.5220 - val_loss: 0.6909 - val_accuracy: 0.5328 - 1s/epoch - 2ms/step\n",
            "Epoch 7/100\n",
            "528/528 - 1s - loss: 0.6919 - accuracy: 0.5225 - val_loss: 0.6909 - val_accuracy: 0.5320 - 1s/epoch - 2ms/step\n",
            "Epoch 8/100\n",
            "528/528 - 1s - loss: 0.6918 - accuracy: 0.5266 - val_loss: 0.6913 - val_accuracy: 0.5337 - 1s/epoch - 2ms/step\n",
            "Epoch 9/100\n",
            "528/528 - 1s - loss: 0.6920 - accuracy: 0.5205 - val_loss: 0.6909 - val_accuracy: 0.5356 - 1s/epoch - 2ms/step\n"
          ]
        },
        {
          "output_type": "display_data",
          "data": {
            "text/plain": [
              "<Figure size 432x288 with 1 Axes>"
            ],
            "image/png": "[encoded data removed]"
          },
          "metadata": {
            "needs_background": "light"
          }
        }
      ],
      "source": [
        "#from tensorflow.keras.datasets import mnist\n",
        "from keras.models import Sequential\n",
        "from keras.layers import Dense\n",
        "from keras.layers import LSTM\n",
        "from keras.layers import Dropout\n",
        "from keras.callbacks import EarlyStopping\n",
        "\n",
        "model_mlp = Sequential()\n",
        "\n",
        "early_stopping = EarlyStopping(monitor='val_loss', patience = 8, min_delta=0.001)\n",
        "\n",
        "#train_rf_X = np.reshape(train_rf_X, (train_rf_X.shape[0], train_rf_X.shape[1], train_rf_X.shape[2]))\n",
        "\n",
        "#train_rf_y = np.reshape(train_rf_y, (train_rf_y.shape[0],1))\n",
        "\n",
        "model_mlp.add(Dense(100, input_shape=(train_rf_X.shape[1],), activation = 'relu'))\n",
        "model_mlp.add(Dropout(0.3))\n",
        "\n",
        "#Additional layers we researched and then didn't use due to poor performance\n",
        "model_mlp.add(Dense(100, activation = 'relu'))\n",
        "model_mlp.add(Dropout(0.3))\n",
        "\n",
        "model_mlp.add(Dense(100, activation = 'relu'))\n",
        "model_mlp.add(Dropout(0.3))\n",
        "\n",
        "model_mlp.add(Dense(units = 1, activation = 'sigmoid'))\n",
        "\n",
        "#model.compile(loss='binary_crossentropy', optimizer='adam', metrics = [tf.keras.metrics.Recall()])\n",
        "model_mlp.compile(loss='binary_crossentropy', optimizer='adam', metrics = 'accuracy')\n",
        "# fit network\n",
        "history_mlp = model_mlp.fit(train_rf_X, train_rf_y, epochs = 100, batch_size=32, validation_data = (test_rf_X, test_rf_y), verbose=2, shuffle=False, callbacks=[early_stopping])\n",
        "\n",
        "# plot history\n",
        "plt.plot(history_mlp.history['loss'], label='train')\n",
        "plt.plot(history_mlp.history['val_loss'], label='test')\n",
        "plt.legend()\n",
        "plt.show()"
      ]
    },
    {
      "cell_type": "code",
      "execution_count": 21,
      "metadata": {
        "colab": {
          "base_uri": "https://localhost:8080/"
        },
        "id": "sGVALRdUE79x",
        "outputId": "a400fd45-ced2-4a4f-e616-fc4a3af70447"
      },
      "outputs": [
        {
          "output_type": "stream",
          "name": "stdout",
          "text": [
            "[[  76 2108]\n",
            " [  69 2435]]\n",
            "              precision    recall  f1-score   support\n",
            "\n",
            "         0.0       0.52      0.03      0.07      2184\n",
            "         1.0       0.54      0.97      0.69      2504\n",
            "\n",
            "    accuracy                           0.54      4688\n",
            "   macro avg       0.53      0.50      0.38      4688\n",
            "weighted avg       0.53      0.54      0.40      4688\n",
            "\n"
          ]
        }
      ],
      "source": [
        "from sklearn.metrics import classification_report, confusion_matrix\n",
        "\n",
        "yhat_mlp = (model_mlp.predict(test_rf_X) > 0.5).astype(\"int32\")\n",
        "\n",
        "yhat_mlp = yhat_mlp.reshape(yhat_mlp.shape[0],yhat_mlp.shape[1])\n",
        "\n",
        "test_rf_y = test_rf_y.reshape(test_rf_y.shape[0],1)\n",
        "\n",
        "print(confusion_matrix(pd.DataFrame(test_rf_y).iloc[:,0], pd.DataFrame(yhat_mlp).iloc[:,0]))\n",
        "#print('Classification Report')\n",
        "#target_names = ['Cats', 'Dogs', 'Horse']\n",
        "print(classification_report(pd.DataFrame(test_rf_y).iloc[:,0], pd.DataFrame(yhat_mlp).iloc[:,0]))\n",
        "\n",
        "#print(yhat, validation_y)"
      ]
    },
    {
      "cell_type": "code",
      "execution_count": 31,
      "metadata": {
        "colab": {
          "base_uri": "https://localhost:8080/"
        },
        "id": "C1kf6pKVOapX",
        "outputId": "aa16b52f-5897-407c-c47b-e5ed9f0151af"
      },
      "outputs": [
        {
          "output_type": "stream",
          "name": "stdout",
          "text": [
            "(1875, 13) (1875,)\n",
            "(1875, 1)\n"
          ]
        }
      ],
      "source": [
        "# Model 2 Development\n",
        "\n",
        "validation_rf_X = validation_X[:,0,1:]\n",
        "\n",
        "validation_rf_y = validation_y[:,0]\n",
        "\n",
        "print(validation_rf_X.shape, validation_rf_y.shape)\n",
        "\n",
        "#LSTM\n",
        "yhat_test = (model.predict(validation_X) > 0.5).astype(\"int32\")\n",
        "\n",
        "yhat_test = yhat_test.reshape(yhat_test.shape[0],yhat_test.shape[1])\n",
        "\n",
        "validation_y = validation_y.reshape(validation_y.shape[0],1)\n",
        "\n",
        "#Random Forest\n",
        "\n",
        "y_pred_test = clf.predict(validation_rf_X)\n",
        "\n",
        "#Gradient Boosting\n",
        "\n",
        "y_gb_pred_test = clf_gb.predict(validation_rf_X)\n",
        "\n",
        "#Support Vector Classifier\n",
        "\n",
        "y_svm_pred_test = clf_svm.predict(validation_rf_X)\n",
        "\n",
        "#Logistic Regression\n",
        "\n",
        "y_lr_pred_test = clf_lr.predict(validation_rf_X)\n",
        "\n",
        "#Multi Layer Perceptron\n",
        "\n",
        "y_mlp_pred_test = (model_mlp.predict(validation_rf_X) > 0.5).astype(\"int32\")\n",
        "\n",
        "print(y_mlp_pred_test.shape)\n",
        "\n",
        "y_mlp_pred_test = y_mlp_pred_test.reshape(y_mlp_pred_test.shape[0],y_mlp_pred_test.shape[1])\n"
      ]
    },
    {
      "cell_type": "code",
      "source": [
        "print(classification_report(pd.DataFrame(validation_rf_y).iloc[:,0], pd.DataFrame(yhat_test).iloc[:,0]))\n"
      ],
      "metadata": {
        "colab": {
          "base_uri": "https://localhost:8080/"
        },
        "id": "PfjKNjA-k_HU",
        "outputId": "87b9b03f-ff8e-4a7b-f53b-771750d52aca"
      },
      "execution_count": 32,
      "outputs": [
        {
          "output_type": "stream",
          "name": "stdout",
          "text": [
            "              precision    recall  f1-score   support\n",
            "\n",
            "         0.0       0.57      0.08      0.13       915\n",
            "         1.0       0.52      0.94      0.67       960\n",
            "\n",
            "    accuracy                           0.52      1875\n",
            "   macro avg       0.54      0.51      0.40      1875\n",
            "weighted avg       0.54      0.52      0.41      1875\n",
            "\n"
          ]
        }
      ]
    },
    {
      "cell_type": "code",
      "execution_count": 34,
      "metadata": {
        "colab": {
          "base_uri": "https://localhost:8080/"
        },
        "id": "D58WfT1GKEXA",
        "outputId": "9da29351-7a12-4f28-b8dd-7d77818b5a01"
      },
      "outputs": [
        {
          "output_type": "stream",
          "name": "stdout",
          "text": [
            "(4688, 19)\n"
          ]
        }
      ],
      "source": [
        "#Model 2 Train Set\n",
        "\n",
        "model_stack = pd.DataFrame(yhat, columns = ['lstm'])\n",
        "\n",
        "model_stack['mlp'] = yhat_mlp\n",
        "\n",
        "model_stack['randomForest'] = y_pred\n",
        "\n",
        "model_stack['GradientBoosting'] = y_gb_pred\n",
        "\n",
        "model_stack['svm'] = y_svm_pred\n",
        "\n",
        "model_stack['logReg'] = y_lr_pred\n",
        "\n",
        "X_stack = np.concatenate((model_stack.values,test_rf_X),axis=1)\n",
        "\n",
        "print(X_stack.shape)\n"
      ]
    },
    {
      "cell_type": "code",
      "execution_count": 36,
      "metadata": {
        "id": "h4NhA4rV8L8H"
      },
      "outputs": [],
      "source": [
        "#Model 2 Train Set\n",
        "\n",
        "model_test_stack = pd.DataFrame(yhat_test, columns = ['lstm'])\n",
        "\n",
        "model_test_stack['mlp'] = y_mlp_pred_test\n",
        "\n",
        "model_test_stack['randomForest'] = y_pred_test\n",
        "\n",
        "model_test_stack['GradientBoosting'] = y_gb_pred_test\n",
        "\n",
        "model_test_stack['svm'] = y_svm_pred_test\n",
        "\n",
        "model_test_stack['logReg'] = y_lr_pred_test\n",
        "\n",
        "X_test_stack = np.concatenate((model_test_stack.values,validation_rf_X),axis=1)"
      ]
    },
    {
      "cell_type": "code",
      "source": [
        "X_test_stack.shape"
      ],
      "metadata": {
        "colab": {
          "base_uri": "https://localhost:8080/"
        },
        "id": "Ks0LnVuRJAb2",
        "outputId": "e18fdbd8-3787-49e7-94c3-6bc4a3700992"
      },
      "execution_count": 36,
      "outputs": [
        {
          "output_type": "execute_result",
          "data": {
            "text/plain": [
              "(376, 19)"
            ]
          },
          "metadata": {},
          "execution_count": 36
        }
      ]
    },
    {
      "cell_type": "code",
      "execution_count": 35,
      "metadata": {
        "colab": {
          "base_uri": "https://localhost:8080/",
          "height": 347
        },
        "id": "AIlXCQRzpWca",
        "outputId": "586bd275-41b7-4ba2-e3c6-e9ee4ccb08b6"
      },
      "outputs": [
        {
          "output_type": "display_data",
          "data": {
            "text/plain": [
              "<Figure size 432x288 with 2 Axes>"
            ],
            "image/png": "[encoded data removed]"
          },
          "metadata": {
            "needs_background": "light"
          }
        }
      ],
      "source": [
        "#Correlation Matrix\n",
        "\n",
        "import seaborn as sn\n",
        "\n",
        "model_corr = model_stack\n",
        "\n",
        "model_corr['target_class'] = test_rf_y\n",
        "\n",
        "corr_mat = model_corr.corr()\n",
        "sn.heatmap(corr_mat, annot=True, linewidths=.3)\n",
        "plt.show()"
      ]
    },
    {
      "cell_type": "code",
      "source": [
        "#Correlation Matrix\n",
        "\n",
        "import seaborn as sn\n",
        "\n",
        "model_corr = model_test_stack\n",
        "\n",
        "model_corr['target_class'] = validation_rf_y\n",
        "\n",
        "corr_mat = model_corr.corr()\n",
        "sn.heatmap(corr_mat, annot=True, linewidths=.3)\n",
        "plt.show()"
      ],
      "metadata": {
        "colab": {
          "base_uri": "https://localhost:8080/",
          "height": 347
        },
        "id": "Mw9XZgjxl1GY",
        "outputId": "6ff3f1c5-c2de-41ab-d931-f8e8ae184e3d"
      },
      "execution_count": 37,
      "outputs": [
        {
          "output_type": "display_data",
          "data": {
            "text/plain": [
              "<Figure size 432x288 with 2 Axes>"
            ],
            "image/png": "[encoded data removed]"
          },
          "metadata": {
            "needs_background": "light"
          }
        }
      ]
    },
    {
      "cell_type": "code",
      "execution_count": 39,
      "metadata": {
        "colab": {
          "base_uri": "https://localhost:8080/",
          "height": 577
        },
        "id": "6wacYsW5pk9A",
        "outputId": "c45ba8e8-e85a-4430-aaf3-0cc2709ccba2"
      },
      "outputs": [
        {
          "output_type": "stream",
          "name": "stdout",
          "text": [
            "Epoch 1/100\n",
            "147/147 - 1s - loss: 0.6986 - accuracy: 0.5188 - val_loss: 0.6932 - val_accuracy: 0.5131 - 1s/epoch - 7ms/step\n",
            "Epoch 2/100\n",
            "147/147 - 0s - loss: 0.6919 - accuracy: 0.5220 - val_loss: 0.6947 - val_accuracy: 0.5120 - 401ms/epoch - 3ms/step\n",
            "Epoch 3/100\n",
            "147/147 - 0s - loss: 0.6914 - accuracy: 0.5265 - val_loss: 0.6930 - val_accuracy: 0.5163 - 445ms/epoch - 3ms/step\n",
            "Epoch 4/100\n",
            "147/147 - 0s - loss: 0.6898 - accuracy: 0.5346 - val_loss: 0.6930 - val_accuracy: 0.5173 - 411ms/epoch - 3ms/step\n",
            "Epoch 5/100\n",
            "147/147 - 0s - loss: 0.6896 - accuracy: 0.5331 - val_loss: 0.6931 - val_accuracy: 0.5136 - 404ms/epoch - 3ms/step\n",
            "Epoch 6/100\n",
            "147/147 - 0s - loss: 0.6881 - accuracy: 0.5388 - val_loss: 0.6950 - val_accuracy: 0.5152 - 399ms/epoch - 3ms/step\n",
            "Epoch 7/100\n",
            "147/147 - 0s - loss: 0.6886 - accuracy: 0.5395 - val_loss: 0.6946 - val_accuracy: 0.5211 - 404ms/epoch - 3ms/step\n",
            "Epoch 8/100\n",
            "147/147 - 0s - loss: 0.6867 - accuracy: 0.5427 - val_loss: 0.6950 - val_accuracy: 0.5152 - 423ms/epoch - 3ms/step\n",
            "Epoch 9/100\n",
            "147/147 - 0s - loss: 0.6868 - accuracy: 0.5488 - val_loss: 0.6951 - val_accuracy: 0.5141 - 425ms/epoch - 3ms/step\n"
          ]
        },
        {
          "output_type": "display_data",
          "data": {
            "text/plain": [
              "<Figure size 432x288 with 1 Axes>"
            ],
            "image/png": "[encoded data removed]"
          },
          "metadata": {
            "needs_background": "light"
          }
        }
      ],
      "source": [
        "model_stacked = Sequential()\n",
        "\n",
        "early_stopping = EarlyStopping(monitor='val_loss', patience = 8, min_delta=0.001)\n",
        "\n",
        "#train_rf_X = np.reshape(train_rf_X, (train_rf_X.shape[0], train_rf_X.shape[1], train_rf_X.shape[2]))\n",
        "\n",
        "#train_rf_y = np.reshape(train_rf_y, (train_rf_y.shape[0],1))\n",
        "\n",
        "model_stacked.add(Dense(1000, input_shape=(X_stack.shape[1],), activation = 'relu'))\n",
        "model_stacked.add(Dropout(0.3))\n",
        "\n",
        "#Additional layers we researched and then didn't use due to poor performance\n",
        "model_stacked.add(Dense(1000, activation = 'relu'))\n",
        "model_stacked.add(Dropout(0.3))\n",
        "\n",
        "model_stacked.add(Dense(1000, activation = 'relu'))\n",
        "model_stacked.add(Dropout(0.3))\n",
        "\n",
        "model_stacked.add(Dense(units = 1, activation = 'sigmoid'))\n",
        "\n",
        "#model.compile(loss='binary_crossentropy', optimizer='adam', metrics = [tf.keras.metrics.Recall()])\n",
        "model_stacked.compile(loss='binary_crossentropy', optimizer='adam', metrics = 'accuracy')\n",
        "# fit network\n",
        "history_stacked = model_stacked.fit(X_stack, test_rf_y, epochs = 100, batch_size=32, validation_data = (X_test_stack, validation_rf_y), verbose=2, shuffle=False, callbacks=[early_stopping])\n",
        "#history_stacked = model_stacked.fit(X_stack, test_rf_y, epochs = 50, batch_size=32, verbose=2, shuffle=False, callbacks=[early_stopping])\n",
        "\n",
        "# plot history\n",
        "plt.plot(history_stacked.history['loss'], label='train')\n",
        "plt.plot(history_stacked.history['val_loss'], label='test')\n",
        "plt.legend()\n",
        "plt.show()"
      ]
    },
    {
      "cell_type": "code",
      "execution_count": 41,
      "metadata": {
        "colab": {
          "base_uri": "https://localhost:8080/"
        },
        "id": "L5z1e3EvwlnG",
        "outputId": "cfb81634-e320-4a6d-a137-0b91153d20d5"
      },
      "outputs": [
        {
          "output_type": "stream",
          "name": "stderr",
          "text": [
            "/usr/local/lib/python3.7/dist-packages/sklearn/ensemble/_gb.py:494: DataConversionWarning: A column-vector y was passed when a 1d array was expected. Please change the shape of y to (n_samples, ), for example using ravel().\n",
            "  y = column_or_1d(y, warn=True)\n"
          ]
        },
        {
          "output_type": "stream",
          "name": "stdout",
          "text": [
            "              precision    recall  f1-score   support\n",
            "\n",
            "         0.0       0.54      0.19      0.28       915\n",
            "         1.0       0.52      0.85      0.65       960\n",
            "\n",
            "    accuracy                           0.53      1875\n",
            "   macro avg       0.53      0.52      0.46      1875\n",
            "weighted avg       0.53      0.53      0.47      1875\n",
            "\n"
          ]
        }
      ],
      "source": [
        "#Gradient Boosting as Stacking Algorithm\n",
        "\n",
        "stk_gb = GradientBoostingClassifier(n_estimators=100, learning_rate=1.0,max_depth=1, random_state=0)\n",
        "\n",
        "stk_gb.fit(X_stack, test_rf_y)\n",
        "\n",
        "stck_gb_pred = stk_gb.predict(X_test_stack)\n",
        "\n",
        "#y_val = clf_gb.predict(validation_rf_X)\n",
        "\n",
        "#test metrics\n",
        "\n",
        "#print(confusion_matrix(pd.DataFrame(test_rf_y).iloc[:,0], pd.DataFrame(y_gb_pred).iloc[:,0]))\n",
        "\n",
        "print(classification_report(pd.DataFrame(validation_rf_y).iloc[:,0], pd.DataFrame(stck_gb_pred).iloc[:,0]))\n",
        "\n",
        "#validation metrics\n",
        "\n",
        "#print(confusion_matrix(pd.DataFrame(validation_rf_y).iloc[:,0], pd.DataFrame(y_val).iloc[:,0]))\n",
        "\n",
        "#print(classification_report(pd.DataFrame(validation_rf_y).iloc[:,0], pd.DataFrame(y_val).iloc[:,0], target_names = ['0', '1']))\n",
        "\n",
        "\n",
        "\n"
      ]
    },
    {
      "cell_type": "code",
      "source": [
        "# Logistic Regression as Stacking Classifier\n",
        "\n",
        "\n",
        "stk_lr = LogisticRegression(random_state = 1, penalty = 'l2')\n",
        "\n",
        "stk_lr.fit(X_stack, test_rf_y)\n",
        "\n",
        "stk_lr_pred = stk_lr.predict(X_test_stack)\n",
        "\n",
        "#print(confusion_matrix(pd.DataFrame(test_rf_y).iloc[:,0], pd.DataFrame(y_lr_pred).iloc[:,0]))\n",
        "\n",
        "print(classification_report(pd.DataFrame(validation_rf_y).iloc[:,0], pd.DataFrame(stk_lr_pred).iloc[:,0]))"
      ],
      "metadata": {
        "colab": {
          "base_uri": "https://localhost:8080/"
        },
        "id": "AC13_zuzE-m3",
        "outputId": "86f0b5b3-aa87-443a-c2fa-8249baf9ca45"
      },
      "execution_count": 43,
      "outputs": [
        {
          "output_type": "stream",
          "name": "stdout",
          "text": [
            "              precision    recall  f1-score   support\n",
            "\n",
            "         0.0       0.55      0.19      0.28       915\n",
            "         1.0       0.52      0.85      0.65       960\n",
            "\n",
            "    accuracy                           0.53      1875\n",
            "   macro avg       0.54      0.52      0.47      1875\n",
            "weighted avg       0.54      0.53      0.47      1875\n",
            "\n"
          ]
        },
        {
          "output_type": "stream",
          "name": "stderr",
          "text": [
            "/usr/local/lib/python3.7/dist-packages/sklearn/utils/validation.py:993: DataConversionWarning: A column-vector y was passed when a 1d array was expected. Please change the shape of y to (n_samples, ), for example using ravel().\n",
            "  y = column_or_1d(y, warn=True)\n"
          ]
        }
      ]
    }
  ],
  "metadata": {
    "accelerator": "GPU",
    "colab": {
      "collapsed_sections": [],
      "name": "SP500 Trend Forecast 1.ipynb",
      "provenance": [],
      "machine_shape": "hm",
      "authorship_tag": "ABX9TyMY5/eqAeJNSb0ew6hvnqkE",
      "include_colab_link": true
    },
    "kernelspec": {
      "display_name": "Python 3",
      "name": "python3"
    },
    "language_info": {
      "name": "python"
    }
  },
  "nbformat": 4,
  "nbformat_minor": 0
}