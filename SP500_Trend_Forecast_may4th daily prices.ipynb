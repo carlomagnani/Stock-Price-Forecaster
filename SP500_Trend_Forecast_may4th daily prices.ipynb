{
  "cells": [
    {
      "cell_type": "markdown",
      "metadata": {
        "id": "view-in-github",
        "colab_type": "text"
      },
      "source": [
        "<a href=\"https://colab.research.google.com/github/carlomagnani/Stock-Price-Forecaster/blob/main/SP500_Trend_Forecast_may4th%20daily%20prices.ipynb\" target=\"_parent\"><img src=\"https://colab.research.google.com/assets/colab-badge.svg\" alt=\"Open In Colab\"/></a>"
      ]
    },
    {
      "cell_type": "code",
      "execution_count": 1,
      "metadata": {
        "colab": {
          "base_uri": "https://localhost:8080/"
        },
        "id": "KXjQW1eQC8go",
        "outputId": "1c8310d7-82c0-4037-ca2c-9eaa55b6b52c"
      },
      "outputs": [
        {
          "output_type": "stream",
          "name": "stdout",
          "text": [
            "Tensorflow version: 2.8.0\n",
            "Mounted at /GoogleDrive\n"
          ]
        }
      ],
      "source": [
        "import tensorflow as tf\n",
        "from tensorflow import keras\n",
        "import pandas as pd\n",
        "import matplotlib.pyplot as plt\n",
        "import time\n",
        "import numpy as np\n",
        "\n",
        "print(\"Tensorflow version: \"+tf.__version__)\n",
        "\n",
        "#! pip install pmdarima\n",
        "\n",
        "# Google file system\n",
        "from google.colab import drive\n",
        "from sklearn.preprocessing import MinMaxScaler\n",
        "\n",
        "drive.mount('/GoogleDrive', force_remount=True)\n",
        "\n",
        "import math"
      ]
    },
    {
      "cell_type": "code",
      "source": [
        ""
      ],
      "metadata": {
        "id": "S1eZ-umw5HlN"
      },
      "execution_count": null,
      "outputs": []
    },
    {
      "cell_type": "code",
      "execution_count": 2,
      "metadata": {
        "id": "PckS0gmMDI0a",
        "colab": {
          "base_uri": "https://localhost:8080/",
          "height": 386
        },
        "outputId": "fde05ef1-1f0e-47d0-d8f4-7d6da4b2665a"
      },
      "outputs": [
        {
          "output_type": "execute_result",
          "data": {
            "text/plain": [
              "          date  log_value   log_ret  lead_ret  lead_weekly_ret  \\\n",
              "199 1928-10-16   3.078233  0.003228  0.003218         0.010534   \n",
              "200 1928-10-17   3.081451  0.003218  0.002292         0.009137   \n",
              "201 1928-10-18   3.083743  0.002292  0.005479         0.003200   \n",
              "202 1928-10-19   3.089223  0.005479 -0.006854        -0.014217   \n",
              "203 1928-10-22   3.082369 -0.006854  0.006399         0.008674   \n",
              "\n",
              "     lag_weekly_ret  log_ret_class  lag_weekly_ret_class  \\\n",
              "199        0.028487              1                     1   \n",
              "200        0.028394              1                     1   \n",
              "201        0.019885              1                     1   \n",
              "202        0.020705              1                     1   \n",
              "203        0.007363              0                     1   \n",
              "\n",
              "     lead_weekly_ret_class  lead_ret_class  ...   sma_100   sma_200    sq_ret  \\\n",
              "199                      1               1  ...  2.990770  2.951862  0.000811   \n",
              "200                      1               1  ...  2.991692  2.952913  0.000806   \n",
              "201                      1               1  ...  2.992623  2.953947  0.000395   \n",
              "202                      0               0  ...  2.993775  2.955019  0.000429   \n",
              "203                      1               1  ...  2.994732  2.956106  0.000054   \n",
              "\n",
              "     sq_ret_ch  ewma_var  ewma_var_ch   ema_200    ema_50    ema_10     ema_3  \n",
              "199   0.000409  0.000457     0.000236  2.982935  3.033248  3.064436  3.073727  \n",
              "200  -0.000005  0.000597     0.000140  2.984070  3.035138  3.067516  3.077589  \n",
              "201  -0.000411  0.000516    -0.000081  2.985218  3.037044  3.070453  3.080666  \n",
              "202   0.000033  0.000481    -0.000035  2.986413  3.039090  3.073850  3.084944  \n",
              "203  -0.000374  0.000310    -0.000171  2.987515  3.040787  3.075392  3.083656  \n",
              "\n",
              "[5 rows x 25 columns]"
            ],
            "text/html": [
              "\n",
              "  <div id=\"df-89addadd-8800-4d9c-9747-d6ed4e112ba1\">\n",
              "    <div class=\"colab-df-container\">\n",
              "      <div>\n",
              "<style scoped>\n",
              "    .dataframe tbody tr th:only-of-type {\n",
              "        vertical-align: middle;\n",
              "    }\n",
              "\n",
              "    .dataframe tbody tr th {\n",
              "        vertical-align: top;\n",
              "    }\n",
              "\n",
              "    .dataframe thead th {\n",
              "        text-align: right;\n",
              "    }\n",
              "</style>\n",
              "<table border=\"1\" class=\"dataframe\">\n",
              "  <thead>\n",
              "    <tr style=\"text-align: right;\">\n",
              "      <th></th>\n",
              "      <th>date</th>\n",
              "      <th>log_value</th>\n",
              "      <th>log_ret</th>\n",
              "      <th>lead_ret</th>\n",
              "      <th>lead_weekly_ret</th>\n",
              "      <th>lag_weekly_ret</th>\n",
              "      <th>log_ret_class</th>\n",
              "      <th>lag_weekly_ret_class</th>\n",
              "      <th>lead_weekly_ret_class</th>\n",
              "      <th>lead_ret_class</th>\n",
              "      <th>...</th>\n",
              "      <th>sma_100</th>\n",
              "      <th>sma_200</th>\n",
              "      <th>sq_ret</th>\n",
              "      <th>sq_ret_ch</th>\n",
              "      <th>ewma_var</th>\n",
              "      <th>ewma_var_ch</th>\n",
              "      <th>ema_200</th>\n",
              "      <th>ema_50</th>\n",
              "      <th>ema_10</th>\n",
              "      <th>ema_3</th>\n",
              "    </tr>\n",
              "  </thead>\n",
              "  <tbody>\n",
              "    <tr>\n",
              "      <th>199</th>\n",
              "      <td>1928-10-16</td>\n",
              "      <td>3.078233</td>\n",
              "      <td>0.003228</td>\n",
              "      <td>0.003218</td>\n",
              "      <td>0.010534</td>\n",
              "      <td>0.028487</td>\n",
              "      <td>1</td>\n",
              "      <td>1</td>\n",
              "      <td>1</td>\n",
              "      <td>1</td>\n",
              "      <td>...</td>\n",
              "      <td>2.990770</td>\n",
              "      <td>2.951862</td>\n",
              "      <td>0.000811</td>\n",
              "      <td>0.000409</td>\n",
              "      <td>0.000457</td>\n",
              "      <td>0.000236</td>\n",
              "      <td>2.982935</td>\n",
              "      <td>3.033248</td>\n",
              "      <td>3.064436</td>\n",
              "      <td>3.073727</td>\n",
              "    </tr>\n",
              "    <tr>\n",
              "      <th>200</th>\n",
              "      <td>1928-10-17</td>\n",
              "      <td>3.081451</td>\n",
              "      <td>0.003218</td>\n",
              "      <td>0.002292</td>\n",
              "      <td>0.009137</td>\n",
              "      <td>0.028394</td>\n",
              "      <td>1</td>\n",
              "      <td>1</td>\n",
              "      <td>1</td>\n",
              "      <td>1</td>\n",
              "      <td>...</td>\n",
              "      <td>2.991692</td>\n",
              "      <td>2.952913</td>\n",
              "      <td>0.000806</td>\n",
              "      <td>-0.000005</td>\n",
              "      <td>0.000597</td>\n",
              "      <td>0.000140</td>\n",
              "      <td>2.984070</td>\n",
              "      <td>3.035138</td>\n",
              "      <td>3.067516</td>\n",
              "      <td>3.077589</td>\n",
              "    </tr>\n",
              "    <tr>\n",
              "      <th>201</th>\n",
              "      <td>1928-10-18</td>\n",
              "      <td>3.083743</td>\n",
              "      <td>0.002292</td>\n",
              "      <td>0.005479</td>\n",
              "      <td>0.003200</td>\n",
              "      <td>0.019885</td>\n",
              "      <td>1</td>\n",
              "      <td>1</td>\n",
              "      <td>1</td>\n",
              "      <td>1</td>\n",
              "      <td>...</td>\n",
              "      <td>2.992623</td>\n",
              "      <td>2.953947</td>\n",
              "      <td>0.000395</td>\n",
              "      <td>-0.000411</td>\n",
              "      <td>0.000516</td>\n",
              "      <td>-0.000081</td>\n",
              "      <td>2.985218</td>\n",
              "      <td>3.037044</td>\n",
              "      <td>3.070453</td>\n",
              "      <td>3.080666</td>\n",
              "    </tr>\n",
              "    <tr>\n",
              "      <th>202</th>\n",
              "      <td>1928-10-19</td>\n",
              "      <td>3.089223</td>\n",
              "      <td>0.005479</td>\n",
              "      <td>-0.006854</td>\n",
              "      <td>-0.014217</td>\n",
              "      <td>0.020705</td>\n",
              "      <td>1</td>\n",
              "      <td>1</td>\n",
              "      <td>0</td>\n",
              "      <td>0</td>\n",
              "      <td>...</td>\n",
              "      <td>2.993775</td>\n",
              "      <td>2.955019</td>\n",
              "      <td>0.000429</td>\n",
              "      <td>0.000033</td>\n",
              "      <td>0.000481</td>\n",
              "      <td>-0.000035</td>\n",
              "      <td>2.986413</td>\n",
              "      <td>3.039090</td>\n",
              "      <td>3.073850</td>\n",
              "      <td>3.084944</td>\n",
              "    </tr>\n",
              "    <tr>\n",
              "      <th>203</th>\n",
              "      <td>1928-10-22</td>\n",
              "      <td>3.082369</td>\n",
              "      <td>-0.006854</td>\n",
              "      <td>0.006399</td>\n",
              "      <td>0.008674</td>\n",
              "      <td>0.007363</td>\n",
              "      <td>0</td>\n",
              "      <td>1</td>\n",
              "      <td>1</td>\n",
              "      <td>1</td>\n",
              "      <td>...</td>\n",
              "      <td>2.994732</td>\n",
              "      <td>2.956106</td>\n",
              "      <td>0.000054</td>\n",
              "      <td>-0.000374</td>\n",
              "      <td>0.000310</td>\n",
              "      <td>-0.000171</td>\n",
              "      <td>2.987515</td>\n",
              "      <td>3.040787</td>\n",
              "      <td>3.075392</td>\n",
              "      <td>3.083656</td>\n",
              "    </tr>\n",
              "  </tbody>\n",
              "</table>\n",
              "<p>5 rows × 25 columns</p>\n",
              "</div>\n",
              "      <button class=\"colab-df-convert\" onclick=\"convertToInteractive('df-89addadd-8800-4d9c-9747-d6ed4e112ba1')\"\n",
              "              title=\"Convert this dataframe to an interactive table.\"\n",
              "              style=\"display:none;\">\n",
              "        \n",
              "  <svg xmlns=\"http://www.w3.org/2000/svg\" height=\"24px\"viewBox=\"0 0 24 24\"\n",
              "       width=\"24px\">\n",
              "    <path d=\"M0 0h24v24H0V0z\" fill=\"none\"/>\n",
              "    <path d=\"M18.56 5.44l.94 2.06.94-2.06 2.06-.94-2.06-.94-.94-2.06-.94 2.06-2.06.94zm-11 1L8.5 8.5l.94-2.06 2.06-.94-2.06-.94L8.5 2.5l-.94 2.06-2.06.94zm10 10l.94 2.06.94-2.06 2.06-.94-2.06-.94-.94-2.06-.94 2.06-2.06.94z\"/><path d=\"M17.41 7.96l-1.37-1.37c-.4-.4-.92-.59-1.43-.59-.52 0-1.04.2-1.43.59L10.3 9.45l-7.72 7.72c-.78.78-.78 2.05 0 2.83L4 21.41c.39.39.9.59 1.41.59.51 0 1.02-.2 1.41-.59l7.78-7.78 2.81-2.81c.8-.78.8-2.07 0-2.86zM5.41 20L4 18.59l7.72-7.72 1.47 1.35L5.41 20z\"/>\n",
              "  </svg>\n",
              "      </button>\n",
              "      \n",
              "  <style>\n",
              "    .colab-df-container {\n",
              "      display:flex;\n",
              "      flex-wrap:wrap;\n",
              "      gap: 12px;\n",
              "    }\n",
              "\n",
              "    .colab-df-convert {\n",
              "      background-color: #E8F0FE;\n",
              "      border: none;\n",
              "      border-radius: 50%;\n",
              "      cursor: pointer;\n",
              "      display: none;\n",
              "      fill: #1967D2;\n",
              "      height: 32px;\n",
              "      padding: 0 0 0 0;\n",
              "      width: 32px;\n",
              "    }\n",
              "\n",
              "    .colab-df-convert:hover {\n",
              "      background-color: #E2EBFA;\n",
              "      box-shadow: 0px 1px 2px rgba(60, 64, 67, 0.3), 0px 1px 3px 1px rgba(60, 64, 67, 0.15);\n",
              "      fill: #174EA6;\n",
              "    }\n",
              "\n",
              "    [theme=dark] .colab-df-convert {\n",
              "      background-color: #3B4455;\n",
              "      fill: #D2E3FC;\n",
              "    }\n",
              "\n",
              "    [theme=dark] .colab-df-convert:hover {\n",
              "      background-color: #434B5C;\n",
              "      box-shadow: 0px 1px 3px 1px rgba(0, 0, 0, 0.15);\n",
              "      filter: drop-shadow(0px 1px 2px rgba(0, 0, 0, 0.3));\n",
              "      fill: #FFFFFF;\n",
              "    }\n",
              "  </style>\n",
              "\n",
              "      <script>\n",
              "        const buttonEl =\n",
              "          document.querySelector('#df-89addadd-8800-4d9c-9747-d6ed4e112ba1 button.colab-df-convert');\n",
              "        buttonEl.style.display =\n",
              "          google.colab.kernel.accessAllowed ? 'block' : 'none';\n",
              "\n",
              "        async function convertToInteractive(key) {\n",
              "          const element = document.querySelector('#df-89addadd-8800-4d9c-9747-d6ed4e112ba1');\n",
              "          const dataTable =\n",
              "            await google.colab.kernel.invokeFunction('convertToInteractive',\n",
              "                                                     [key], {});\n",
              "          if (!dataTable) return;\n",
              "\n",
              "          const docLinkHtml = 'Like what you see? Visit the ' +\n",
              "            '<a target=\"_blank\" href=https://colab.research.google.com/notebooks/data_table.ipynb>data table notebook</a>'\n",
              "            + ' to learn more about interactive tables.';\n",
              "          element.innerHTML = '';\n",
              "          dataTable['output_type'] = 'display_data';\n",
              "          await google.colab.output.renderOutput(dataTable, element);\n",
              "          const docLink = document.createElement('div');\n",
              "          docLink.innerHTML = docLinkHtml;\n",
              "          element.appendChild(docLink);\n",
              "        }\n",
              "      </script>\n",
              "    </div>\n",
              "  </div>\n",
              "  "
            ]
          },
          "metadata": {},
          "execution_count": 2
        }
      ],
      "source": [
        "file =   \"/GoogleDrive/My Drive/S&P.xlsx\"\n",
        "dataset = pd.read_excel(file, sheet_name=\"ts\")\n",
        "\n",
        "#Date to Datetime for Plotting\n",
        "dataset['date'] = pd.to_datetime(dataset['date'])\n",
        "\n",
        "#Returns\n",
        "dataset['log_value'] = np.log(dataset['time'])\n",
        "dataset['log_ret'] = dataset['log_value'] - dataset['log_value'].shift(+1)\n",
        "dataset['lead_ret'] = dataset['log_ret'].shift(-1)\n",
        "dataset['lead_weekly_ret'] = dataset['log_ret'].rolling(5).sum().shift(-5)\n",
        "dataset['lag_weekly_ret'] = dataset['log_ret'].rolling(5).sum()\n",
        "\n",
        "#Returns Classes\n",
        "dataset['log_ret_class'] = np.where(dataset['log_ret']>0,1,0) #Log Return Class\n",
        "dataset['lag_weekly_ret_class'] = np.where(dataset['lag_weekly_ret']>0,1,0) #T to T-5 Return Class\n",
        "dataset['lead_weekly_ret_class'] = np.where(dataset['lead_weekly_ret']> 0, 1, 0) #Target Class\n",
        "dataset['lead_ret_class'] = np.where(dataset['lead_ret']> 0, 1, 0) #Next Day Return Class\n",
        "\n",
        "#Simple Moving Averages\n",
        "dataset['sma_3'] = dataset['log_value'].rolling(3).mean()\n",
        "dataset['sma_5'] = dataset['log_value'].rolling(5).mean()\n",
        "dataset['sma_10'] = dataset['log_value'].rolling(10).mean()\n",
        "dataset['sma_20'] = dataset['log_value'].rolling(20).mean()\n",
        "dataset['sma_50'] = dataset['log_value'].rolling(50).mean()\n",
        "dataset['sma_100'] = dataset['log_value'].rolling(100).mean()\n",
        "dataset['sma_200'] = dataset['log_value'].rolling(200).mean()\n",
        "\n",
        "#Exponentially Weighted Variance \n",
        "dataset['sq_ret'] = np.power(dataset['lag_weekly_ret'],2)\n",
        "dataset['sq_ret_ch'] = dataset['sq_ret'] - dataset['sq_ret'].shift(+1)\n",
        "dataset['ewma_var'] = dataset['sq_ret'].ewm(alpha = 0.4).mean() #Uses the RiskMetrics 0.96 decay factor\n",
        "dataset['ewma_var_ch'] = dataset['ewma_var'] - dataset['ewma_var'].shift(+1)\n",
        "\n",
        "#Exponentially Weighted Moving Averages\n",
        "dataset['ema_200'] = dataset['log_value'].ewm(alpha = 0.01).mean()\n",
        "dataset['ema_50'] = dataset['log_value'].ewm(alpha = 0.0392).mean()\n",
        "dataset['ema_10'] = dataset['log_value'].ewm(alpha = 0.181).mean()\n",
        "dataset['ema_3'] = dataset['log_value'].ewm(alpha = 0.5).mean()\n",
        "\n",
        "#Drop Time and NAs\n",
        "dataset.pop('time')\n",
        "\n",
        "dataset.dropna(inplace = True)\n",
        "\n",
        "dataset.head()"
      ]
    },
    {
      "cell_type": "code",
      "execution_count": 4,
      "metadata": {
        "colab": {
          "base_uri": "https://localhost:8080/",
          "height": 282
        },
        "id": "lZN5RclCDeMw",
        "outputId": "008db2dc-de03-4aa1-e099-f375300bf942"
      },
      "outputs": [
        {
          "output_type": "execute_result",
          "data": {
            "text/plain": [
              "[<matplotlib.lines.Line2D at 0x7f9e564460d0>]"
            ]
          },
          "metadata": {},
          "execution_count": 4
        },
        {
          "output_type": "display_data",
          "data": {
            "text/plain": [
              "<Figure size 432x288 with 1 Axes>"
            ],
            "image/png": "[encoded data removed]"
          },
          "metadata": {
            "needs_background": "light"
          }
        }
      ],
      "source": [
        "#Some Plotting to check variables\n",
        "#plt.plot(dataset['log_value'])\n",
        "#plt.plot(dataset['ma_3'])\n",
        "#plt.plot(dataset['ma_20'])\n",
        "plt.plot(dataset['log_ret'])\n",
        "plt.plot(dataset['ewma_var'])"
      ]
    },
    {
      "cell_type": "code",
      "source": [
        " "
      ],
      "metadata": {
        "id": "jSsaGQp106t4"
      },
      "execution_count": null,
      "outputs": []
    },
    {
      "cell_type": "code",
      "source": [
        "#Exponentially Weighted Variance \n",
        "\n",
        "ewma_set = pd.DataFrame(dataset['lead_ret'])\n",
        "ewma_set['daily_ret'] = dataset['log_ret']\n",
        "ewma_set['sq_ret'] = np.power(dataset['lag_weekly_ret'],2)\n",
        "ewma_set['ewma_96'] = dataset['sq_ret'].ewm(alpha = 0.96).mean() #Uses the RiskMetrics 0.96 decay factor\n",
        "ewma_set['ewma_91'] = dataset['sq_ret'].ewm(alpha = 0.91).mean()\n",
        "ewma_set['ewma_85'] = dataset['sq_ret'].ewm(alpha = 0.85).mean()\n",
        "ewma_set['ewma_72'] = dataset['sq_ret'].ewm(alpha = 0.72).mean()\n",
        "ewma_set['ewma_50'] = dataset['sq_ret'].ewm(alpha = 0.5).mean()\n",
        "\n",
        "\n",
        "ewma_set.head()\n",
        "import seaborn as sn\n",
        "\n",
        "corr_mat = ewma_set.corr()\n",
        "sn.heatmap(corr_mat, annot=True, linewidths=.3)\n",
        "plt.show()"
      ],
      "metadata": {
        "colab": {
          "base_uri": "https://localhost:8080/",
          "height": 307
        },
        "id": "7yPdBNmIzwAs",
        "outputId": "ebd3e25a-863b-46a4-a030-fd7fc149d8a1"
      },
      "execution_count": 5,
      "outputs": [
        {
          "output_type": "display_data",
          "data": {
            "text/plain": [
              "<Figure size 432x288 with 2 Axes>"
            ],
            "image/png": "[encoded data removed]"
          },
          "metadata": {
            "needs_background": "light"
          }
        }
      ]
    },
    {
      "cell_type": "code",
      "execution_count": 6,
      "metadata": {
        "id": "ZTHpCjotRCLV"
      },
      "outputs": [],
      "source": [
        "#Signal Generation\n",
        "\n",
        "#Momentum Rule\n",
        "dataset['momentum_120'] = dataset['log_value'] - dataset['log_value'].shift(+200)\n",
        "dataset['momentum_121'] = dataset['log_value'].shift(+20) - dataset['log_value'].shift(+200)\n",
        "dataset['momentum_61'] = dataset['log_value'].shift(+20) - dataset['log_value'].shift(+100)\n",
        "\n",
        "dataset['mom_120_rule'] = np.where(dataset['momentum_120']> 0, 1, 0)\n",
        "dataset['mom_121_rule'] = np.where(dataset['momentum_121']> 0, 1, 0)\n",
        "dataset['mom_61_rule'] = np.where(dataset['momentum_61']> 0, 1, 0)\n",
        "\n",
        "#MA Change of Direction Rule\n",
        "\n",
        "dataset['ma_200_cd_rule'] = np.where((dataset['sma_200']- dataset['sma_200'].shift(+1))>0,1,0)\n",
        "dataset['ma_20_cd_rule'] = np.where((dataset['sma_20']- dataset['sma_20'].shift(+1))>0,1,0)\n",
        "\n",
        "#PMA Rule\n",
        "\n",
        "dataset['pma_20'] = dataset['log_value'] - dataset['sma_20']      \n",
        "dataset['pma_100'] = dataset['log_value'] - dataset['sma_100']\n",
        "dataset['pma_200'] = dataset['log_value'] - dataset['sma_200']\n",
        "\n",
        "dataset['pma_20_rule'] = np.where(dataset['pma_20']>0, 1, 0)\n",
        "dataset['pma_100_rule'] = np.where(dataset['pma_100']>0, 1, 0)\n",
        "dataset['pma_200_rule'] = np.where(dataset['pma_200']>0, 1, 0)\n",
        "\n",
        "#MA Crossover Rule\n",
        "\n",
        "dataset['mac_3_10'] = dataset['sma_3'] - dataset['sma_10']\n",
        "dataset['mac_50_200'] = dataset['sma_50'] - dataset['sma_200']\n",
        "\n",
        "dataset['mac_3_10_rule'] = np.where(dataset['mac_3_10']>0, 1, 0)\n",
        "dataset['mac_50_200_rule'] = np.where(dataset['mac_50_200']>0, 1, 0)\n",
        "\n",
        "#Ma Convergence/Divergence Rule\n",
        "\n",
        "dataset['mac_ema_50_200'] = dataset['ema_50'] - dataset['ema_200']\n",
        "\n",
        "dataset['ema_mac_50_200'] = dataset['mac_ema_50_200'].ewm(alpha = 0.095).mean()\n",
        "\n",
        "dataset['macd_50_200'] = dataset['mac_ema_50_200'] - dataset['ema_mac_50_200']\n",
        "\n",
        "dataset['macd_50_200_rule'] = np.where(dataset['macd_50_200']>0, 1, 0)"
      ]
    },
    {
      "cell_type": "code",
      "execution_count": 7,
      "metadata": {
        "colab": {
          "base_uri": "https://localhost:8080/",
          "height": 592
        },
        "id": "ez679axgxg8a",
        "outputId": "4bcc62e3-dd5a-45be-e548-c83cca79ca6c"
      },
      "outputs": [
        {
          "output_type": "stream",
          "name": "stdout",
          "text": [
            "['lead_ret_class', 'log_ret_class', 'lag_weekly_ret_class', 'ewma_var_ch', 'mom_120_rule', 'mom_121_rule', 'mom_61_rule', 'ma_200_cd_rule', 'ma_20_cd_rule', 'pma_20_rule', 'pma_100_rule', 'pma_200_rule', 'mac_3_10_rule', 'mac_50_200_rule', 'macd_50_200_rule']\n"
          ]
        },
        {
          "output_type": "stream",
          "name": "stderr",
          "text": [
            "/usr/local/lib/python3.7/dist-packages/pandas/util/_decorators.py:311: SettingWithCopyWarning: \n",
            "A value is trying to be set on a copy of a slice from a DataFrame\n",
            "\n",
            "See the caveats in the documentation: https://pandas.pydata.org/pandas-docs/stable/user_guide/indexing.html#returning-a-view-versus-a-copy\n",
            "  return func(*args, **kwargs)\n"
          ]
        },
        {
          "output_type": "execute_result",
          "data": {
            "text/plain": [
              "       lead_ret_class  log_ret_class  lag_weekly_ret_class  ewma_var_ch  \\\n",
              "199                 1              1                     1     0.000236   \n",
              "200                 1              1                     1     0.000140   \n",
              "201                 1              1                     1    -0.000081   \n",
              "202                 0              1                     1    -0.000035   \n",
              "203                 1              0                     1    -0.000171   \n",
              "...               ...            ...                   ...          ...   \n",
              "23689               0              0                     1    -0.000062   \n",
              "23690               0              0                     0    -0.000058   \n",
              "23691               1              0                     0     0.000219   \n",
              "23692               0              1                     0     0.000014   \n",
              "23693               1              0                     0     0.001583   \n",
              "\n",
              "       mom_120_rule  mom_121_rule  mom_61_rule  ma_200_cd_rule  ma_20_cd_rule  \\\n",
              "199               0             0            0               0              0   \n",
              "200               0             0            0               1              1   \n",
              "201               0             0            0               1              1   \n",
              "202               0             0            0               1              1   \n",
              "203               0             0            0               1              1   \n",
              "...             ...           ...          ...             ...            ...   \n",
              "23689             1             1            0               1              0   \n",
              "23690             1             1            0               1              0   \n",
              "23691             0             1            0               0              0   \n",
              "23692             0             1            0               0              0   \n",
              "23693             0             1            1               0              0   \n",
              "\n",
              "       pma_20_rule  pma_100_rule  pma_200_rule  mac_3_10_rule  \\\n",
              "199              1             1             1              1   \n",
              "200              1             1             1              1   \n",
              "201              1             1             1              1   \n",
              "202              1             1             1              1   \n",
              "203              1             1             1              1   \n",
              "...            ...           ...           ...            ...   \n",
              "23689            0             0             0              0   \n",
              "23690            0             0             0              1   \n",
              "23691            0             0             0              0   \n",
              "23692            0             0             0              0   \n",
              "23693            0             0             0              0   \n",
              "\n",
              "       mac_50_200_rule  macd_50_200_rule  \n",
              "199                  1                 0  \n",
              "200                  1                 1  \n",
              "201                  1                 1  \n",
              "202                  1                 1  \n",
              "203                  1                 1  \n",
              "...                ...               ...  \n",
              "23689                0                 0  \n",
              "23690                0                 0  \n",
              "23691                0                 0  \n",
              "23692                0                 0  \n",
              "23693                0                 0  \n",
              "\n",
              "[23495 rows x 15 columns]"
            ],
            "text/html": [
              "\n",
              "  <div id=\"df-d734fef4-eb4f-4070-a510-11899817ca25\">\n",
              "    <div class=\"colab-df-container\">\n",
              "      <div>\n",
              "<style scoped>\n",
              "    .dataframe tbody tr th:only-of-type {\n",
              "        vertical-align: middle;\n",
              "    }\n",
              "\n",
              "    .dataframe tbody tr th {\n",
              "        vertical-align: top;\n",
              "    }\n",
              "\n",
              "    .dataframe thead th {\n",
              "        text-align: right;\n",
              "    }\n",
              "</style>\n",
              "<table border=\"1\" class=\"dataframe\">\n",
              "  <thead>\n",
              "    <tr style=\"text-align: right;\">\n",
              "      <th></th>\n",
              "      <th>lead_ret_class</th>\n",
              "      <th>log_ret_class</th>\n",
              "      <th>lag_weekly_ret_class</th>\n",
              "      <th>ewma_var_ch</th>\n",
              "      <th>mom_120_rule</th>\n",
              "      <th>mom_121_rule</th>\n",
              "      <th>mom_61_rule</th>\n",
              "      <th>ma_200_cd_rule</th>\n",
              "      <th>ma_20_cd_rule</th>\n",
              "      <th>pma_20_rule</th>\n",
              "      <th>pma_100_rule</th>\n",
              "      <th>pma_200_rule</th>\n",
              "      <th>mac_3_10_rule</th>\n",
              "      <th>mac_50_200_rule</th>\n",
              "      <th>macd_50_200_rule</th>\n",
              "    </tr>\n",
              "  </thead>\n",
              "  <tbody>\n",
              "    <tr>\n",
              "      <th>199</th>\n",
              "      <td>1</td>\n",
              "      <td>1</td>\n",
              "      <td>1</td>\n",
              "      <td>0.000236</td>\n",
              "      <td>0</td>\n",
              "      <td>0</td>\n",
              "      <td>0</td>\n",
              "      <td>0</td>\n",
              "      <td>0</td>\n",
              "      <td>1</td>\n",
              "      <td>1</td>\n",
              "      <td>1</td>\n",
              "      <td>1</td>\n",
              "      <td>1</td>\n",
              "      <td>0</td>\n",
              "    </tr>\n",
              "    <tr>\n",
              "      <th>200</th>\n",
              "      <td>1</td>\n",
              "      <td>1</td>\n",
              "      <td>1</td>\n",
              "      <td>0.000140</td>\n",
              "      <td>0</td>\n",
              "      <td>0</td>\n",
              "      <td>0</td>\n",
              "      <td>1</td>\n",
              "      <td>1</td>\n",
              "      <td>1</td>\n",
              "      <td>1</td>\n",
              "      <td>1</td>\n",
              "      <td>1</td>\n",
              "      <td>1</td>\n",
              "      <td>1</td>\n",
              "    </tr>\n",
              "    <tr>\n",
              "      <th>201</th>\n",
              "      <td>1</td>\n",
              "      <td>1</td>\n",
              "      <td>1</td>\n",
              "      <td>-0.000081</td>\n",
              "      <td>0</td>\n",
              "      <td>0</td>\n",
              "      <td>0</td>\n",
              "      <td>1</td>\n",
              "      <td>1</td>\n",
              "      <td>1</td>\n",
              "      <td>1</td>\n",
              "      <td>1</td>\n",
              "      <td>1</td>\n",
              "      <td>1</td>\n",
              "      <td>1</td>\n",
              "    </tr>\n",
              "    <tr>\n",
              "      <th>202</th>\n",
              "      <td>0</td>\n",
              "      <td>1</td>\n",
              "      <td>1</td>\n",
              "      <td>-0.000035</td>\n",
              "      <td>0</td>\n",
              "      <td>0</td>\n",
              "      <td>0</td>\n",
              "      <td>1</td>\n",
              "      <td>1</td>\n",
              "      <td>1</td>\n",
              "      <td>1</td>\n",
              "      <td>1</td>\n",
              "      <td>1</td>\n",
              "      <td>1</td>\n",
              "      <td>1</td>\n",
              "    </tr>\n",
              "    <tr>\n",
              "      <th>203</th>\n",
              "      <td>1</td>\n",
              "      <td>0</td>\n",
              "      <td>1</td>\n",
              "      <td>-0.000171</td>\n",
              "      <td>0</td>\n",
              "      <td>0</td>\n",
              "      <td>0</td>\n",
              "      <td>1</td>\n",
              "      <td>1</td>\n",
              "      <td>1</td>\n",
              "      <td>1</td>\n",
              "      <td>1</td>\n",
              "      <td>1</td>\n",
              "      <td>1</td>\n",
              "      <td>1</td>\n",
              "    </tr>\n",
              "    <tr>\n",
              "      <th>...</th>\n",
              "      <td>...</td>\n",
              "      <td>...</td>\n",
              "      <td>...</td>\n",
              "      <td>...</td>\n",
              "      <td>...</td>\n",
              "      <td>...</td>\n",
              "      <td>...</td>\n",
              "      <td>...</td>\n",
              "      <td>...</td>\n",
              "      <td>...</td>\n",
              "      <td>...</td>\n",
              "      <td>...</td>\n",
              "      <td>...</td>\n",
              "      <td>...</td>\n",
              "      <td>...</td>\n",
              "    </tr>\n",
              "    <tr>\n",
              "      <th>23689</th>\n",
              "      <td>0</td>\n",
              "      <td>0</td>\n",
              "      <td>1</td>\n",
              "      <td>-0.000062</td>\n",
              "      <td>1</td>\n",
              "      <td>1</td>\n",
              "      <td>0</td>\n",
              "      <td>1</td>\n",
              "      <td>0</td>\n",
              "      <td>0</td>\n",
              "      <td>0</td>\n",
              "      <td>0</td>\n",
              "      <td>0</td>\n",
              "      <td>0</td>\n",
              "      <td>0</td>\n",
              "    </tr>\n",
              "    <tr>\n",
              "      <th>23690</th>\n",
              "      <td>0</td>\n",
              "      <td>0</td>\n",
              "      <td>0</td>\n",
              "      <td>-0.000058</td>\n",
              "      <td>1</td>\n",
              "      <td>1</td>\n",
              "      <td>0</td>\n",
              "      <td>1</td>\n",
              "      <td>0</td>\n",
              "      <td>0</td>\n",
              "      <td>0</td>\n",
              "      <td>0</td>\n",
              "      <td>1</td>\n",
              "      <td>0</td>\n",
              "      <td>0</td>\n",
              "    </tr>\n",
              "    <tr>\n",
              "      <th>23691</th>\n",
              "      <td>1</td>\n",
              "      <td>0</td>\n",
              "      <td>0</td>\n",
              "      <td>0.000219</td>\n",
              "      <td>0</td>\n",
              "      <td>1</td>\n",
              "      <td>0</td>\n",
              "      <td>0</td>\n",
              "      <td>0</td>\n",
              "      <td>0</td>\n",
              "      <td>0</td>\n",
              "      <td>0</td>\n",
              "      <td>0</td>\n",
              "      <td>0</td>\n",
              "      <td>0</td>\n",
              "    </tr>\n",
              "    <tr>\n",
              "      <th>23692</th>\n",
              "      <td>0</td>\n",
              "      <td>1</td>\n",
              "      <td>0</td>\n",
              "      <td>0.000014</td>\n",
              "      <td>0</td>\n",
              "      <td>1</td>\n",
              "      <td>0</td>\n",
              "      <td>0</td>\n",
              "      <td>0</td>\n",
              "      <td>0</td>\n",
              "      <td>0</td>\n",
              "      <td>0</td>\n",
              "      <td>0</td>\n",
              "      <td>0</td>\n",
              "      <td>0</td>\n",
              "    </tr>\n",
              "    <tr>\n",
              "      <th>23693</th>\n",
              "      <td>1</td>\n",
              "      <td>0</td>\n",
              "      <td>0</td>\n",
              "      <td>0.001583</td>\n",
              "      <td>0</td>\n",
              "      <td>1</td>\n",
              "      <td>1</td>\n",
              "      <td>0</td>\n",
              "      <td>0</td>\n",
              "      <td>0</td>\n",
              "      <td>0</td>\n",
              "      <td>0</td>\n",
              "      <td>0</td>\n",
              "      <td>0</td>\n",
              "      <td>0</td>\n",
              "    </tr>\n",
              "  </tbody>\n",
              "</table>\n",
              "<p>23495 rows × 15 columns</p>\n",
              "</div>\n",
              "      <button class=\"colab-df-convert\" onclick=\"convertToInteractive('df-d734fef4-eb4f-4070-a510-11899817ca25')\"\n",
              "              title=\"Convert this dataframe to an interactive table.\"\n",
              "              style=\"display:none;\">\n",
              "        \n",
              "  <svg xmlns=\"http://www.w3.org/2000/svg\" height=\"24px\"viewBox=\"0 0 24 24\"\n",
              "       width=\"24px\">\n",
              "    <path d=\"M0 0h24v24H0V0z\" fill=\"none\"/>\n",
              "    <path d=\"M18.56 5.44l.94 2.06.94-2.06 2.06-.94-2.06-.94-.94-2.06-.94 2.06-2.06.94zm-11 1L8.5 8.5l.94-2.06 2.06-.94-2.06-.94L8.5 2.5l-.94 2.06-2.06.94zm10 10l.94 2.06.94-2.06 2.06-.94-2.06-.94-.94-2.06-.94 2.06-2.06.94z\"/><path d=\"M17.41 7.96l-1.37-1.37c-.4-.4-.92-.59-1.43-.59-.52 0-1.04.2-1.43.59L10.3 9.45l-7.72 7.72c-.78.78-.78 2.05 0 2.83L4 21.41c.39.39.9.59 1.41.59.51 0 1.02-.2 1.41-.59l7.78-7.78 2.81-2.81c.8-.78.8-2.07 0-2.86zM5.41 20L4 18.59l7.72-7.72 1.47 1.35L5.41 20z\"/>\n",
              "  </svg>\n",
              "      </button>\n",
              "      \n",
              "  <style>\n",
              "    .colab-df-container {\n",
              "      display:flex;\n",
              "      flex-wrap:wrap;\n",
              "      gap: 12px;\n",
              "    }\n",
              "\n",
              "    .colab-df-convert {\n",
              "      background-color: #E8F0FE;\n",
              "      border: none;\n",
              "      border-radius: 50%;\n",
              "      cursor: pointer;\n",
              "      display: none;\n",
              "      fill: #1967D2;\n",
              "      height: 32px;\n",
              "      padding: 0 0 0 0;\n",
              "      width: 32px;\n",
              "    }\n",
              "\n",
              "    .colab-df-convert:hover {\n",
              "      background-color: #E2EBFA;\n",
              "      box-shadow: 0px 1px 2px rgba(60, 64, 67, 0.3), 0px 1px 3px 1px rgba(60, 64, 67, 0.15);\n",
              "      fill: #174EA6;\n",
              "    }\n",
              "\n",
              "    [theme=dark] .colab-df-convert {\n",
              "      background-color: #3B4455;\n",
              "      fill: #D2E3FC;\n",
              "    }\n",
              "\n",
              "    [theme=dark] .colab-df-convert:hover {\n",
              "      background-color: #434B5C;\n",
              "      box-shadow: 0px 1px 3px 1px rgba(0, 0, 0, 0.15);\n",
              "      filter: drop-shadow(0px 1px 2px rgba(0, 0, 0, 0.3));\n",
              "      fill: #FFFFFF;\n",
              "    }\n",
              "  </style>\n",
              "\n",
              "      <script>\n",
              "        const buttonEl =\n",
              "          document.querySelector('#df-d734fef4-eb4f-4070-a510-11899817ca25 button.colab-df-convert');\n",
              "        buttonEl.style.display =\n",
              "          google.colab.kernel.accessAllowed ? 'block' : 'none';\n",
              "\n",
              "        async function convertToInteractive(key) {\n",
              "          const element = document.querySelector('#df-d734fef4-eb4f-4070-a510-11899817ca25');\n",
              "          const dataTable =\n",
              "            await google.colab.kernel.invokeFunction('convertToInteractive',\n",
              "                                                     [key], {});\n",
              "          if (!dataTable) return;\n",
              "\n",
              "          const docLinkHtml = 'Like what you see? Visit the ' +\n",
              "            '<a target=\"_blank\" href=https://colab.research.google.com/notebooks/data_table.ipynb>data table notebook</a>'\n",
              "            + ' to learn more about interactive tables.';\n",
              "          element.innerHTML = '';\n",
              "          dataTable['output_type'] = 'display_data';\n",
              "          await google.colab.output.renderOutput(dataTable, element);\n",
              "          const docLink = document.createElement('div');\n",
              "          docLink.innerHTML = docLinkHtml;\n",
              "          element.appendChild(docLink);\n",
              "        }\n",
              "      </script>\n",
              "    </div>\n",
              "  </div>\n",
              "  "
            ]
          },
          "metadata": {},
          "execution_count": 7
        }
      ],
      "source": [
        "rule_cols = [col for col in dataset.columns if 'rule' in col]\n",
        "\n",
        "col_names = ['log_ret_class', 'lag_weekly_ret_class', 'ewma_var_ch']\n",
        "\n",
        "var_name = ['lead_ret_class']\n",
        "\n",
        "#var_name = ['lead_weekly_ret_class']\n",
        "\n",
        "vars =  var_name + col_names + rule_cols\n",
        "\n",
        "#var_name = ['lead_weekly_ret_class']\n",
        "\n",
        "print(vars)\n",
        "\n",
        "model_df = dataset[vars]\n",
        "\n",
        "model_df.dropna(inplace = True)\n",
        "\n",
        "model_df\n"
      ]
    },
    {
      "cell_type": "code",
      "execution_count": 8,
      "metadata": {
        "colab": {
          "base_uri": "https://localhost:8080/",
          "height": 353
        },
        "id": "C2HH0ddi_Mv4",
        "outputId": "a1a8e458-0eb0-420c-9667-59d3f133f76d"
      },
      "outputs": [
        {
          "output_type": "display_data",
          "data": {
            "text/plain": [
              "<Figure size 432x288 with 2 Axes>"
            ],
            "image/png": "[encoded data removed]"
          },
          "metadata": {
            "needs_background": "light"
          }
        }
      ],
      "source": [
        "#Correlation Matrix\n",
        "\n",
        "import seaborn as sn\n",
        "\n",
        "vars_corr = var_name + rule_cols\n",
        "\n",
        "corr_mat = model_df[vars_corr].corr()\n",
        "sn.heatmap(corr_mat, annot=True, linewidths=.3)\n",
        "plt.show()"
      ]
    },
    {
      "cell_type": "code",
      "execution_count": null,
      "metadata": {
        "colab": {
          "base_uri": "https://localhost:8080/"
        },
        "id": "HQY4o05CzisW",
        "outputId": "1f125fe5-8390-4784-fb9d-964428cb0e12"
      },
      "outputs": [
        {
          "output_type": "stream",
          "name": "stdout",
          "text": [
            "(16875, 20, 14) (16875, 1) (4688, 20, 14) (4688, 1) (1875, 20, 14) (1875, 1)\n"
          ]
        }
      ],
      "source": [
        "# Import train_test_split function\n",
        "from sklearn.model_selection import train_test_split\n",
        "\n",
        "#prepare Train-Test-Validate Dataset\n",
        "\n",
        "steps = 20\n",
        "\n",
        "ts = 0.1\n",
        "\n",
        "values = model_df.values\n",
        "\n",
        "# Creating a data structure with i time-steps and 1 output\n",
        "X = []\n",
        "y = []\n",
        "\n",
        "for i in range(steps, len(values)):\n",
        "    X.append(values[i-steps:i, 1:])\n",
        "    y.append(values[i, 0])\n",
        "\n",
        "X, y = np.array(X), np.array(y)\n",
        "\n",
        "X = np.reshape(X, (X.shape[0], X.shape[1], X.shape[2]))\n",
        "\n",
        "y = np.reshape(y, (y.shape[0],1))\n",
        "\n",
        "# Creating a data structure with i time-steps and 1 output\n",
        "train_X = []\n",
        "train_y = []\n",
        "\n",
        "test_X = []\n",
        "test_y = []\n",
        "\n",
        "validation_X = []\n",
        "validation_y = []\n",
        "\n",
        "train_X, test_X, train_y, test_y = train_test_split(X, y, test_size=0.2, random_state=1)\n",
        "\n",
        "train_X, validation_X, train_y, validation_y = train_test_split(train_X, train_y, test_size= ts, random_state=1) # 0.02 x 0.8 = 0.016\n",
        "\n",
        "print(train_X.shape, train_y.shape, test_X.shape, test_y.shape, validation_X.shape, validation_y.shape)"
      ]
    },
    {
      "cell_type": "code",
      "source": [
        "#prepare Train-Test-Validate Dataset 2\n",
        "# Import train_test_split function\n",
        "from sklearn.model_selection import train_test_split\n",
        "\n",
        "steps = 10\n",
        "\n",
        "validation_len = 254 #1 year backtest\n",
        "\n",
        "test_size = 0.2\n",
        "\n",
        "values = model_df.values\n",
        "\n",
        "# Creating a data structure with i time-steps and 1 output\n",
        "X = []\n",
        "y = []\n",
        "\n",
        "for i in range(steps, len(values)):\n",
        "    X.append(values[i-steps:i, 1:])\n",
        "    y.append(values[i, 0])\n",
        "\n",
        "X, y = np.array(X), np.array(y)\n",
        "\n",
        "X = np.reshape(X, (X.shape[0], X.shape[1], X.shape[2]))\n",
        "\n",
        "y = np.reshape(y, (y.shape[0],1))\n",
        "\n",
        "# Creating a data structure with i time-steps and 1 output\n",
        "train_X = []\n",
        "train_y = []\n",
        "\n",
        "test_X = []\n",
        "test_y = []\n",
        "\n",
        "validation_X = X[len(X) - validation_len:,:,:]\n",
        "validation_y = y[len(y) - validation_len:,:]\n",
        "\n",
        "train_X, test_X, train_y, test_y = train_test_split(X[0:len(X) - validation_len,:,:], y[0:len(y) - validation_len,:], test_size= test_size, random_state=1)\n",
        "\n",
        "print(train_X.shape, train_y.shape, test_X.shape, test_y.shape, validation_X.shape, validation_y.shape)\n",
        "\n",
        "np.random.seed(1234)"
      ],
      "metadata": {
        "colab": {
          "base_uri": "https://localhost:8080/"
        },
        "id": "egCqOLD8fYja",
        "outputId": "b9df9e64-cf10-4175-a86f-0128f36da361"
      },
      "execution_count": 15,
      "outputs": [
        {
          "output_type": "stream",
          "name": "stdout",
          "text": [
            "(18544, 60, 14) (18544, 1) (4637, 60, 14) (4637, 1) (254, 60, 14) (254, 1)\n"
          ]
        }
      ]
    },
    {
      "cell_type": "code",
      "source": [
        "#Other Train Dev Test Set, with week ahead class and using last year as validation to see effects from Overfitting"
      ],
      "metadata": {
        "id": "rSeMfqxmLed7"
      },
      "execution_count": null,
      "outputs": []
    },
    {
      "cell_type": "code",
      "execution_count": null,
      "metadata": {
        "colab": {
          "base_uri": "https://localhost:8080/"
        },
        "id": "IN1JiQODjONU",
        "outputId": "8cf49f70-0248-4154-acb8-b9fd4576b722"
      },
      "outputs": [
        {
          "data": {
            "text/plain": [
              "array([[0.],\n",
              "       [1.],\n",
              "       [1.],\n",
              "       ...,\n",
              "       [0.],\n",
              "       [0.],\n",
              "       [1.]])"
            ]
          },
          "execution_count": 7,
          "metadata": {},
          "output_type": "execute_result"
        }
      ],
      "source": [
        "train_y"
      ]
    },
    {
      "cell_type": "code",
      "execution_count": 18,
      "metadata": {
        "colab": {
          "base_uri": "https://localhost:8080/",
          "height": 473
        },
        "id": "2cxtY9Fqirf0",
        "outputId": "bdcffedc-06e1-4554-caa8-d968c77b82e4"
      },
      "outputs": [
        {
          "output_type": "stream",
          "name": "stdout",
          "text": [
            "Epoch 1/100\n",
            "580/580 - 15s - loss: 0.6922 - accuracy: 0.5253 - val_loss: 0.6922 - val_accuracy: 0.5189 - 15s/epoch - 25ms/step\n",
            "Epoch 2/100\n",
            "580/580 - 7s - loss: 0.6918 - accuracy: 0.5275 - val_loss: 0.6922 - val_accuracy: 0.5208 - 7s/epoch - 12ms/step\n",
            "Epoch 3/100\n",
            "580/580 - 7s - loss: 0.6917 - accuracy: 0.5267 - val_loss: 0.6923 - val_accuracy: 0.5204 - 7s/epoch - 12ms/step\n",
            "Epoch 4/100\n",
            "580/580 - 8s - loss: 0.6914 - accuracy: 0.5291 - val_loss: 0.6922 - val_accuracy: 0.5217 - 8s/epoch - 13ms/step\n",
            "Epoch 5/100\n",
            "580/580 - 7s - loss: 0.6913 - accuracy: 0.5285 - val_loss: 0.6922 - val_accuracy: 0.5247 - 7s/epoch - 12ms/step\n",
            "Epoch 6/100\n",
            "580/580 - 7s - loss: 0.6911 - accuracy: 0.5315 - val_loss: 0.6922 - val_accuracy: 0.5199 - 7s/epoch - 12ms/step\n"
          ]
        },
        {
          "output_type": "display_data",
          "data": {
            "text/plain": [
              "<Figure size 432x288 with 1 Axes>"
            ],
            "image/png": "[encoded data removed]"
          },
          "metadata": {
            "needs_background": "light"
          }
        }
      ],
      "source": [
        "from keras.models import Sequential\n",
        "from keras.layers import Dense\n",
        "from keras.layers import LSTM\n",
        "from keras.layers import Dropout\n",
        "from keras.callbacks import EarlyStopping\n",
        "\n",
        "\n",
        "early_stopping = EarlyStopping(monitor='val_loss', patience = 5, min_delta=0.001)\n",
        "\n",
        "model = Sequential()\n",
        "\n",
        "model.add(LSTM(10, return_sequences = True, input_shape=(train_X.shape[1], train_X.shape[2])))\n",
        "model.add(Dropout(0.3))\n",
        "\n",
        "#Additional layers we researched and then didn't use due to poor performance\n",
        "model.add(LSTM(10, return_sequences = True))\n",
        "model.add(Dropout(0.3))\n",
        "\n",
        "model.add(LSTM(10, return_sequences = True))\n",
        "model.add(Dropout(0.3))\n",
        "\n",
        "model.add(LSTM(10, return_sequences = False))\n",
        "model.add(Dropout(0.3))\n",
        "\n",
        "model.add(Dense(units = 1, activation = 'sigmoid'))\n",
        "\n",
        "#model.compile(loss='binary_crossentropy', optimizer='adam', metrics = [tf.keras.metrics.Recall()])\n",
        "model.compile(loss='binary_crossentropy', optimizer='adam', metrics = 'accuracy')\n",
        "# fit network\n",
        "history = model.fit(train_X, train_y, epochs = 100, batch_size=32, validation_data = (test_X, test_y), verbose=2, shuffle=False, callbacks=[early_stopping])\n",
        "\n",
        "# plot history\n",
        "plt.plot(history.history['loss'], label='train')\n",
        "plt.plot(history.history['val_loss'], label='test')\n",
        "plt.legend()\n",
        "plt.show()"
      ]
    },
    {
      "cell_type": "code",
      "execution_count": 19,
      "metadata": {
        "colab": {
          "base_uri": "https://localhost:8080/"
        },
        "id": "j4MwCoEJAUB9",
        "outputId": "cc77650d-d45f-48d5-e08d-b00764d748e8"
      },
      "outputs": [
        {
          "output_type": "stream",
          "name": "stdout",
          "text": [
            "[[ 108 2123]\n",
            " [ 103 2303]]\n",
            "              precision    recall  f1-score   support\n",
            "\n",
            "         0.0       0.51      0.05      0.09      2231\n",
            "         1.0       0.52      0.96      0.67      2406\n",
            "\n",
            "    accuracy                           0.52      4637\n",
            "   macro avg       0.52      0.50      0.38      4637\n",
            "weighted avg       0.52      0.52      0.39      4637\n",
            "\n"
          ]
        }
      ],
      "source": [
        "from sklearn.metrics import classification_report, confusion_matrix\n",
        "\n",
        "yhat = (model.predict(test_X) > 0.5).astype(\"int32\")\n",
        "\n",
        "yhat = yhat.reshape(yhat.shape[0],yhat.shape[1])\n",
        "\n",
        "test_y = test_y.reshape(test_y.shape[0],1)\n",
        "\n",
        "print(confusion_matrix(pd.DataFrame(test_y).iloc[:,0], pd.DataFrame(yhat).iloc[:,0]))\n",
        "#print('Classification Report')\n",
        "#target_names = ['Cats', 'Dogs', 'Horse']\n",
        "#print(classification_report(pd.DataFrame(test_y).iloc[:,0], pd.DataFrame(yhat).iloc[:,0], target_names = ['1', '0']))\n",
        "print(classification_report(pd.DataFrame(test_y).iloc[:,0], pd.DataFrame(yhat).iloc[:,0]))\n",
        "\n",
        "\n",
        "#print(yhat, validation_y)"
      ]
    },
    {
      "cell_type": "code",
      "execution_count": 20,
      "metadata": {
        "colab": {
          "base_uri": "https://localhost:8080/"
        },
        "id": "Ku7fvIxohop9",
        "outputId": "5970c21e-f06f-4193-a477-cf7d0eccdfd0"
      },
      "outputs": [
        {
          "output_type": "stream",
          "name": "stdout",
          "text": [
            "(18544, 13) (18544,) (4637, 13) (4637,)\n",
            "[[1070 1161]\n",
            " [1121 1285]]\n",
            "              precision    recall  f1-score   support\n",
            "\n",
            "         0.0       0.49      0.48      0.48      2231\n",
            "         1.0       0.53      0.53      0.53      2406\n",
            "\n",
            "    accuracy                           0.51      4637\n",
            "   macro avg       0.51      0.51      0.51      4637\n",
            "weighted avg       0.51      0.51      0.51      4637\n",
            "\n"
          ]
        }
      ],
      "source": [
        "#Import Random Forest and Train_Test Split\n",
        "from sklearn.ensemble import RandomForestClassifier\n",
        "from sklearn.metrics import classification_report, confusion_matrix\n",
        "\n",
        "train_rf_X = train_X[:,0,1:]\n",
        "\n",
        "test_rf_X = test_X[:,0,1:]\n",
        "\n",
        "train_rf_y = train_y[:,0]\n",
        "\n",
        "test_rf_y = test_y[:,0]\n",
        "\n",
        "#validation_rf_X = validation_X[:,0,1:]\n",
        "\n",
        "#validation_rf_y = validation_y[:,0,0]\n",
        "\n",
        "print(train_rf_X.shape, train_rf_y.shape, test_rf_X.shape, test_rf_y.shape)\n",
        "\n",
        "#, test_rf_X, train_rf_y, test_rf_y = \n",
        "\n",
        "#Create a Gaussian Classifier\n",
        "clf = RandomForestClassifier(n_estimators=100)\n",
        "\n",
        "#Train the model using the training sets y_pred=clf.predict(X_test)\n",
        "clf.fit(train_rf_X,train_rf_y)\n",
        "\n",
        "y_pred = clf.predict(test_rf_X)\n",
        "\n",
        "#y_val = clf.predict(validation_rf_X)\n",
        "\n",
        "from sklearn import metrics\n",
        "\n",
        "#test metrics\n",
        "\n",
        "print(confusion_matrix(pd.DataFrame(test_rf_y).iloc[:,0], pd.DataFrame(y_pred).iloc[:,0]))\n",
        "\n",
        "print(classification_report(pd.DataFrame(test_rf_y).iloc[:,0], pd.DataFrame(y_pred).iloc[:,0]))\n",
        "\n",
        "#validation metrics\n",
        "#print(confusion_matrix(pd.DataFrame(validation_rf_y).iloc[:,0], pd.DataFrame(y_val).iloc[:,0]))\n",
        "\n",
        "#print(classification_report(pd.DataFrame(validation_rf_y).iloc[:,0], pd.DataFrame(y_val).iloc[:,0], target_names = ['0', '1']))\n"
      ]
    },
    {
      "cell_type": "code",
      "execution_count": 21,
      "metadata": {
        "colab": {
          "base_uri": "https://localhost:8080/"
        },
        "id": "b-dh-aklF7uU",
        "outputId": "03f90ff1-3068-4149-fcca-28e6badaa8c0"
      },
      "outputs": [
        {
          "output_type": "stream",
          "name": "stdout",
          "text": [
            "[[ 389 1842]\n",
            " [ 391 2015]]\n",
            "              precision    recall  f1-score   support\n",
            "\n",
            "         0.0       0.50      0.17      0.26      2231\n",
            "         1.0       0.52      0.84      0.64      2406\n",
            "\n",
            "    accuracy                           0.52      4637\n",
            "   macro avg       0.51      0.51      0.45      4637\n",
            "weighted avg       0.51      0.52      0.46      4637\n",
            "\n"
          ]
        }
      ],
      "source": [
        "from sklearn.ensemble import GradientBoostingClassifier\n",
        "\n",
        "clf_gb = GradientBoostingClassifier(n_estimators=100, learning_rate=0.5,max_depth=1, random_state=1)\n",
        "\n",
        "clf_gb.fit(train_rf_X,train_rf_y)\n",
        "\n",
        "y_gb_pred = clf_gb.predict(test_rf_X)\n",
        "\n",
        "#y_val = clf_gb.predict(validation_rf_X)\n",
        "\n",
        "#test metrics\n",
        "\n",
        "print(confusion_matrix(pd.DataFrame(test_rf_y).iloc[:,0], pd.DataFrame(y_gb_pred).iloc[:,0]))\n",
        "\n",
        "print(classification_report(pd.DataFrame(test_rf_y).iloc[:,0], pd.DataFrame(y_gb_pred).iloc[:,0]))\n",
        "\n",
        "#validation metrics\n",
        "\n",
        "#print(confusion_matrix(pd.DataFrame(validation_rf_y).iloc[:,0], pd.DataFrame(y_val).iloc[:,0]))\n",
        "\n",
        "#print(classification_report(pd.DataFrame(validation_rf_y).iloc[:,0], pd.DataFrame(y_val).iloc[:,0], target_names = ['0', '1']))\n",
        "\n",
        "\n"
      ]
    },
    {
      "cell_type": "code",
      "source": [
        "from sklearn.ensemble import AdaBoostClassifier\n",
        "\n",
        "clf_ab = AdaBoostClassifier(n_estimators=100, learning_rate=0.5,random_state=1)\n",
        "\n",
        "clf_ab.fit(train_rf_X,train_rf_y)\n",
        "\n",
        "y_ab_pred = clf_ab.predict(test_rf_X)\n",
        "\n",
        "#y_val = clf_gb.predict(validation_rf_X)\n",
        "\n",
        "#test metrics\n",
        "\n",
        "print(confusion_matrix(pd.DataFrame(test_rf_y).iloc[:,0], pd.DataFrame(y_ab_pred).iloc[:,0]))\n",
        "\n",
        "print(classification_report(pd.DataFrame(test_rf_y).iloc[:,0], pd.DataFrame(y_ab_pred).iloc[:,0]))\n"
      ],
      "metadata": {
        "colab": {
          "base_uri": "https://localhost:8080/"
        },
        "id": "8NXrN9qoE6ce",
        "outputId": "3aaf63bb-d887-4d52-df53-371b28a71322"
      },
      "execution_count": 22,
      "outputs": [
        {
          "output_type": "stream",
          "name": "stdout",
          "text": [
            "[[ 367 1864]\n",
            " [ 370 2036]]\n",
            "              precision    recall  f1-score   support\n",
            "\n",
            "         0.0       0.50      0.16      0.25      2231\n",
            "         1.0       0.52      0.85      0.65      2406\n",
            "\n",
            "    accuracy                           0.52      4637\n",
            "   macro avg       0.51      0.51      0.45      4637\n",
            "weighted avg       0.51      0.52      0.45      4637\n",
            "\n"
          ]
        }
      ]
    },
    {
      "cell_type": "code",
      "execution_count": 23,
      "metadata": {
        "colab": {
          "base_uri": "https://localhost:8080/"
        },
        "id": "vs0B-2uTGwE2",
        "outputId": "07bba380-3b00-4ffa-94f0-aafe6767ac02"
      },
      "outputs": [
        {
          "output_type": "stream",
          "name": "stdout",
          "text": [
            "[[1064 1167]\n",
            " [1171 1235]]\n",
            "              precision    recall  f1-score   support\n",
            "\n",
            "         0.0       0.48      0.48      0.48      2231\n",
            "         1.0       0.51      0.51      0.51      2406\n",
            "\n",
            "    accuracy                           0.50      4637\n",
            "   macro avg       0.50      0.50      0.50      4637\n",
            "weighted avg       0.50      0.50      0.50      4637\n",
            "\n"
          ]
        }
      ],
      "source": [
        "from sklearn import svm\n",
        "\n",
        "clf_svm = svm.NuSVC(gamma=\"auto\")\n",
        "\n",
        "clf_svm.fit(train_rf_X,train_rf_y)\n",
        "\n",
        "y_svm_pred = clf_svm.predict(test_rf_X)\n",
        "\n",
        "print(confusion_matrix(pd.DataFrame(test_rf_y).iloc[:,0], pd.DataFrame(y_svm_pred).iloc[:,0]))\n",
        "\n",
        "print(classification_report(pd.DataFrame(test_rf_y).iloc[:,0], pd.DataFrame(y_svm_pred).iloc[:,0]))\n"
      ]
    },
    {
      "cell_type": "code",
      "execution_count": 24,
      "metadata": {
        "colab": {
          "base_uri": "https://localhost:8080/"
        },
        "id": "Pl4J3W337upN",
        "outputId": "5cabb970-efe5-458e-df62-74d04783c168"
      },
      "outputs": [
        {
          "output_type": "stream",
          "name": "stdout",
          "text": [
            "[[ 440 1791]\n",
            " [ 413 1993]]\n",
            "              precision    recall  f1-score   support\n",
            "\n",
            "         0.0       0.52      0.20      0.29      2231\n",
            "         1.0       0.53      0.83      0.64      2406\n",
            "\n",
            "    accuracy                           0.52      4637\n",
            "   macro avg       0.52      0.51      0.46      4637\n",
            "weighted avg       0.52      0.52      0.47      4637\n",
            "\n"
          ]
        }
      ],
      "source": [
        "from sklearn.linear_model import LogisticRegression\n",
        "\n",
        "clf_lr = LogisticRegression(random_state = 1, penalty = 'l2')\n",
        "\n",
        "clf_lr.fit(train_rf_X,train_rf_y)\n",
        "\n",
        "y_lr_pred = clf_lr.predict(test_rf_X)\n",
        "\n",
        "print(confusion_matrix(pd.DataFrame(test_rf_y).iloc[:,0], pd.DataFrame(y_lr_pred).iloc[:,0]))\n",
        "\n",
        "print(classification_report(pd.DataFrame(test_rf_y).iloc[:,0], pd.DataFrame(y_lr_pred).iloc[:,0]))"
      ]
    },
    {
      "cell_type": "code",
      "execution_count": 28,
      "metadata": {
        "colab": {
          "base_uri": "https://localhost:8080/",
          "height": 821
        },
        "id": "BNDI4Kx1ZfOu",
        "outputId": "cee60ca3-86ad-4d2f-9e5c-c0365a233a81"
      },
      "outputs": [
        {
          "output_type": "stream",
          "name": "stdout",
          "text": [
            "Epoch 1/100\n",
            "580/580 - 2s - loss: 0.6947 - accuracy: 0.5095 - val_loss: 0.6922 - val_accuracy: 0.5189 - 2s/epoch - 4ms/step\n",
            "Epoch 2/100\n",
            "580/580 - 1s - loss: 0.6924 - accuracy: 0.5211 - val_loss: 0.6928 - val_accuracy: 0.5191 - 1s/epoch - 3ms/step\n",
            "Epoch 3/100\n",
            "580/580 - 1s - loss: 0.6921 - accuracy: 0.5242 - val_loss: 0.6924 - val_accuracy: 0.5189 - 1s/epoch - 3ms/step\n",
            "Epoch 4/100\n",
            "580/580 - 1s - loss: 0.6923 - accuracy: 0.5235 - val_loss: 0.6925 - val_accuracy: 0.5193 - 1s/epoch - 3ms/step\n",
            "Epoch 5/100\n",
            "580/580 - 2s - loss: 0.6916 - accuracy: 0.5251 - val_loss: 0.6926 - val_accuracy: 0.5193 - 2s/epoch - 3ms/step\n",
            "Epoch 6/100\n",
            "580/580 - 1s - loss: 0.6919 - accuracy: 0.5238 - val_loss: 0.6925 - val_accuracy: 0.5126 - 1s/epoch - 3ms/step\n",
            "Epoch 7/100\n",
            "580/580 - 1s - loss: 0.6917 - accuracy: 0.5268 - val_loss: 0.6923 - val_accuracy: 0.5169 - 1s/epoch - 3ms/step\n",
            "Epoch 8/100\n",
            "580/580 - 1s - loss: 0.6916 - accuracy: 0.5272 - val_loss: 0.6924 - val_accuracy: 0.5163 - 1s/epoch - 3ms/step\n",
            "Epoch 9/100\n",
            "580/580 - 1s - loss: 0.6914 - accuracy: 0.5269 - val_loss: 0.6925 - val_accuracy: 0.5187 - 1s/epoch - 3ms/step\n",
            "Epoch 10/100\n",
            "580/580 - 2s - loss: 0.6916 - accuracy: 0.5259 - val_loss: 0.6925 - val_accuracy: 0.5180 - 2s/epoch - 3ms/step\n",
            "Epoch 11/100\n",
            "580/580 - 1s - loss: 0.6916 - accuracy: 0.5263 - val_loss: 0.6923 - val_accuracy: 0.5161 - 1s/epoch - 3ms/step\n",
            "Epoch 12/100\n",
            "580/580 - 1s - loss: 0.6917 - accuracy: 0.5245 - val_loss: 0.6924 - val_accuracy: 0.5165 - 1s/epoch - 3ms/step\n",
            "Epoch 13/100\n",
            "580/580 - 1s - loss: 0.6914 - accuracy: 0.5260 - val_loss: 0.6925 - val_accuracy: 0.5159 - 1s/epoch - 3ms/step\n",
            "Epoch 14/100\n",
            "580/580 - 1s - loss: 0.6914 - accuracy: 0.5281 - val_loss: 0.6926 - val_accuracy: 0.5150 - 1s/epoch - 3ms/step\n",
            "Epoch 15/100\n",
            "580/580 - 1s - loss: 0.6913 - accuracy: 0.5301 - val_loss: 0.6925 - val_accuracy: 0.5163 - 1s/epoch - 3ms/step\n",
            "Epoch 16/100\n",
            "580/580 - 1s - loss: 0.6913 - accuracy: 0.5281 - val_loss: 0.6924 - val_accuracy: 0.5169 - 1s/epoch - 3ms/step\n"
          ]
        },
        {
          "output_type": "display_data",
          "data": {
            "text/plain": [
              "<Figure size 432x288 with 1 Axes>"
            ],
            "image/png": "[encoded data removed]"
          },
          "metadata": {
            "needs_background": "light"
          }
        }
      ],
      "source": [
        "#from tensorflow.keras.datasets import mnist\n",
        "from keras.models import Sequential\n",
        "from keras.layers import Dense\n",
        "from keras.layers import LSTM\n",
        "from keras.layers import Dropout\n",
        "from keras.callbacks import EarlyStopping\n",
        "\n",
        "model_mlp = Sequential()\n",
        "\n",
        "early_stopping = EarlyStopping(monitor='val_loss', patience = 15, min_delta=0.001)\n",
        "\n",
        "#train_rf_X = np.reshape(train_rf_X, (train_rf_X.shape[0], train_rf_X.shape[1], train_rf_X.shape[2]))\n",
        "\n",
        "#train_rf_y = np.reshape(train_rf_y, (train_rf_y.shape[0],1))\n",
        "\n",
        "model_mlp.add(Dense(100, input_shape=(train_rf_X.shape[1],), activation = 'relu'))\n",
        "model_mlp.add(Dropout(0.3))\n",
        "\n",
        "#Additional layers we researched and then didn't use due to poor performance\n",
        "model_mlp.add(Dense(100, activation = 'relu'))\n",
        "model_mlp.add(Dropout(0.3))\n",
        "\n",
        "model_mlp.add(Dense(100, activation = 'relu'))\n",
        "model_mlp.add(Dropout(0.3))\n",
        "\n",
        "model_mlp.add(Dense(units = 1, activation = 'sigmoid'))\n",
        "\n",
        "#model.compile(loss='binary_crossentropy', optimizer='adam', metrics = [tf.keras.metrics.Recall()])\n",
        "model_mlp.compile(loss='binary_crossentropy', optimizer='adam', metrics = 'accuracy')\n",
        "# fit network\n",
        "history_mlp = model_mlp.fit(train_rf_X, train_rf_y, epochs = 100, batch_size=32, validation_data = (test_rf_X, test_rf_y), verbose=2, shuffle=False, callbacks=[early_stopping])\n",
        "\n",
        "# plot history\n",
        "plt.plot(history_mlp.history['loss'], label='train')\n",
        "plt.plot(history_mlp.history['val_loss'], label='test')\n",
        "plt.legend()\n",
        "plt.show()"
      ]
    },
    {
      "cell_type": "code",
      "execution_count": 29,
      "metadata": {
        "colab": {
          "base_uri": "https://localhost:8080/"
        },
        "id": "sGVALRdUE79x",
        "outputId": "695ac1a1-d8ba-4bea-e245-d91227735e2a"
      },
      "outputs": [
        {
          "output_type": "stream",
          "name": "stdout",
          "text": [
            "[[  75 2156]\n",
            " [  84 2322]]\n",
            "              precision    recall  f1-score   support\n",
            "\n",
            "         0.0       0.47      0.03      0.06      2231\n",
            "         1.0       0.52      0.97      0.67      2406\n",
            "\n",
            "    accuracy                           0.52      4637\n",
            "   macro avg       0.50      0.50      0.37      4637\n",
            "weighted avg       0.50      0.52      0.38      4637\n",
            "\n"
          ]
        }
      ],
      "source": [
        "from sklearn.metrics import classification_report, confusion_matrix\n",
        "\n",
        "yhat_mlp = (model_mlp.predict(test_rf_X) > 0.5).astype(\"int32\")\n",
        "\n",
        "yhat_mlp = yhat_mlp.reshape(yhat_mlp.shape[0],yhat_mlp.shape[1])\n",
        "\n",
        "test_rf_y = test_rf_y.reshape(test_rf_y.shape[0],1)\n",
        "\n",
        "print(confusion_matrix(pd.DataFrame(test_rf_y).iloc[:,0], pd.DataFrame(yhat_mlp).iloc[:,0]))\n",
        "#print('Classification Report')\n",
        "\n",
        "print(classification_report(pd.DataFrame(test_rf_y).iloc[:,0], pd.DataFrame(yhat_mlp).iloc[:,0]))\n",
        "\n",
        "#print(yhat, validation_y)"
      ]
    },
    {
      "cell_type": "code",
      "execution_count": 30,
      "metadata": {
        "colab": {
          "base_uri": "https://localhost:8080/"
        },
        "id": "C1kf6pKVOapX",
        "outputId": "c8c66884-4367-4034-adc2-15f179c693ec"
      },
      "outputs": [
        {
          "output_type": "stream",
          "name": "stdout",
          "text": [
            "(254, 13) (254,)\n",
            "(254, 1)\n"
          ]
        }
      ],
      "source": [
        "# Model 2 Development\n",
        "\n",
        "validation_rf_X = validation_X[:,0,1:]\n",
        "\n",
        "validation_rf_y = validation_y[:,0]\n",
        "\n",
        "print(validation_rf_X.shape, validation_rf_y.shape)\n",
        "\n",
        "#LSTM\n",
        "yhat_test = (model.predict(validation_X) > 0.5).astype(\"int32\")\n",
        "\n",
        "yhat_test = yhat_test.reshape(yhat_test.shape[0],yhat_test.shape[1])\n",
        "\n",
        "validation_y = validation_y.reshape(validation_y.shape[0],1)\n",
        "\n",
        "#Random Forest\n",
        "\n",
        "y_pred_test = clf.predict(validation_rf_X)\n",
        "\n",
        "#Gradient Boosting\n",
        "\n",
        "y_gb_pred_test = clf_gb.predict(validation_rf_X)\n",
        "\n",
        "#Gradient Boosting\n",
        "\n",
        "y_ab_pred_test = clf_ab.predict(validation_rf_X)\n",
        "\n",
        "#Support Vector Classifier\n",
        "\n",
        "y_svm_pred_test = clf_svm.predict(validation_rf_X)\n",
        "\n",
        "#Logistic Regression\n",
        "\n",
        "y_lr_pred_test = clf_lr.predict(validation_rf_X)\n",
        "\n",
        "#Multi Layer Perceptron\n",
        "\n",
        "y_mlp_pred_test = (model_mlp.predict(validation_rf_X) > 0.5).astype(\"int32\")\n",
        "\n",
        "print(y_mlp_pred_test.shape)\n",
        "\n",
        "y_mlp_pred_test = y_mlp_pred_test.reshape(y_mlp_pred_test.shape[0],y_mlp_pred_test.shape[1])\n"
      ]
    },
    {
      "cell_type": "code",
      "source": [
        "print(confusion_matrix(pd.DataFrame(validation_rf_y).iloc[:,0], pd.DataFrame(yhat_test).iloc[:,0]))\n",
        "\n",
        "print(classification_report(pd.DataFrame(validation_rf_y).iloc[:,0], pd.DataFrame(yhat_test).iloc[:,0]))\n"
      ],
      "metadata": {
        "colab": {
          "base_uri": "https://localhost:8080/"
        },
        "id": "PfjKNjA-k_HU",
        "outputId": "a44dbf43-c550-4819-cbf8-6240e93877b7"
      },
      "execution_count": 31,
      "outputs": [
        {
          "output_type": "stream",
          "name": "stdout",
          "text": [
            "[[  0 121]\n",
            " [  0 133]]\n",
            "              precision    recall  f1-score   support\n",
            "\n",
            "         0.0       0.00      0.00      0.00       121\n",
            "         1.0       0.52      1.00      0.69       133\n",
            "\n",
            "    accuracy                           0.52       254\n",
            "   macro avg       0.26      0.50      0.34       254\n",
            "weighted avg       0.27      0.52      0.36       254\n",
            "\n"
          ]
        },
        {
          "output_type": "stream",
          "name": "stderr",
          "text": [
            "/usr/local/lib/python3.7/dist-packages/sklearn/metrics/_classification.py:1318: UndefinedMetricWarning: Precision and F-score are ill-defined and being set to 0.0 in labels with no predicted samples. Use `zero_division` parameter to control this behavior.\n",
            "  _warn_prf(average, modifier, msg_start, len(result))\n",
            "/usr/local/lib/python3.7/dist-packages/sklearn/metrics/_classification.py:1318: UndefinedMetricWarning: Precision and F-score are ill-defined and being set to 0.0 in labels with no predicted samples. Use `zero_division` parameter to control this behavior.\n",
            "  _warn_prf(average, modifier, msg_start, len(result))\n",
            "/usr/local/lib/python3.7/dist-packages/sklearn/metrics/_classification.py:1318: UndefinedMetricWarning: Precision and F-score are ill-defined and being set to 0.0 in labels with no predicted samples. Use `zero_division` parameter to control this behavior.\n",
            "  _warn_prf(average, modifier, msg_start, len(result))\n"
          ]
        }
      ]
    },
    {
      "cell_type": "code",
      "execution_count": 32,
      "metadata": {
        "colab": {
          "base_uri": "https://localhost:8080/"
        },
        "id": "D58WfT1GKEXA",
        "outputId": "6a5883b8-cb19-401e-ed10-e032e007cf68"
      },
      "outputs": [
        {
          "output_type": "stream",
          "name": "stdout",
          "text": [
            "(4637, 20)\n"
          ]
        }
      ],
      "source": [
        "#Model 2 Train Set\n",
        "\n",
        "model_stack = pd.DataFrame(yhat, columns = ['lstm'])\n",
        "\n",
        "model_stack['mlp'] = yhat_mlp\n",
        "\n",
        "model_stack['randomForest'] = y_pred\n",
        "\n",
        "model_stack['GradientBoosting'] = y_gb_pred\n",
        "\n",
        "model_stack['AdaBoost'] = y_ab_pred\n",
        "\n",
        "model_stack['svm'] = y_svm_pred\n",
        "\n",
        "model_stack['logReg'] = y_lr_pred\n",
        "\n",
        "X_stack = np.concatenate((model_stack.values,test_rf_X),axis=1)\n",
        "\n",
        "print(X_stack.shape)\n"
      ]
    },
    {
      "cell_type": "code",
      "execution_count": 33,
      "metadata": {
        "id": "h4NhA4rV8L8H"
      },
      "outputs": [],
      "source": [
        "#Model 2 Train Set\n",
        "\n",
        "model_test_stack = pd.DataFrame(yhat_test, columns = ['lstm'])\n",
        "\n",
        "model_test_stack['mlp'] = y_mlp_pred_test\n",
        "\n",
        "model_test_stack['randomForest'] = y_pred_test\n",
        "\n",
        "model_test_stack['GradientBoosting'] = y_gb_pred_test\n",
        "\n",
        "model_test_stack['AdaBoost'] = y_ab_pred_test\n",
        "\n",
        "model_test_stack['svm'] = y_svm_pred_test\n",
        "\n",
        "model_test_stack['logReg'] = y_lr_pred_test\n",
        "\n",
        "X_test_stack = np.concatenate((model_test_stack.values,validation_rf_X),axis=1)"
      ]
    },
    {
      "cell_type": "code",
      "source": [
        "X_test_stack.shape"
      ],
      "metadata": {
        "colab": {
          "base_uri": "https://localhost:8080/"
        },
        "id": "Ks0LnVuRJAb2",
        "outputId": "e18fdbd8-3787-49e7-94c3-6bc4a3700992"
      },
      "execution_count": null,
      "outputs": [
        {
          "output_type": "execute_result",
          "data": {
            "text/plain": [
              "(376, 19)"
            ]
          },
          "metadata": {},
          "execution_count": 36
        }
      ]
    },
    {
      "cell_type": "code",
      "execution_count": 34,
      "metadata": {
        "colab": {
          "base_uri": "https://localhost:8080/",
          "height": 347
        },
        "id": "AIlXCQRzpWca",
        "outputId": "bf9ab31c-c106-42f8-9057-ef2e42e06093"
      },
      "outputs": [
        {
          "output_type": "display_data",
          "data": {
            "text/plain": [
              "<Figure size 432x288 with 2 Axes>"
            ],
            "image/png": "[encoded data removed]"
          },
          "metadata": {
            "needs_background": "light"
          }
        }
      ],
      "source": [
        "#Correlation Matrix\n",
        "\n",
        "import seaborn as sn\n",
        "\n",
        "model_corr = model_stack\n",
        "\n",
        "model_corr['target_class'] = test_rf_y\n",
        "\n",
        "corr_mat = model_corr.corr()\n",
        "sn.heatmap(corr_mat, annot=True, linewidths=.3)\n",
        "plt.show()"
      ]
    },
    {
      "cell_type": "code",
      "source": [
        "#Correlation Matrix\n",
        "\n",
        "import seaborn as sn\n",
        "\n",
        "model_corr = model_test_stack\n",
        "\n",
        "model_corr['target_class'] = validation_rf_y\n",
        "\n",
        "corr_mat = model_corr.corr()\n",
        "sn.heatmap(corr_mat, annot=True, linewidths=.3)\n",
        "plt.show()"
      ],
      "metadata": {
        "colab": {
          "base_uri": "https://localhost:8080/",
          "height": 347
        },
        "id": "Mw9XZgjxl1GY",
        "outputId": "ef852bfb-4fa0-4d93-96ee-5e023dd59479"
      },
      "execution_count": 35,
      "outputs": [
        {
          "output_type": "display_data",
          "data": {
            "text/plain": [
              "<Figure size 432x288 with 2 Axes>"
            ],
            "image/png": "[encoded data removed]"
          },
          "metadata": {
            "needs_background": "light"
          }
        }
      ]
    },
    {
      "cell_type": "code",
      "source": [
        "model_test_stack.head()"
      ],
      "metadata": {
        "colab": {
          "base_uri": "https://localhost:8080/",
          "height": 206
        },
        "id": "WAAeZ3VJ848r",
        "outputId": "12593b7e-dcea-473f-e33d-e985f7329326"
      },
      "execution_count": null,
      "outputs": [
        {
          "output_type": "execute_result",
          "data": {
            "text/plain": [
              "   lstm  mlp  randomForest  GradientBoosting  svm  logReg  target_class\n",
              "0     1    1           1.0               1.0  0.0     1.0           1.0\n",
              "1     0    1           1.0               1.0  0.0     1.0           1.0\n",
              "2     0    1           0.0               1.0  0.0     1.0           1.0\n",
              "3     0    1           0.0               1.0  0.0     1.0           1.0\n",
              "4     0    1           1.0               1.0  0.0     1.0           1.0"
            ],
            "text/html": [
              "\n",
              "  <div id=\"df-79fcfffb-b25a-45ea-8e21-630a5b247dca\">\n",
              "    <div class=\"colab-df-container\">\n",
              "      <div>\n",
              "<style scoped>\n",
              "    .dataframe tbody tr th:only-of-type {\n",
              "        vertical-align: middle;\n",
              "    }\n",
              "\n",
              "    .dataframe tbody tr th {\n",
              "        vertical-align: top;\n",
              "    }\n",
              "\n",
              "    .dataframe thead th {\n",
              "        text-align: right;\n",
              "    }\n",
              "</style>\n",
              "<table border=\"1\" class=\"dataframe\">\n",
              "  <thead>\n",
              "    <tr style=\"text-align: right;\">\n",
              "      <th></th>\n",
              "      <th>lstm</th>\n",
              "      <th>mlp</th>\n",
              "      <th>randomForest</th>\n",
              "      <th>GradientBoosting</th>\n",
              "      <th>svm</th>\n",
              "      <th>logReg</th>\n",
              "      <th>target_class</th>\n",
              "    </tr>\n",
              "  </thead>\n",
              "  <tbody>\n",
              "    <tr>\n",
              "      <th>0</th>\n",
              "      <td>1</td>\n",
              "      <td>1</td>\n",
              "      <td>1.0</td>\n",
              "      <td>1.0</td>\n",
              "      <td>0.0</td>\n",
              "      <td>1.0</td>\n",
              "      <td>1.0</td>\n",
              "    </tr>\n",
              "    <tr>\n",
              "      <th>1</th>\n",
              "      <td>0</td>\n",
              "      <td>1</td>\n",
              "      <td>1.0</td>\n",
              "      <td>1.0</td>\n",
              "      <td>0.0</td>\n",
              "      <td>1.0</td>\n",
              "      <td>1.0</td>\n",
              "    </tr>\n",
              "    <tr>\n",
              "      <th>2</th>\n",
              "      <td>0</td>\n",
              "      <td>1</td>\n",
              "      <td>0.0</td>\n",
              "      <td>1.0</td>\n",
              "      <td>0.0</td>\n",
              "      <td>1.0</td>\n",
              "      <td>1.0</td>\n",
              "    </tr>\n",
              "    <tr>\n",
              "      <th>3</th>\n",
              "      <td>0</td>\n",
              "      <td>1</td>\n",
              "      <td>0.0</td>\n",
              "      <td>1.0</td>\n",
              "      <td>0.0</td>\n",
              "      <td>1.0</td>\n",
              "      <td>1.0</td>\n",
              "    </tr>\n",
              "    <tr>\n",
              "      <th>4</th>\n",
              "      <td>0</td>\n",
              "      <td>1</td>\n",
              "      <td>1.0</td>\n",
              "      <td>1.0</td>\n",
              "      <td>0.0</td>\n",
              "      <td>1.0</td>\n",
              "      <td>1.0</td>\n",
              "    </tr>\n",
              "  </tbody>\n",
              "</table>\n",
              "</div>\n",
              "      <button class=\"colab-df-convert\" onclick=\"convertToInteractive('df-79fcfffb-b25a-45ea-8e21-630a5b247dca')\"\n",
              "              title=\"Convert this dataframe to an interactive table.\"\n",
              "              style=\"display:none;\">\n",
              "        \n",
              "  <svg xmlns=\"http://www.w3.org/2000/svg\" height=\"24px\"viewBox=\"0 0 24 24\"\n",
              "       width=\"24px\">\n",
              "    <path d=\"M0 0h24v24H0V0z\" fill=\"none\"/>\n",
              "    <path d=\"M18.56 5.44l.94 2.06.94-2.06 2.06-.94-2.06-.94-.94-2.06-.94 2.06-2.06.94zm-11 1L8.5 8.5l.94-2.06 2.06-.94-2.06-.94L8.5 2.5l-.94 2.06-2.06.94zm10 10l.94 2.06.94-2.06 2.06-.94-2.06-.94-.94-2.06-.94 2.06-2.06.94z\"/><path d=\"M17.41 7.96l-1.37-1.37c-.4-.4-.92-.59-1.43-.59-.52 0-1.04.2-1.43.59L10.3 9.45l-7.72 7.72c-.78.78-.78 2.05 0 2.83L4 21.41c.39.39.9.59 1.41.59.51 0 1.02-.2 1.41-.59l7.78-7.78 2.81-2.81c.8-.78.8-2.07 0-2.86zM5.41 20L4 18.59l7.72-7.72 1.47 1.35L5.41 20z\"/>\n",
              "  </svg>\n",
              "      </button>\n",
              "      \n",
              "  <style>\n",
              "    .colab-df-container {\n",
              "      display:flex;\n",
              "      flex-wrap:wrap;\n",
              "      gap: 12px;\n",
              "    }\n",
              "\n",
              "    .colab-df-convert {\n",
              "      background-color: #E8F0FE;\n",
              "      border: none;\n",
              "      border-radius: 50%;\n",
              "      cursor: pointer;\n",
              "      display: none;\n",
              "      fill: #1967D2;\n",
              "      height: 32px;\n",
              "      padding: 0 0 0 0;\n",
              "      width: 32px;\n",
              "    }\n",
              "\n",
              "    .colab-df-convert:hover {\n",
              "      background-color: #E2EBFA;\n",
              "      box-shadow: 0px 1px 2px rgba(60, 64, 67, 0.3), 0px 1px 3px 1px rgba(60, 64, 67, 0.15);\n",
              "      fill: #174EA6;\n",
              "    }\n",
              "\n",
              "    [theme=dark] .colab-df-convert {\n",
              "      background-color: #3B4455;\n",
              "      fill: #D2E3FC;\n",
              "    }\n",
              "\n",
              "    [theme=dark] .colab-df-convert:hover {\n",
              "      background-color: #434B5C;\n",
              "      box-shadow: 0px 1px 3px 1px rgba(0, 0, 0, 0.15);\n",
              "      filter: drop-shadow(0px 1px 2px rgba(0, 0, 0, 0.3));\n",
              "      fill: #FFFFFF;\n",
              "    }\n",
              "  </style>\n",
              "\n",
              "      <script>\n",
              "        const buttonEl =\n",
              "          document.querySelector('#df-79fcfffb-b25a-45ea-8e21-630a5b247dca button.colab-df-convert');\n",
              "        buttonEl.style.display =\n",
              "          google.colab.kernel.accessAllowed ? 'block' : 'none';\n",
              "\n",
              "        async function convertToInteractive(key) {\n",
              "          const element = document.querySelector('#df-79fcfffb-b25a-45ea-8e21-630a5b247dca');\n",
              "          const dataTable =\n",
              "            await google.colab.kernel.invokeFunction('convertToInteractive',\n",
              "                                                     [key], {});\n",
              "          if (!dataTable) return;\n",
              "\n",
              "          const docLinkHtml = 'Like what you see? Visit the ' +\n",
              "            '<a target=\"_blank\" href=https://colab.research.google.com/notebooks/data_table.ipynb>data table notebook</a>'\n",
              "            + ' to learn more about interactive tables.';\n",
              "          element.innerHTML = '';\n",
              "          dataTable['output_type'] = 'display_data';\n",
              "          await google.colab.output.renderOutput(dataTable, element);\n",
              "          const docLink = document.createElement('div');\n",
              "          docLink.innerHTML = docLinkHtml;\n",
              "          element.appendChild(docLink);\n",
              "        }\n",
              "      </script>\n",
              "    </div>\n",
              "  </div>\n",
              "  "
            ]
          },
          "metadata": {},
          "execution_count": 78
        }
      ]
    },
    {
      "cell_type": "code",
      "execution_count": 36,
      "metadata": {
        "colab": {
          "base_uri": "https://localhost:8080/",
          "height": 1000
        },
        "id": "6wacYsW5pk9A",
        "outputId": "b4831cf3-b93e-4be0-b35a-32e0fa55d4a7"
      },
      "outputs": [
        {
          "output_type": "stream",
          "name": "stdout",
          "text": [
            "Epoch 1/100\n",
            "145/145 - 1s - loss: 0.6989 - accuracy: 0.5066 - val_loss: 0.6920 - val_accuracy: 0.5236 - 1s/epoch - 7ms/step\n",
            "Epoch 2/100\n",
            "145/145 - 0s - loss: 0.6930 - accuracy: 0.5141 - val_loss: 0.6925 - val_accuracy: 0.5236 - 385ms/epoch - 3ms/step\n",
            "Epoch 3/100\n",
            "145/145 - 0s - loss: 0.6938 - accuracy: 0.5150 - val_loss: 0.6925 - val_accuracy: 0.5236 - 378ms/epoch - 3ms/step\n",
            "Epoch 4/100\n",
            "145/145 - 0s - loss: 0.6937 - accuracy: 0.5120 - val_loss: 0.6927 - val_accuracy: 0.5236 - 378ms/epoch - 3ms/step\n",
            "Epoch 5/100\n",
            "145/145 - 0s - loss: 0.6928 - accuracy: 0.5167 - val_loss: 0.6915 - val_accuracy: 0.5236 - 387ms/epoch - 3ms/step\n",
            "Epoch 6/100\n",
            "145/145 - 0s - loss: 0.6932 - accuracy: 0.5152 - val_loss: 0.6921 - val_accuracy: 0.5236 - 383ms/epoch - 3ms/step\n",
            "Epoch 7/100\n",
            "145/145 - 0s - loss: 0.6933 - accuracy: 0.5122 - val_loss: 0.6922 - val_accuracy: 0.5236 - 378ms/epoch - 3ms/step\n",
            "Epoch 8/100\n",
            "145/145 - 0s - loss: 0.6931 - accuracy: 0.5148 - val_loss: 0.6924 - val_accuracy: 0.5236 - 369ms/epoch - 3ms/step\n",
            "Epoch 9/100\n",
            "145/145 - 0s - loss: 0.6936 - accuracy: 0.5148 - val_loss: 0.6923 - val_accuracy: 0.5236 - 374ms/epoch - 3ms/step\n",
            "Epoch 10/100\n",
            "145/145 - 0s - loss: 0.6924 - accuracy: 0.5178 - val_loss: 0.6921 - val_accuracy: 0.5236 - 372ms/epoch - 3ms/step\n",
            "Epoch 11/100\n",
            "145/145 - 0s - loss: 0.6927 - accuracy: 0.5219 - val_loss: 0.6922 - val_accuracy: 0.5236 - 371ms/epoch - 3ms/step\n",
            "Epoch 12/100\n",
            "145/145 - 0s - loss: 0.6918 - accuracy: 0.5212 - val_loss: 0.6921 - val_accuracy: 0.5236 - 376ms/epoch - 3ms/step\n",
            "Epoch 13/100\n",
            "145/145 - 0s - loss: 0.6926 - accuracy: 0.5174 - val_loss: 0.6919 - val_accuracy: 0.5236 - 395ms/epoch - 3ms/step\n",
            "Epoch 14/100\n",
            "145/145 - 0s - loss: 0.6907 - accuracy: 0.5309 - val_loss: 0.6929 - val_accuracy: 0.5236 - 385ms/epoch - 3ms/step\n",
            "Epoch 15/100\n",
            "145/145 - 0s - loss: 0.6910 - accuracy: 0.5286 - val_loss: 0.6921 - val_accuracy: 0.5236 - 373ms/epoch - 3ms/step\n",
            "Epoch 16/100\n",
            "145/145 - 0s - loss: 0.6914 - accuracy: 0.5247 - val_loss: 0.6918 - val_accuracy: 0.5236 - 370ms/epoch - 3ms/step\n",
            "Epoch 17/100\n",
            "145/145 - 0s - loss: 0.6898 - accuracy: 0.5275 - val_loss: 0.6922 - val_accuracy: 0.5236 - 389ms/epoch - 3ms/step\n",
            "Epoch 18/100\n",
            "145/145 - 0s - loss: 0.6901 - accuracy: 0.5331 - val_loss: 0.6919 - val_accuracy: 0.5236 - 398ms/epoch - 3ms/step\n",
            "Epoch 19/100\n",
            "145/145 - 0s - loss: 0.6901 - accuracy: 0.5344 - val_loss: 0.6923 - val_accuracy: 0.5236 - 409ms/epoch - 3ms/step\n",
            "Epoch 20/100\n",
            "145/145 - 0s - loss: 0.6894 - accuracy: 0.5290 - val_loss: 0.6921 - val_accuracy: 0.5236 - 382ms/epoch - 3ms/step\n",
            "Epoch 21/100\n",
            "145/145 - 0s - loss: 0.6904 - accuracy: 0.5350 - val_loss: 0.6921 - val_accuracy: 0.5236 - 391ms/epoch - 3ms/step\n",
            "Epoch 22/100\n",
            "145/145 - 0s - loss: 0.6886 - accuracy: 0.5322 - val_loss: 0.6921 - val_accuracy: 0.5236 - 400ms/epoch - 3ms/step\n",
            "Epoch 23/100\n",
            "145/145 - 0s - loss: 0.6899 - accuracy: 0.5221 - val_loss: 0.6925 - val_accuracy: 0.5236 - 376ms/epoch - 3ms/step\n",
            "Epoch 24/100\n",
            "145/145 - 0s - loss: 0.6878 - accuracy: 0.5314 - val_loss: 0.6922 - val_accuracy: 0.5236 - 374ms/epoch - 3ms/step\n",
            "Epoch 25/100\n",
            "145/145 - 0s - loss: 0.6876 - accuracy: 0.5329 - val_loss: 0.6923 - val_accuracy: 0.5236 - 389ms/epoch - 3ms/step\n",
            "Epoch 26/100\n",
            "145/145 - 0s - loss: 0.6877 - accuracy: 0.5312 - val_loss: 0.6925 - val_accuracy: 0.5236 - 380ms/epoch - 3ms/step\n"
          ]
        },
        {
          "output_type": "display_data",
          "data": {
            "text/plain": [
              "<Figure size 432x288 with 1 Axes>"
            ],
            "image/png": "[encoded data removed]"
          },
          "metadata": {
            "needs_background": "light"
          }
        }
      ],
      "source": [
        "neurons = 100\n",
        "\n",
        "model_stacked = Sequential()\n",
        "\n",
        "early_stopping = EarlyStopping(monitor='val_loss', patience = 25, min_delta=0.001)\n",
        "\n",
        "#train_rf_X = np.reshape(train_rf_X, (train_rf_X.shape[0], train_rf_X.shape[1], train_rf_X.shape[2]))\n",
        "\n",
        "#train_rf_y = np.reshape(train_rf_y, (train_rf_y.shape[0],1))\n",
        "\n",
        "model_stacked.add(Dense(neurons, input_shape=(X_stack.shape[1],), activation = 'relu'))\n",
        "model_stacked.add(Dropout(0.3))\n",
        "\n",
        "#Additional layers we researched and then didn't use due to poor performance\n",
        "model_stacked.add(Dense(neurons, activation = 'relu'))\n",
        "model_stacked.add(Dropout(0.3))\n",
        "\n",
        "model_stacked.add(Dense(neurons, activation = 'relu'))\n",
        "model_stacked.add(Dropout(0.3))\n",
        "\n",
        "model_stacked.add(Dense(neurons, activation = 'relu'))\n",
        "model_stacked.add(Dropout(0.3))\n",
        "\n",
        "model_stacked.add(Dense(neurons, activation = 'relu'))\n",
        "model_stacked.add(Dropout(0.3))\n",
        "\n",
        "model_stacked.add(Dense(units = 1, activation = 'sigmoid'))\n",
        "\n",
        "#model.compile(loss='binary_crossentropy', optimizer='adam', metrics = [tf.keras.metrics.Recall()])\n",
        "model_stacked.compile(loss='binary_crossentropy', optimizer='adam', metrics = 'accuracy')\n",
        "# fit network\n",
        "history_stacked = model_stacked.fit(X_stack, test_rf_y, epochs = 100, batch_size=32, validation_data = (X_test_stack, validation_rf_y), verbose=2, shuffle=False, callbacks=[early_stopping])\n",
        "#history_stacked = model_stacked.fit(X_stack, test_rf_y, epochs = 50, batch_size=32, verbose=2, shuffle=False, callbacks=[early_stopping])\n",
        "\n",
        "# plot history\n",
        "plt.plot(history_stacked.history['loss'], label='train')\n",
        "plt.plot(history_stacked.history['val_loss'], label='test')\n",
        "plt.legend()\n",
        "plt.show()"
      ]
    },
    {
      "cell_type": "code",
      "source": [
        "#MLP as Stacking Algorithm Prediction\n",
        "\n",
        "stk_mlp_pred = (model_stacked.predict(X_test_stack) > 0.5).astype(\"int32\")\n",
        "\n",
        "stk_mlp_pred = stk_mlp_pred.reshape(stk_mlp_pred.shape[0],stk_mlp_pred.shape[1])\n",
        "\n",
        "validation_rf_y = validation_rf_y.reshape(validation_rf_y.shape[0],1)\n",
        "\n",
        "print(confusion_matrix(pd.DataFrame(validation_rf_y).iloc[:,0], pd.DataFrame(stk_mlp_pred).iloc[:,0]))\n",
        "#print('Classification Report')\n",
        "#target_names = ['Cats', 'Dogs', 'Horse']\n",
        "print(classification_report(pd.DataFrame(validation_rf_y).iloc[:,0], pd.DataFrame(stk_mlp_pred).iloc[:,0]))\n",
        "\n",
        "#print(yhat, validation_y)"
      ],
      "metadata": {
        "colab": {
          "base_uri": "https://localhost:8080/"
        },
        "id": "q_dd-0d29hUI",
        "outputId": "468a10c8-670a-443d-eabf-eeece3cb9de6"
      },
      "execution_count": 37,
      "outputs": [
        {
          "output_type": "stream",
          "name": "stdout",
          "text": [
            "[[  0 121]\n",
            " [  0 133]]\n",
            "              precision    recall  f1-score   support\n",
            "\n",
            "         0.0       0.00      0.00      0.00       121\n",
            "         1.0       0.52      1.00      0.69       133\n",
            "\n",
            "    accuracy                           0.52       254\n",
            "   macro avg       0.26      0.50      0.34       254\n",
            "weighted avg       0.27      0.52      0.36       254\n",
            "\n"
          ]
        },
        {
          "output_type": "stream",
          "name": "stderr",
          "text": [
            "/usr/local/lib/python3.7/dist-packages/sklearn/metrics/_classification.py:1318: UndefinedMetricWarning: Precision and F-score are ill-defined and being set to 0.0 in labels with no predicted samples. Use `zero_division` parameter to control this behavior.\n",
            "  _warn_prf(average, modifier, msg_start, len(result))\n",
            "/usr/local/lib/python3.7/dist-packages/sklearn/metrics/_classification.py:1318: UndefinedMetricWarning: Precision and F-score are ill-defined and being set to 0.0 in labels with no predicted samples. Use `zero_division` parameter to control this behavior.\n",
            "  _warn_prf(average, modifier, msg_start, len(result))\n",
            "/usr/local/lib/python3.7/dist-packages/sklearn/metrics/_classification.py:1318: UndefinedMetricWarning: Precision and F-score are ill-defined and being set to 0.0 in labels with no predicted samples. Use `zero_division` parameter to control this behavior.\n",
            "  _warn_prf(average, modifier, msg_start, len(result))\n"
          ]
        }
      ]
    },
    {
      "cell_type": "code",
      "execution_count": 39,
      "metadata": {
        "colab": {
          "base_uri": "https://localhost:8080/"
        },
        "id": "L5z1e3EvwlnG",
        "outputId": "f2ea8802-f90e-4b18-a441-29cdb08a8cae"
      },
      "outputs": [
        {
          "output_type": "stream",
          "name": "stderr",
          "text": [
            "/usr/local/lib/python3.7/dist-packages/sklearn/ensemble/_gb.py:494: DataConversionWarning: A column-vector y was passed when a 1d array was expected. Please change the shape of y to (n_samples, ), for example using ravel().\n",
            "  y = column_or_1d(y, warn=True)\n"
          ]
        },
        {
          "output_type": "stream",
          "name": "stdout",
          "text": [
            "[[28 93]\n",
            " [39 94]]\n",
            "              precision    recall  f1-score   support\n",
            "\n",
            "         0.0       0.42      0.23      0.30       121\n",
            "         1.0       0.50      0.71      0.59       133\n",
            "\n",
            "    accuracy                           0.48       254\n",
            "   macro avg       0.46      0.47      0.44       254\n",
            "weighted avg       0.46      0.48      0.45       254\n",
            "\n"
          ]
        }
      ],
      "source": [
        "#Gradient Boosting as Stacking Algorithm\n",
        "\n",
        "stk_gb = GradientBoostingClassifier(n_estimators=100, learning_rate=1.0,max_depth=1, random_state=0)\n",
        "\n",
        "stk_gb.fit(X_stack, test_rf_y)\n",
        "\n",
        "stck_gb_pred = stk_gb.predict(X_test_stack)\n",
        "\n",
        "#y_val = clf_gb.predict(validation_rf_X)\n",
        "\n",
        "#test metrics\n",
        "\n",
        "print(confusion_matrix(pd.DataFrame(validation_rf_y).iloc[:,0], pd.DataFrame(stck_gb_pred).iloc[:,0]))\n",
        "\n",
        "print(classification_report(pd.DataFrame(validation_rf_y).iloc[:,0], pd.DataFrame(stck_gb_pred).iloc[:,0]))\n",
        "\n",
        "#validation metrics\n",
        "\n",
        "#print(confusion_matrix(pd.DataFrame(validation_rf_y).iloc[:,0], pd.DataFrame(y_val).iloc[:,0]))\n",
        "\n",
        "#print(classification_report(pd.DataFrame(validation_rf_y).iloc[:,0], pd.DataFrame(y_val).iloc[:,0], target_names = ['0', '1']))\n",
        "\n",
        "\n",
        "\n"
      ]
    },
    {
      "cell_type": "code",
      "source": [
        "# Logistic Regression as Stacking Classifier\n",
        "\n",
        "\n",
        "stk_lr = LogisticRegression(random_state = 1, penalty = 'l2')\n",
        "\n",
        "stk_lr.fit(X_stack, test_rf_y)\n",
        "\n",
        "stk_lr_pred = stk_lr.predict(X_test_stack)\n",
        "\n",
        "#print(confusion_matrix(pd.DataFrame(test_rf_y).iloc[:,0], pd.DataFrame(y_lr_pred).iloc[:,0]))\n",
        "\n",
        "print(classification_report(pd.DataFrame(validation_rf_y).iloc[:,0], pd.DataFrame(stk_lr_pred).iloc[:,0]))"
      ],
      "metadata": {
        "colab": {
          "base_uri": "https://localhost:8080/"
        },
        "id": "AC13_zuzE-m3",
        "outputId": "a103596b-1542-45a7-fe8a-3e9f8b547079"
      },
      "execution_count": 40,
      "outputs": [
        {
          "output_type": "stream",
          "name": "stdout",
          "text": [
            "              precision    recall  f1-score   support\n",
            "\n",
            "         0.0       0.57      0.21      0.31       121\n",
            "         1.0       0.54      0.85      0.66       133\n",
            "\n",
            "    accuracy                           0.55       254\n",
            "   macro avg       0.55      0.53      0.49       254\n",
            "weighted avg       0.55      0.55      0.50       254\n",
            "\n"
          ]
        },
        {
          "output_type": "stream",
          "name": "stderr",
          "text": [
            "/usr/local/lib/python3.7/dist-packages/sklearn/utils/validation.py:993: DataConversionWarning: A column-vector y was passed when a 1d array was expected. Please change the shape of y to (n_samples, ), for example using ravel().\n",
            "  y = column_or_1d(y, warn=True)\n"
          ]
        }
      ]
    },
    {
      "cell_type": "code",
      "source": [
        "model_bt = pd.DataFrame(validation_rf_y, columns = ['lead_ret_class'])\n",
        "\n",
        "#model_bt['lead_weekly_ret'] = dataset.iloc[4,len(dataset) - validation_len:]\n",
        "\n",
        "temp = dataset['lead_ret']\n",
        "\n",
        "model_bt['lead_ret'] = temp[len(temp) - validation_len:].to_numpy()\n",
        "\n",
        "model_bt['stacked'] = stk_lr_pred\n",
        "\n",
        "model_bt['stacked_ls'] = np.where((model_bt.stacked == 1), 1, -1)\n",
        "\n",
        "model_bt['naive'] = np.ones(len(stk_mlp_pred))\n",
        "\n",
        "model_bt['naive_logRet'] = model_bt['naive'] * model_bt['lead_ret']\n",
        "\n",
        "model_bt['stacked_logRet'] = model_bt['stacked'] * model_bt['lead_ret']\n",
        "\n",
        "model_bt['stacked_ls_logRet'] = model_bt['stacked_ls'] * model_bt['lead_ret']\n",
        "\n",
        "model_bt['naive_cumRet'] = (1 + model_bt['naive_logRet']).cumprod() - 1 \n",
        "\n",
        "model_bt['stacked_cumRet'] = (1 + model_bt['stacked_logRet']).cumprod() - 1 \n",
        "\n",
        "model_bt['stacked_ls_cumRet'] = (1 + model_bt['stacked_ls_logRet']).cumprod() - 1 \n",
        "#model_bt.head()\n",
        "\n",
        "#dataset['lead_weekly_ret']\n",
        "\n",
        "#temp[len(temp) - validation_len:]\n",
        "\n",
        "#print(temp[len(temp) - validation_len:])\n",
        "\n",
        "model_bt.head()\n",
        "\n",
        "plt.plot(model_bt['naive_cumRet'], label = 'naive')\n",
        "plt.plot(model_bt['stacked_cumRet'], label = 'stacked')\n",
        "plt.plot(model_bt['stacked_ls_cumRet'], label = 'stacked_ls')\n",
        "plt.legend()\n",
        "plt.show()\n",
        "\n"
      ],
      "metadata": {
        "colab": {
          "base_uri": "https://localhost:8080/",
          "height": 269
        },
        "id": "AxWZVZhpjhAB",
        "outputId": "521e462b-0faa-4a66-a03a-a8729d8d5f16"
      },
      "execution_count": 41,
      "outputs": [
        {
          "output_type": "display_data",
          "data": {
            "text/plain": [
              "<Figure size 432x288 with 1 Axes>"
            ],
            "image/png": "[encoded data removed]"
          },
          "metadata": {
            "needs_background": "light"
          }
        }
      ]
    },
    {
      "cell_type": "code",
      "source": [
        "# Save the entire model as a SavedModel.\n",
        "!mkdir -p saved_model\n",
        "history_stacked.save('saved_model/my_model') "
      ],
      "metadata": {
        "colab": {
          "base_uri": "https://localhost:8080/",
          "height": 201
        },
        "id": "V1rrFNjQhhya",
        "outputId": "8e8243a7-85a3-4f08-9538-260f12e0f003"
      },
      "execution_count": null,
      "outputs": [
        {
          "output_type": "error",
          "ename": "AttributeError",
          "evalue": "ignored",
          "traceback": [
            "\u001b[0;31m---------------------------------------------------------------------------\u001b[0m",
            "\u001b[0;31mAttributeError\u001b[0m                            Traceback (most recent call last)",
            "\u001b[0;32m<ipython-input-136-817478fcdca0>\u001b[0m in \u001b[0;36m<module>\u001b[0;34m()\u001b[0m\n\u001b[1;32m      1\u001b[0m \u001b[0;31m# Save the entire model as a SavedModel.\u001b[0m\u001b[0;34m\u001b[0m\u001b[0;34m\u001b[0m\u001b[0;34m\u001b[0m\u001b[0m\n\u001b[1;32m      2\u001b[0m \u001b[0mget_ipython\u001b[0m\u001b[0;34m(\u001b[0m\u001b[0;34m)\u001b[0m\u001b[0;34m.\u001b[0m\u001b[0msystem\u001b[0m\u001b[0;34m(\u001b[0m\u001b[0;34m'mkdir -p saved_model'\u001b[0m\u001b[0;34m)\u001b[0m\u001b[0;34m\u001b[0m\u001b[0;34m\u001b[0m\u001b[0m\n\u001b[0;32m----> 3\u001b[0;31m \u001b[0mhistory_stacked\u001b[0m\u001b[0;34m.\u001b[0m\u001b[0msave\u001b[0m\u001b[0;34m(\u001b[0m\u001b[0;34m'saved_model/my_model'\u001b[0m\u001b[0;34m)\u001b[0m\u001b[0;34m\u001b[0m\u001b[0;34m\u001b[0m\u001b[0m\n\u001b[0m",
            "\u001b[0;31mAttributeError\u001b[0m: 'History' object has no attribute 'save'"
          ]
        }
      ]
    },
    {
      "cell_type": "code",
      "source": [
        "#performance statistics\n",
        "\n",
        "sd_df = model_bt.std()\n",
        "\n",
        "\n",
        "\n",
        "ret_df = model_bt.iloc[-1:]\n",
        "print(sd_df, ret_df)\n",
        "\n"
      ],
      "metadata": {
        "colab": {
          "base_uri": "https://localhost:8080/"
        },
        "id": "PWxuSuYn_HLe",
        "outputId": "74017a16-1f13-4f2d-b833-87134df47ef6"
      },
      "execution_count": null,
      "outputs": [
        {
          "output_type": "stream",
          "name": "stdout",
          "text": [
            "lead_ret_class       0.493068\n",
            "lead_ret             0.008991\n",
            "stacked              0.497001\n",
            "stacked_ls           0.994002\n",
            "naive                0.000000\n",
            "naive_logRet         0.008991\n",
            "stacked_logRet       0.006951\n",
            "stacked_ls_logRet    0.008926\n",
            "naive_cumRet         0.038435\n",
            "stacked_cumRet       0.044315\n",
            "stacked_ls_cumRet    0.065669\n",
            "dtype: float64      lead_ret_class  lead_ret  stacked  stacked_ls  naive  naive_logRet  \\\n",
            "199             0.0 -0.007966      1.0           1    1.0     -0.007966   \n",
            "\n",
            "     stacked_logRet  stacked_ls_logRet  naive_cumRet  stacked_cumRet  \\\n",
            "199       -0.007966          -0.007966      0.043357        0.139749   \n",
            "\n",
            "     stacked_ls_cumRet  \n",
            "199           0.237113  \n"
          ]
        }
      ]
    }
  ],
  "metadata": {
    "accelerator": "GPU",
    "colab": {
      "collapsed_sections": [],
      "name": "SP500 Trend Forecast daily prices.ipynb",
      "provenance": [],
      "machine_shape": "hm",
      "authorship_tag": "ABX9TyPBq+5r84u7RY/4UwIqiFp4",
      "include_colab_link": true
    },
    "kernelspec": {
      "display_name": "Python 3",
      "name": "python3"
    },
    "language_info": {
      "name": "python"
    }
  },
  "nbformat": 4,
  "nbformat_minor": 0
}