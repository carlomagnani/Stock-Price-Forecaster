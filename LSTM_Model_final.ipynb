{
  "cells": [
    {
      "cell_type": "markdown",
      "metadata": {
        "id": "view-in-github",
        "colab_type": "text"
      },
      "source": [
        "<a href=\"https://colab.research.google.com/github/carlomagnani/Stock-Price-Forecaster/blob/main/LSTM_Model_final.ipynb\" target=\"_parent\"><img src=\"https://colab.research.google.com/assets/colab-badge.svg\" alt=\"Open In Colab\"/></a>"
      ]
    },
    {
      "cell_type": "code",
      "execution_count": null,
      "metadata": {
        "colab": {
          "base_uri": "https://localhost:8080/"
        },
        "id": "h-M9MLHUvGVn",
        "outputId": "8a9e3be3-185b-4471-dca1-80470a5aa1c6"
      },
      "outputs": [
        {
          "name": "stdout",
          "output_type": "stream",
          "text": [
            "Tensorflow version: 2.8.0\n",
            "Mounted at /GoogleDrive\n"
          ]
        }
      ],
      "source": [
        "import tensorflow as tf\n",
        "from tensorflow import keras\n",
        "import pandas as pd\n",
        "import matplotlib.pyplot as plt\n",
        "import time\n",
        "import numpy as np\n",
        "\n",
        "print(\"Tensorflow version: \"+tf.__version__)\n",
        "\n",
        "#! pip install pmdarima\n",
        "\n",
        "# Google file system\n",
        "from google.colab import drive\n",
        "from sklearn.preprocessing import MinMaxScaler\n",
        "\n",
        "drive.mount('/GoogleDrive', force_remount=True)\n",
        "\n",
        "import math\n",
        "\n"
      ]
    },
    {
      "cell_type": "code",
      "execution_count": null,
      "metadata": {
        "colab": {
          "base_uri": "https://localhost:8080/"
        },
        "id": "6OTng8-0vI_h",
        "outputId": "0d8ec34b-5061-4ee9-90b5-108ff70e6f47"
      },
      "outputs": [
        {
          "name": "stdout",
          "output_type": "stream",
          "text": [
            "(18869, 60, 1) (18869,) (4436, 60, 1) (4436,) (176, 60, 1) (176,)\n"
          ]
        }
      ],
      "source": [
        "file_2 =   \"/GoogleDrive/My Drive/S&P.xlsx\"\n",
        "dataset = pd.read_excel(file_2, sheet_name=\"ts\")\n",
        "\n",
        "dataset['log_value'] = np.log(dataset['time'])\n",
        "\n",
        "dataset['lead_ret'] = dataset['log_value'].shift(-1)\n",
        "\n",
        "dataset.dropna(inplace = True)\n",
        "\n",
        "model_df = dataset[['log_value', 'lead_ret']]\n",
        "\n",
        "values = model_df.values\n",
        "n_train_hours = len(model_df) * 0.8\n",
        "n_test_hours = len(model_df)*0.19\n",
        "\n",
        "n_train_hours = round(n_train_hours)\n",
        "n_test_hours = n_train_hours + round(n_test_hours)\n",
        "\n",
        "train = values[:n_train_hours, :]\n",
        "test = values[n_train_hours:n_test_hours, :]\n",
        "validation = values[n_test_hours:, :]\n",
        "\n",
        "# Creating a data structure with 60 time-steps and 1 output\n",
        "train_X = []\n",
        "train_y = []\n",
        "\n",
        "for i in range(60, len(train)):\n",
        "    train_X.append(train[i-60:i, 0])\n",
        "    train_y.append(train[i, 1])\n",
        "\n",
        "train_X, train_y = np.array(train_X), np.array(train_y)\n",
        "\n",
        "train_X = np.reshape(train_X, (train_X.shape[0], train_X.shape[1], 1))\n",
        "\n",
        "test_X = []\n",
        "test_y = []\n",
        "\n",
        "for i in range(60, len(test)):\n",
        "  test_X.append(test[i-60:i, 0])\n",
        "  test_y.append(test[i, 1])\n",
        "\n",
        "test_X, test_y = np.array(test_X), np.array(test_y)\n",
        "\n",
        "test_X = np.reshape(test_X, (test_X.shape[0], test_X.shape[1], 1))\n",
        "\n",
        "validation_X = []\n",
        "validation_y = []\n",
        "\n",
        "for i in range(60, len(validation)):\n",
        "  validation_X.append(validation[i-60:i, 0])\n",
        "  validation_y.append(validation[i, 1])\n",
        "\n",
        "validation_X, validation_y = np.array(validation_X), np.array(validation_y)\n",
        "\n",
        "validation_X = np.reshape(validation_X, (validation_X.shape[0],validation_X.shape[1],1))\n",
        "\n",
        "\n",
        "print(train_X.shape, train_y.shape, test_X.shape, test_y.shape, validation_X.shape, validation_y.shape)\n",
        "\n",
        "#print(train_X.shape, train_y.shape, test_X.shape, test_y.shape)\n",
        "\n"
      ]
    },
    {
      "cell_type": "code",
      "execution_count": null,
      "metadata": {
        "colab": {
          "base_uri": "https://localhost:8080/"
        },
        "id": "ik9tmJ0OvL1V",
        "outputId": "5bae1344-864f-4a5e-a7b7-fc725a6726ef"
      },
      "outputs": [
        {
          "name": "stdout",
          "output_type": "stream",
          "text": [
            "(18869, 60, 1) (18869,) (4436, 60, 1) (4436,) (176, 60, 1) (176,)\n"
          ]
        }
      ],
      "source": [
        "file_2 =   \"/GoogleDrive/My Drive/S&P.xlsx\"\n",
        "dataset = pd.read_excel(file_2, sheet_name=\"ts\")\n",
        "\n",
        "dataset['log_value'] = np.log(dataset['time'])\n",
        "\n",
        "dataset['lead_ret'] = dataset['log_value'].shift(-1)\n",
        "\n",
        "dataset['log_ret'] = dataset['log_value'] - dataset['log_value'].shift(+1)\n",
        "\n",
        "dataset['lead_ret'] = dataset['log_ret'].shift(-1)\n",
        "\n",
        "dataset.dropna(inplace = True)\n",
        "\n",
        "model_df = dataset[['log_ret', 'lead_ret']]\n",
        "\n",
        "values = model_df.values\n",
        "n_train_hours = len(model_df) * 0.8\n",
        "n_test_hours = len(model_df)*0.19\n",
        "\n",
        "n_train_hours = round(n_train_hours)\n",
        "n_test_hours = n_train_hours + round(n_test_hours)\n",
        "\n",
        "train = values[:n_train_hours, :]\n",
        "test = values[n_train_hours:n_test_hours, :]\n",
        "validation = values[n_test_hours:, :]\n",
        "\n",
        "# Creating a data structure with 60 time-steps and 1 output\n",
        "train_X = []\n",
        "train_y = []\n",
        "\n",
        "for i in range(60, len(train)):\n",
        "    train_X.append(train[i-60:i, 0])\n",
        "    train_y.append(train[i, 1])\n",
        "\n",
        "train_X, train_y = np.array(train_X), np.array(train_y)\n",
        "\n",
        "train_X = np.reshape(train_X, (train_X.shape[0], train_X.shape[1], 1))\n",
        "\n",
        "test_X = []\n",
        "test_y = []\n",
        "\n",
        "for i in range(60, len(test)):\n",
        "  test_X.append(test[i-60:i, 0])\n",
        "  test_y.append(test[i, 1])\n",
        "\n",
        "test_X, test_y = np.array(test_X), np.array(test_y)\n",
        "\n",
        "test_X = np.reshape(test_X, (test_X.shape[0], test_X.shape[1], 1))\n",
        "\n",
        "validation_X = []\n",
        "validation_y = []\n",
        "\n",
        "for i in range(60, len(validation)):\n",
        "  validation_X.append(validation[i-60:i, 0])\n",
        "  validation_y.append(validation[i, 1])\n",
        "\n",
        "validation_X, validation_y = np.array(validation_X), np.array(validation_y)\n",
        "\n",
        "validation_X = np.reshape(validation_X, (validation_X.shape[0],validation_X.shape[1],1))\n",
        "\n",
        "\n",
        "print(train_X.shape, train_y.shape, test_X.shape, test_y.shape, validation_X.shape, validation_y.shape)\n",
        "\n",
        "#print(train_X.shape, train_y.shape, test_X.shape, test_y.shape)\n"
      ]
    },
    {
      "cell_type": "code",
      "execution_count": null,
      "metadata": {
        "colab": {
          "base_uri": "https://localhost:8080/"
        },
        "id": "rA_OK6h74mX4",
        "outputId": "a11c9d52-86c2-4f06-82cd-ba62f2a7d2d8"
      },
      "outputs": [
        {
          "data": {
            "text/plain": [
              "(14190, 5, 1)"
            ]
          },
          "execution_count": 4,
          "metadata": {},
          "output_type": "execute_result"
        }
      ],
      "source": [
        "train_X.shape"
      ]
    },
    {
      "cell_type": "code",
      "execution_count": null,
      "metadata": {
        "colab": {
          "background_save": true,
          "base_uri": "https://localhost:8080/"
        },
        "id": "qHnEWbav8TVb",
        "outputId": "ece03e57-1903-4e8f-d38c-bb02e994c8c3"
      },
      "outputs": [
        {
          "name": "stdout",
          "output_type": "stream",
          "text": [
            "Epoch 1/50\n",
            "590/590 - 20s - loss: 0.5487 - val_loss: 0.5254 - 20s/epoch - 34ms/step\n",
            "Epoch 2/50\n",
            "590/590 - 18s - loss: 0.2099 - val_loss: 0.3162 - 18s/epoch - 30ms/step\n",
            "Epoch 3/50\n",
            "590/590 - 18s - loss: 0.1764 - val_loss: 0.2754 - 18s/epoch - 31ms/step\n",
            "Epoch 4/50\n",
            "590/590 - 18s - loss: 0.1664 - val_loss: 0.2311 - 18s/epoch - 30ms/step\n",
            "Epoch 5/50\n",
            "590/590 - 18s - loss: 0.1580 - val_loss: 0.2320 - 18s/epoch - 30ms/step\n",
            "Epoch 6/50\n",
            "590/590 - 18s - loss: 0.1497 - val_loss: 0.2362 - 18s/epoch - 30ms/step\n",
            "Epoch 7/50\n",
            "590/590 - 18s - loss: 0.1431 - val_loss: 0.2524 - 18s/epoch - 30ms/step\n",
            "Epoch 8/50\n",
            "590/590 - 19s - loss: 0.1360 - val_loss: 0.2347 - 19s/epoch - 32ms/step\n",
            "Epoch 9/50\n",
            "590/590 - 18s - loss: 0.1299 - val_loss: 0.2310 - 18s/epoch - 30ms/step\n",
            "Epoch 10/50\n",
            "590/590 - 18s - loss: 0.1248 - val_loss: 0.2360 - 18s/epoch - 30ms/step\n",
            "Epoch 11/50\n",
            "590/590 - 18s - loss: 0.1194 - val_loss: 0.2377 - 18s/epoch - 30ms/step\n",
            "Epoch 12/50\n",
            "590/590 - 18s - loss: 0.1129 - val_loss: 0.2244 - 18s/epoch - 30ms/step\n",
            "Epoch 13/50\n",
            "590/590 - 18s - loss: 0.1072 - val_loss: 0.2200 - 18s/epoch - 30ms/step\n",
            "Epoch 14/50\n",
            "590/590 - 18s - loss: 0.1015 - val_loss: 0.2136 - 18s/epoch - 30ms/step\n",
            "Epoch 15/50\n",
            "590/590 - 18s - loss: 0.0977 - val_loss: 0.1748 - 18s/epoch - 30ms/step\n",
            "Epoch 16/50\n",
            "590/590 - 17s - loss: 0.0944 - val_loss: 0.1864 - 17s/epoch - 30ms/step\n",
            "Epoch 17/50\n",
            "590/590 - 17s - loss: 0.0915 - val_loss: 0.1863 - 17s/epoch - 30ms/step\n",
            "Epoch 18/50\n",
            "590/590 - 18s - loss: 0.0896 - val_loss: 0.1696 - 18s/epoch - 30ms/step\n",
            "Epoch 19/50\n",
            "590/590 - 18s - loss: 0.0896 - val_loss: 0.1958 - 18s/epoch - 30ms/step\n",
            "Epoch 20/50\n",
            "590/590 - 17s - loss: 0.0870 - val_loss: 0.1479 - 17s/epoch - 29ms/step\n",
            "Epoch 21/50\n",
            "590/590 - 17s - loss: 0.0852 - val_loss: 0.1767 - 17s/epoch - 29ms/step\n",
            "Epoch 22/50\n",
            "590/590 - 18s - loss: 0.0847 - val_loss: 0.1446 - 18s/epoch - 30ms/step\n",
            "Epoch 23/50\n",
            "590/590 - 18s - loss: 0.0832 - val_loss: 0.1236 - 18s/epoch - 30ms/step\n",
            "Epoch 24/50\n",
            "590/590 - 18s - loss: 0.0854 - val_loss: 0.1616 - 18s/epoch - 30ms/step\n",
            "Epoch 25/50\n",
            "590/590 - 17s - loss: 0.0854 - val_loss: 0.1192 - 17s/epoch - 29ms/step\n",
            "Epoch 26/50\n",
            "590/590 - 17s - loss: 0.0801 - val_loss: 0.1827 - 17s/epoch - 30ms/step\n",
            "Epoch 27/50\n",
            "590/590 - 17s - loss: 0.0815 - val_loss: 0.1814 - 17s/epoch - 29ms/step\n",
            "Epoch 28/50\n",
            "590/590 - 17s - loss: 0.0834 - val_loss: 0.1824 - 17s/epoch - 29ms/step\n",
            "Epoch 29/50\n",
            "590/590 - 17s - loss: 0.0807 - val_loss: 0.2095 - 17s/epoch - 29ms/step\n",
            "Epoch 30/50\n",
            "590/590 - 17s - loss: 0.0804 - val_loss: 0.2148 - 17s/epoch - 30ms/step\n",
            "Epoch 31/50\n",
            "590/590 - 18s - loss: 0.0808 - val_loss: 0.1629 - 18s/epoch - 30ms/step\n",
            "Epoch 32/50\n",
            "590/590 - 17s - loss: 0.0801 - val_loss: 0.1741 - 17s/epoch - 29ms/step\n",
            "Epoch 33/50\n",
            "590/590 - 17s - loss: 0.0803 - val_loss: 0.1550 - 17s/epoch - 29ms/step\n"
          ]
        },
        {
          "data": {
            "image/png": "[encoded data removed]",
            "text/plain": [
              "<Figure size 432x288 with 1 Axes>"
            ]
          },
          "metadata": {},
          "output_type": "display_data"
        }
      ],
      "source": [
        "from keras.models import Sequential\n",
        "from keras.layers import Dense\n",
        "from keras.layers import LSTM\n",
        "from keras.layers import Dropout\n",
        "from keras.callbacks import EarlyStopping\n",
        "\n",
        "\n",
        "early_stopping = EarlyStopping(monitor='val_loss', patience=8, min_delta=0.001)\n",
        "\n",
        "model = Sequential()\n",
        "\n",
        "model.add(LSTM(60, return_sequences=True, input_shape=(train_X.shape[1], train_X.shape[2])))\n",
        "model.add(Dropout(0.3))\n",
        "\n",
        "#model.add(LSTM(10, return_sequences=True))\n",
        "#model.add(Dropout(0.3))\n",
        "\n",
        "#model.add(LSTM(20, return_sequences=False))\n",
        "#model.add(Dropout(0.3))\n",
        "\n",
        "model.add(Dense(units = 1))\n",
        "\n",
        "model.compile(loss='mean_squared_error', optimizer='adam')\n",
        "# fit network\n",
        "history = model.fit(train_X, train_y, epochs=50, batch_size=32, validation_data = (test_X, test_y), verbose=2, shuffle=False, callbacks=[early_stopping])\n",
        "#history = model.fit(train_X, train_y, epochs=50, batch_size=32, validation_data = (test_X, test_y), verbose=2, shuffle=False)\n",
        "\n",
        "# plot history\n",
        "plt.plot(history.history['loss'], label='train')\n",
        "plt.plot(history.history['val_loss'], label='test')\n",
        "plt.legend()\n",
        "plt.show()"
      ]
    },
    {
      "cell_type": "code",
      "execution_count": null,
      "metadata": {
        "colab": {
          "base_uri": "https://localhost:8080/",
          "height": 301
        },
        "id": "XUWiGXJc-M2R",
        "outputId": "c1f1e8a9-7042-4b0c-ea78-d78396807c2e"
      },
      "outputs": [
        {
          "name": "stdout",
          "output_type": "stream",
          "text": [
            "Validation RMSE: 0.602\n"
          ]
        },
        {
          "data": {
            "text/plain": [
              "<matplotlib.legend.Legend at 0x7fe2ea893850>"
            ]
          },
          "execution_count": 30,
          "metadata": {},
          "output_type": "execute_result"
        },
        {
          "data": {
            "image/png": "[encoded data removed]",
            "text/plain": [
              "<Figure size 432x288 with 1 Axes>"
            ]
          },
          "metadata": {},
          "output_type": "display_data"
        }
      ],
      "source": [
        "from sklearn.metrics import mean_squared_error\n",
        "\n",
        "yhat = model.predict(validation_X)\n",
        "\n",
        "yhat = yhat.reshape(yhat.shape[0],yhat.shape[1])\n",
        "\n",
        "validation_y = validation_y.reshape(validation_y.shape[0],1)\n",
        "\n",
        "\n",
        "\n",
        "# calculate RMSE\n",
        "#rmse = math.sqrt(mean_squared_error(, ))\n",
        "#print('Validation RMSE: %.3f' % rmse)\n",
        "\n",
        "predictions = pd.DataFrame()\n",
        "\n",
        "predictions['pred'] = pd.DataFrame(yhat).iloc[:,0]\n",
        "predictions['act'] = pd.DataFrame(validation_y).iloc[:,0]\n",
        "\n",
        "\n",
        "# calculate RMSE\n",
        "rmse = math.sqrt(mean_squared_error(predictions['act'].tolist(),predictions['pred'].tolist() ))\n",
        "print('Validation RMSE: %.3f' % rmse)\n",
        "\n",
        "\n",
        "plt.plot(predictions['act'], label='actual lead')\n",
        "plt.plot(predictions['pred'], label='prediction')\n",
        "##plt.plot(predictions['difference'])\n",
        "plt.legend()\n"
      ]
    },
    {
      "cell_type": "code",
      "execution_count": null,
      "metadata": {
        "colab": {
          "base_uri": "https://localhost:8080/",
          "height": 206
        },
        "id": "gQ5zxUbikneN",
        "outputId": "0e3b0419-e165-4c2b-fc3e-5e58ce3aa910"
      },
      "outputs": [
        {
          "data": {
            "text/html": [
              "\n",
              "  <div id=\"df-8d6def8d-4aa6-4063-9876-a2349e68fcd0\">\n",
              "    <div class=\"colab-df-container\">\n",
              "      <div>\n",
              "<style scoped>\n",
              "    .dataframe tbody tr th:only-of-type {\n",
              "        vertical-align: middle;\n",
              "    }\n",
              "\n",
              "    .dataframe tbody tr th {\n",
              "        vertical-align: top;\n",
              "    }\n",
              "\n",
              "    .dataframe thead th {\n",
              "        text-align: right;\n",
              "    }\n",
              "</style>\n",
              "<table border=\"1\" class=\"dataframe\">\n",
              "  <thead>\n",
              "    <tr style=\"text-align: right;\">\n",
              "      <th></th>\n",
              "      <th>date</th>\n",
              "      <th>time</th>\n",
              "      <th>log_value</th>\n",
              "      <th>lead_ret</th>\n",
              "      <th>log_ret</th>\n",
              "    </tr>\n",
              "  </thead>\n",
              "  <tbody>\n",
              "    <tr>\n",
              "      <th>0</th>\n",
              "      <td>1927-12-30</td>\n",
              "      <td>17.66</td>\n",
              "      <td>2.871302</td>\n",
              "      <td>0.005647</td>\n",
              "      <td>NaN</td>\n",
              "    </tr>\n",
              "    <tr>\n",
              "      <th>1</th>\n",
              "      <td>1928-01-03</td>\n",
              "      <td>17.76</td>\n",
              "      <td>2.876949</td>\n",
              "      <td>-0.002255</td>\n",
              "      <td>0.005647</td>\n",
              "    </tr>\n",
              "    <tr>\n",
              "      <th>2</th>\n",
              "      <td>1928-01-04</td>\n",
              "      <td>17.72</td>\n",
              "      <td>2.874694</td>\n",
              "      <td>-0.009640</td>\n",
              "      <td>-0.002255</td>\n",
              "    </tr>\n",
              "    <tr>\n",
              "      <th>3</th>\n",
              "      <td>1928-01-05</td>\n",
              "      <td>17.55</td>\n",
              "      <td>2.865054</td>\n",
              "      <td>0.006248</td>\n",
              "      <td>-0.009640</td>\n",
              "    </tr>\n",
              "    <tr>\n",
              "      <th>4</th>\n",
              "      <td>1928-01-06</td>\n",
              "      <td>17.66</td>\n",
              "      <td>2.871302</td>\n",
              "      <td>-0.009101</td>\n",
              "      <td>0.006248</td>\n",
              "    </tr>\n",
              "  </tbody>\n",
              "</table>\n",
              "</div>\n",
              "      <button class=\"colab-df-convert\" onclick=\"convertToInteractive('df-8d6def8d-4aa6-4063-9876-a2349e68fcd0')\"\n",
              "              title=\"Convert this dataframe to an interactive table.\"\n",
              "              style=\"display:none;\">\n",
              "        \n",
              "  <svg xmlns=\"http://www.w3.org/2000/svg\" height=\"24px\"viewBox=\"0 0 24 24\"\n",
              "       width=\"24px\">\n",
              "    <path d=\"M0 0h24v24H0V0z\" fill=\"none\"/>\n",
              "    <path d=\"M18.56 5.44l.94 2.06.94-2.06 2.06-.94-2.06-.94-.94-2.06-.94 2.06-2.06.94zm-11 1L8.5 8.5l.94-2.06 2.06-.94-2.06-.94L8.5 2.5l-.94 2.06-2.06.94zm10 10l.94 2.06.94-2.06 2.06-.94-2.06-.94-.94-2.06-.94 2.06-2.06.94z\"/><path d=\"M17.41 7.96l-1.37-1.37c-.4-.4-.92-.59-1.43-.59-.52 0-1.04.2-1.43.59L10.3 9.45l-7.72 7.72c-.78.78-.78 2.05 0 2.83L4 21.41c.39.39.9.59 1.41.59.51 0 1.02-.2 1.41-.59l7.78-7.78 2.81-2.81c.8-.78.8-2.07 0-2.86zM5.41 20L4 18.59l7.72-7.72 1.47 1.35L5.41 20z\"/>\n",
              "  </svg>\n",
              "      </button>\n",
              "      \n",
              "  <style>\n",
              "    .colab-df-container {\n",
              "      display:flex;\n",
              "      flex-wrap:wrap;\n",
              "      gap: 12px;\n",
              "    }\n",
              "\n",
              "    .colab-df-convert {\n",
              "      background-color: #E8F0FE;\n",
              "      border: none;\n",
              "      border-radius: 50%;\n",
              "      cursor: pointer;\n",
              "      display: none;\n",
              "      fill: #1967D2;\n",
              "      height: 32px;\n",
              "      padding: 0 0 0 0;\n",
              "      width: 32px;\n",
              "    }\n",
              "\n",
              "    .colab-df-convert:hover {\n",
              "      background-color: #E2EBFA;\n",
              "      box-shadow: 0px 1px 2px rgba(60, 64, 67, 0.3), 0px 1px 3px 1px rgba(60, 64, 67, 0.15);\n",
              "      fill: #174EA6;\n",
              "    }\n",
              "\n",
              "    [theme=dark] .colab-df-convert {\n",
              "      background-color: #3B4455;\n",
              "      fill: #D2E3FC;\n",
              "    }\n",
              "\n",
              "    [theme=dark] .colab-df-convert:hover {\n",
              "      background-color: #434B5C;\n",
              "      box-shadow: 0px 1px 3px 1px rgba(0, 0, 0, 0.15);\n",
              "      filter: drop-shadow(0px 1px 2px rgba(0, 0, 0, 0.3));\n",
              "      fill: #FFFFFF;\n",
              "    }\n",
              "  </style>\n",
              "\n",
              "      <script>\n",
              "        const buttonEl =\n",
              "          document.querySelector('#df-8d6def8d-4aa6-4063-9876-a2349e68fcd0 button.colab-df-convert');\n",
              "        buttonEl.style.display =\n",
              "          google.colab.kernel.accessAllowed ? 'block' : 'none';\n",
              "\n",
              "        async function convertToInteractive(key) {\n",
              "          const element = document.querySelector('#df-8d6def8d-4aa6-4063-9876-a2349e68fcd0');\n",
              "          const dataTable =\n",
              "            await google.colab.kernel.invokeFunction('convertToInteractive',\n",
              "                                                     [key], {});\n",
              "          if (!dataTable) return;\n",
              "\n",
              "          const docLinkHtml = 'Like what you see? Visit the ' +\n",
              "            '<a target=\"_blank\" href=https://colab.research.google.com/notebooks/data_table.ipynb>data table notebook</a>'\n",
              "            + ' to learn more about interactive tables.';\n",
              "          element.innerHTML = '';\n",
              "          dataTable['output_type'] = 'display_data';\n",
              "          await google.colab.output.renderOutput(dataTable, element);\n",
              "          const docLink = document.createElement('div');\n",
              "          docLink.innerHTML = docLinkHtml;\n",
              "          element.appendChild(docLink);\n",
              "        }\n",
              "      </script>\n",
              "    </div>\n",
              "  </div>\n",
              "  "
            ],
            "text/plain": [
              "        date   time  log_value  lead_ret   log_ret\n",
              "0 1927-12-30  17.66   2.871302  0.005647       NaN\n",
              "1 1928-01-03  17.76   2.876949 -0.002255  0.005647\n",
              "2 1928-01-04  17.72   2.874694 -0.009640 -0.002255\n",
              "3 1928-01-05  17.55   2.865054  0.006248 -0.009640\n",
              "4 1928-01-06  17.66   2.871302 -0.009101  0.006248"
            ]
          },
          "execution_count": 23,
          "metadata": {},
          "output_type": "execute_result"
        }
      ],
      "source": [
        "dataset['log_value'] = np.log(dataset['time'])\n",
        "\n",
        "dataset['lead_ret'] = dataset['log_value'].shift(-1)\n",
        "\n",
        "dataset['log_ret'] = dataset['log_value'] - dataset['log_value'].shift(+1)\n",
        "\n",
        "dataset['lead_ret'] = dataset['log_ret'].shift(-1)\n",
        "\n",
        "dataset.head()"
      ]
    }
  ],
  "metadata": {
    "colab": {
      "name": "LSTM Model 3ipynb",
      "provenance": [],
      "authorship_tag": "ABX9TyNBXDwi0i2SD8MoruSLm8k5",
      "include_colab_link": true
    },
    "kernelspec": {
      "display_name": "Python 3",
      "name": "python3"
    },
    "language_info": {
      "name": "python"
    }
  },
  "nbformat": 4,
  "nbformat_minor": 0
}